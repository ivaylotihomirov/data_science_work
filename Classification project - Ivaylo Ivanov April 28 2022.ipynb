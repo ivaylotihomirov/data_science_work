{
 "cells": [
  {
   "cell_type": "markdown",
   "metadata": {},
   "source": [
    "# Classification Project - Ivaylo Ivanov\n",
    "\n",
    "\n",
    "Regression outputs a continuous value while classification outputs one of several pre-defined classes. In the most simple way, the classes are only two. For example, if we want to detect whether there's a cat on an image, we can have two classes: \"cat\" and \"non-cat\".\n",
    "\n",
    "Explore the problem of classification. Implement and document one algorithm. Apply it to some real-world data. You can use the following checklist:\n",
    "\n",
    "Note: If your paper is about the algorithm, consider writing it from scratch, not reusing it from a library.\n",
    "\n",
    "1. What is supervised learning? What do supervised learning models do?\n",
    "2. What is regression? What is classification?\n",
    "3. What types of problems does classification solve directly?\n",
    "4. What types of problems can be reduced to classification?\n",
    "5. What's the difference between two-class and multi-class classification?\n",
    "6. Explore one algorithm for classification, e.g. logistic regression.\n",
    "7. State the problem clearly\n",
    "8. List all sssumptions of the modelling function\n",
    "9. Describe the process: distances, error function, total loss, gradient descent, etc.; as needed\n",
    "10. Implement the algorithm from scratch\n",
    "11. Select or generate a small dataset, suitable for classification. Run your algorithm as a sanity check\n",
    "12. Debug and solve any problems\n",
    "13. Waht is a confusion matrix?\n",
    "14. What metrics are used to score a classifier?\n",
    "15. Accuracy, Precision, Recall, others\n",
    "16. ROC curve, interpretation\n",
    "17. Select a real dataset\n",
    "18. Explore it to get acquainted with what information it contains\n",
    "19. Clean up the data if you need to do so\n",
    "20. Perform classification\n",
    "21. Score your classification model\n",
    "22. Use your classifier to predict\n",
    "23. Split the data into training and testing set\n",
    "24. Optionally, perform cross-validation\n",
    "25. Compare your implementation to another one, e.g. scikit-learn. They should give the same (or very similar) results\n",
    "26. Communicate the results on your dataset\n",
    "27. Optionally, publish your model on the Internet as a Web API"
   ]
  },
  {
   "cell_type": "markdown",
   "metadata": {},
   "source": [
    "# Models\n",
    "\n",
    "Supervised learning algorithms rely on some predefined labeling of data, which is used for the discovery of patterns. By contrast, unsupervised learning is a family of algorithms, which do not rely on labeling of data - the algorithm itself discovers the labeling. \n",
    "\n",
    "With regard to classification vs regression, regression tries to predict the value for a certain variable, whereas classification tries to predict the category which the observation would fall into. In some cases, it is more difficult to draw a line between classification and regression, as classification just involves regression with a threshold, which is used to delineate between the categories.\n",
    "\n",
    "The problems which classification can solve directly are linked to the need to distinguish between classes directly - for example, the famous Titanic competition on Kaggle, which aims for participants to predict whether passengers would survive based on a number of characteristics - passenger class, gender, age, etc. By contrast, there are other problems, which can be reduced to classification - for example, email spam filters, which rely on classification of emails into \"spam\" vs \"ham\".  \n",
    "\n",
    "# Binary vs Multi-class classification\n",
    "\n",
    "Binary, or two-class classification, involves classification and prediction involving only 2 categories - for example, we can classify if the predicted value is 0 or 1 (as in Logistic Regression). Usually, the 0 vs 1 is encoding for an underlying variable. Multi-class classification involves classifying an observation into 1 of multiple classes - an example of such problems is face recognition - we have (much) more than 2 categories, or classes to classify a person.\n",
    "\n"
   ]
  },
  {
   "cell_type": "markdown",
   "metadata": {},
   "source": [
    "# K-Nearest Neighbours (KNN) in detail"
   ]
  },
  {
   "cell_type": "markdown",
   "metadata": {},
   "source": [
    "One of the machine-learning algorithms which can be used for classification is K-Nearest Neighbours. K-Nearest Neighbours assumes that points that are of the same category, or classification, tend to cluster together. A simple representation of KNN is below - the plane is 2-dimensional, but the principle can still be illustrated with this:"
   ]
  },
  {
   "cell_type": "markdown",
   "metadata": {},
   "source": [
    "![Alt text](https://upload.wikimedia.org/wikipedia/commons/e/e9/Map1NNReducedDataSet.png) \n",
    "\n",
    "Source: https://commons.wikimedia.org/wiki/File:Map1NNReducedDataSet.png (Wikipedia)"
   ]
  },
  {
   "cell_type": "markdown",
   "metadata": {},
   "source": [
    "In general, KNN classifies points based on their distance to the chosen K points. There are several ways to calculate the distance - Euclidean distance, Minkowski distance, Manhattan distance, etc. The most popular distance method is Euclidean distance. Based on the Pythagorean formula, the straight-line distance (c) between points A and B is the square root of the sum of the sides (a and b) of a right-angled triangle:\n",
    "\n",
    "$$ c = \\sqrt{a^{2} + b^{2}} $$\n",
    "\n",
    "This can be represented as: $$ \\sqrt{(B_x - A_x)^{2} + (B_y - A_y)^2} $$ \n",
    "\n",
    "or in the general n-dimension case, this could be represented as: \n",
    "\n",
    "$$ \\sqrt{\\sum_{i=1}^n(B_i - A_i)^{2}} $$\n",
    "\n",
    "The output of the KNN prediction would be the mode of the labels, or classes, of the K nearest neighbours to any new datapoint. We can also use KNN for regression problems as well, and then the value of the regression prediction for a new datapoint would be an mean of the values of the k-nearest neighbors."
   ]
  },
  {
   "cell_type": "markdown",
   "metadata": {},
   "source": [
    "# Algorithm implementation"
   ]
  },
  {
   "cell_type": "markdown",
   "metadata": {},
   "source": [
    "The way the algorithm would be implemented would be as follows - first, we would need to choose the number of K. We would have the algorithm calculate the distance between the new point in the data and the K neighbors. The distances between the new point and all known points are tallied up in ascending order from shortest to longest, and the shortest K distances are selected (to correspond to the K nearest neighbours). For a classification problem, we need to return the mode of the K labels."
   ]
  },
  {
   "cell_type": "markdown",
   "metadata": {},
   "source": [
    "# Algorithm test"
   ]
  },
  {
   "cell_type": "markdown",
   "metadata": {},
   "source": [
    "In this stage, I will generate some fake numbers, and try to check the algorithm. We need to import KNeighborsClassifier as a first step."
   ]
  },
  {
   "cell_type": "code",
   "execution_count": 110,
   "metadata": {},
   "outputs": [],
   "source": [
    "from sklearn.neighbors import KNeighborsClassifier"
   ]
  },
  {
   "cell_type": "code",
   "execution_count": 111,
   "metadata": {},
   "outputs": [
    {
     "name": "stdout",
     "output_type": "stream",
     "text": [
      "[0 1]\n",
      "[0.33333333 0.66666667]\n"
     ]
    }
   ],
   "source": [
    "X = [[0], [1], [2], [3]]\n",
    "y = [0, 0, 1, 1]\n",
    "new_values = [[0.3],[18]]\n",
    "\n",
    "model = KNeighborsClassifier(n_neighbors=3)\n",
    "model.fit(X, y)\n",
    "predictions = model.predict(new_values)\n",
    "\n",
    "# this is to get the probability of a 1\n",
    "predict_probability_1 = model.predict_proba(new_values)[:,1]\n",
    "\n",
    "print(predictions)\n",
    "print(predict_probability_1)"
   ]
  },
  {
   "cell_type": "markdown",
   "metadata": {},
   "source": [
    "It seems like the model makes intuitive sense - it predicts 1 for a very high input value (18), and it predicts a 0 for a low input value (0)."
   ]
  },
  {
   "cell_type": "markdown",
   "metadata": {},
   "source": [
    "# Scoring how well the algorithm predicts"
   ]
  },
  {
   "cell_type": "markdown",
   "metadata": {},
   "source": [
    "We also need to take into account how well the algorithm predicts real data. The way to do that is with the help of several metrics, at least some of which map to the confusion matrix, which will be discussed first. \n",
    "\n",
    "- Confusion matrix\n",
    "\n",
    "The confusion matrix tells us what we predicted vs what really happened, and it features the following 4 quadrants:\n",
    "\n",
    "|            | Predicted No   | Predicted Yes  |\n",
    "|------------|----------------|----------------|\n",
    "| Actual No  | True Negative  | False Positive |\n",
    "| Actual Yes | False Negative | True Positive  |\n",
    "\n",
    "There are 4 metrics to be obtained from this - accuracy, precision, recall and F1.\n",
    "\n",
    "- Accuracy\n",
    "\n",
    "The definition of Accuracy is:\n",
    "\n",
    "$$ Accuracy=\\frac{true.positives+true.negatives}{true.positives+true.negatives+false.positives+false.negatives} $$\n",
    "\n",
    "The drawback of Accuracy is that in datasets, which are skewed towards 1 category, Accuracy will favor predictions which predict the dominant value. If we look at this from a minority perspective, not predicting a value from a minor category would mean that we are seriously off in predictions of that segment.\n",
    "\n",
    "- Precision\n",
    "\n",
    "The definition of Precision is:\n",
    "\n",
    "$$ Precision =\\frac{true.positives}{true.positives+false.positives} $$ \n",
    "\n",
    "- Recall\n",
    "\n",
    "The definition of Recall is:\n",
    "\n",
    "$$ Recall = \\frac{true.positives}{true.positives+false.negatives} $$\n",
    "\n",
    "Precision vs Recall represents a tradeoff, and the metric to choose depends on the use case. For example, in diagnosing life-threatening diseases, we are interested in minimizing the false negatives (cases where we predict that the patient does not have the disease, but he/she does). \n",
    "\n",
    "However, this is not black and white - this has to be put in the context of what the treatment is - if the treatment itself is difficult for the patient, we also need to take into account the rate of false positives as well.\n",
    "\n",
    "- F1\n",
    "\n",
    "The definition of F1 is:\n",
    "\n",
    "$$ F1 = \\frac{2*Precision*Recall}{Precision + Recall} $$\n",
    "\n",
    "In situations where both precision and recall are important, we can take both into account by using F1.\n",
    "\n",
    "- ROC curve\n",
    "\n",
    "The ROC curve is another metric to check the predictions of our model. It is a plot of the True Positive Rate vs the False Positive Rate calculated at different thresholds. The model performance is determined by looking at the area under the ROC curve."
   ]
  },
  {
   "cell_type": "markdown",
   "metadata": {},
   "source": [
    "# Real dataset"
   ]
  },
  {
   "cell_type": "markdown",
   "metadata": {},
   "source": [
    "In terms of a real dataset, I took the one from Kaggle - the one about classifying mushrooms: https://www.kaggle.com/datasets/uciml/mushroom-classification. The goal of this analysis would be to predict whether a mushroom is edible or poisonous.\n",
    "\n",
    "First, we need to read the data. I will put all my imports up on top."
   ]
  },
  {
   "cell_type": "code",
   "execution_count": 112,
   "metadata": {},
   "outputs": [],
   "source": [
    "import pandas as pd\n",
    "import numpy as np\n",
    "import seaborn as sns\n",
    "import matplotlib.pyplot as plt\n",
    "from sklearn.model_selection import train_test_split\n",
    "from sklearn.metrics import accuracy_score\n",
    "from sklearn.metrics import confusion_matrix\n",
    "from sklearn.metrics import precision_score\n",
    "from sklearn.metrics import recall_score\n",
    "from sklearn.linear_model import LogisticRegression"
   ]
  },
  {
   "cell_type": "code",
   "execution_count": 113,
   "metadata": {},
   "outputs": [
    {
     "name": "stdout",
     "output_type": "stream",
     "text": [
      "  class cap-shape cap-surface cap-color bruises odor gill-attachment  \\\n",
      "0     p         x           s         n       t    p               f   \n",
      "1     e         x           s         y       t    a               f   \n",
      "2     e         b           s         w       t    l               f   \n",
      "3     p         x           y         w       t    p               f   \n",
      "4     e         x           s         g       f    n               f   \n",
      "\n",
      "  gill-spacing gill-size gill-color  ... stalk-surface-below-ring  \\\n",
      "0            c         n          k  ...                        s   \n",
      "1            c         b          k  ...                        s   \n",
      "2            c         b          n  ...                        s   \n",
      "3            c         n          n  ...                        s   \n",
      "4            w         b          k  ...                        s   \n",
      "\n",
      "  stalk-color-above-ring stalk-color-below-ring veil-type veil-color  \\\n",
      "0                      w                      w         p          w   \n",
      "1                      w                      w         p          w   \n",
      "2                      w                      w         p          w   \n",
      "3                      w                      w         p          w   \n",
      "4                      w                      w         p          w   \n",
      "\n",
      "  ring-number ring-type spore-print-color population habitat  \n",
      "0           o         p                 k          s       u  \n",
      "1           o         p                 n          n       g  \n",
      "2           o         p                 n          n       m  \n",
      "3           o         p                 k          s       u  \n",
      "4           o         e                 n          a       g  \n",
      "\n",
      "[5 rows x 23 columns]\n"
     ]
    }
   ],
   "source": [
    "data = pd.read_csv('/Users/ivaylo.ivanov/Downloads/mushrooms.csv')\n",
    "print(data.head())"
   ]
  },
  {
   "cell_type": "markdown",
   "metadata": {},
   "source": [
    "Some attribute information, copied from the file, is here:\n",
    "\n",
    "- **class: edible=e, poisonous=p (this is the variable to be explained)**\n",
    "- cap-shape: bell=b,conical=c,convex=x,flat=f, knobbed=k,sunken=s\n",
    "- cap-surface: fibrous=f,grooves=g,scaly=y,smooth=s\n",
    "- cap-color: brown=n,buff=b,cinnamon=c,gray=g,green=r,pink=p,purple=u,red=e,white=w,yellow=y\n",
    "- bruises: bruises=t,no=f\n",
    "- odor: almond=a,anise=l,creosote=c,fishy=y,foul=f,musty=m,none=n,pungent=p,spicy=s\n",
    "- gill-attachment: attached=a,descending=d,free=f,notched=n\n",
    "- gill-spacing: close=c,crowded=w,distant=d\n",
    "- gill-size: broad=b,narrow=n\n",
    "- gill-color: black=k,brown=n,buff=b,chocolate=h,gray=g, green=r,orange=o,pink=p,purple=u,red=e,white=w,yellow=y\n",
    "- stalk-shape: enlarging=e,tapering=t\n",
    "- stalk-root: bulbous=b,club=c,cup=u,equal=e,rhizomorphs=z,rooted=r,missing=?\n",
    "- stalk-surface-above-ring: fibrous=f,scaly=y,silky=k,smooth=s\n",
    "- stalk-surface-below-ring: fibrous=f,scaly=y,silky=k,smooth=s\n",
    "- stalk-color-above-ring: brown=n,buff=b,cinnamon=c,gray=g,orange=o,pink=p,red=e,white=w,yellow=y\n",
    "- stalk-color-below-ring: brown=n,buff=b,cinnamon=c,gray=g,orange=o,pink=p,red=e,white=w,yellow=y\n",
    "- veil-type: partial=p,universal=u\n",
    "- veil-color: brown=n,orange=o,white=w,yellow=y\n",
    "- ring-number: none=n,one=o,two=t\n",
    "- ring-type: cobwebby=c,evanescent=e,flaring=f,large=l,none=n,pendant=p,sheathing=s,zone=z\n",
    "- spore-print-color: black=k,brown=n,buff=b,chocolate=h,green=r,orange=o,purple=u,white=w,yellow=y\n",
    "- population: abundant=a,clustered=c,numerous=n,scattered=s,several=v,solitary=y\n",
    "- habitat: grasses=g,leaves=l,meadows=m,paths=p,urban=u,waste=w,woods=d"
   ]
  },
  {
   "cell_type": "markdown",
   "metadata": {},
   "source": [
    "Exploring the dataset further:"
   ]
  },
  {
   "cell_type": "code",
   "execution_count": 114,
   "metadata": {},
   "outputs": [
    {
     "name": "stdout",
     "output_type": "stream",
     "text": [
      "<class 'pandas.core.frame.DataFrame'>\n",
      "RangeIndex: 8124 entries, 0 to 8123\n",
      "Data columns (total 23 columns):\n",
      " #   Column                    Non-Null Count  Dtype \n",
      "---  ------                    --------------  ----- \n",
      " 0   class                     8124 non-null   object\n",
      " 1   cap-shape                 8124 non-null   object\n",
      " 2   cap-surface               8124 non-null   object\n",
      " 3   cap-color                 8124 non-null   object\n",
      " 4   bruises                   8124 non-null   object\n",
      " 5   odor                      8124 non-null   object\n",
      " 6   gill-attachment           8124 non-null   object\n",
      " 7   gill-spacing              8124 non-null   object\n",
      " 8   gill-size                 8124 non-null   object\n",
      " 9   gill-color                8124 non-null   object\n",
      " 10  stalk-shape               8124 non-null   object\n",
      " 11  stalk-root                8124 non-null   object\n",
      " 12  stalk-surface-above-ring  8124 non-null   object\n",
      " 13  stalk-surface-below-ring  8124 non-null   object\n",
      " 14  stalk-color-above-ring    8124 non-null   object\n",
      " 15  stalk-color-below-ring    8124 non-null   object\n",
      " 16  veil-type                 8124 non-null   object\n",
      " 17  veil-color                8124 non-null   object\n",
      " 18  ring-number               8124 non-null   object\n",
      " 19  ring-type                 8124 non-null   object\n",
      " 20  spore-print-color         8124 non-null   object\n",
      " 21  population                8124 non-null   object\n",
      " 22  habitat                   8124 non-null   object\n",
      "dtypes: object(23)\n",
      "memory usage: 1.4+ MB\n"
     ]
    }
   ],
   "source": [
    "data.info()"
   ]
  },
  {
   "cell_type": "code",
   "execution_count": 115,
   "metadata": {
    "scrolled": true
   },
   "outputs": [
    {
     "data": {
      "text/html": [
       "<div>\n",
       "<style scoped>\n",
       "    .dataframe tbody tr th:only-of-type {\n",
       "        vertical-align: middle;\n",
       "    }\n",
       "\n",
       "    .dataframe tbody tr th {\n",
       "        vertical-align: top;\n",
       "    }\n",
       "\n",
       "    .dataframe thead th {\n",
       "        text-align: right;\n",
       "    }\n",
       "</style>\n",
       "<table border=\"1\" class=\"dataframe\">\n",
       "  <thead>\n",
       "    <tr style=\"text-align: right;\">\n",
       "      <th></th>\n",
       "      <th>class</th>\n",
       "      <th>cap-shape</th>\n",
       "      <th>cap-surface</th>\n",
       "      <th>cap-color</th>\n",
       "      <th>bruises</th>\n",
       "      <th>odor</th>\n",
       "      <th>gill-attachment</th>\n",
       "      <th>gill-spacing</th>\n",
       "      <th>gill-size</th>\n",
       "      <th>gill-color</th>\n",
       "      <th>...</th>\n",
       "      <th>stalk-surface-below-ring</th>\n",
       "      <th>stalk-color-above-ring</th>\n",
       "      <th>stalk-color-below-ring</th>\n",
       "      <th>veil-type</th>\n",
       "      <th>veil-color</th>\n",
       "      <th>ring-number</th>\n",
       "      <th>ring-type</th>\n",
       "      <th>spore-print-color</th>\n",
       "      <th>population</th>\n",
       "      <th>habitat</th>\n",
       "    </tr>\n",
       "  </thead>\n",
       "  <tbody>\n",
       "    <tr>\n",
       "      <th>count</th>\n",
       "      <td>8124</td>\n",
       "      <td>8124</td>\n",
       "      <td>8124</td>\n",
       "      <td>8124</td>\n",
       "      <td>8124</td>\n",
       "      <td>8124</td>\n",
       "      <td>8124</td>\n",
       "      <td>8124</td>\n",
       "      <td>8124</td>\n",
       "      <td>8124</td>\n",
       "      <td>...</td>\n",
       "      <td>8124</td>\n",
       "      <td>8124</td>\n",
       "      <td>8124</td>\n",
       "      <td>8124</td>\n",
       "      <td>8124</td>\n",
       "      <td>8124</td>\n",
       "      <td>8124</td>\n",
       "      <td>8124</td>\n",
       "      <td>8124</td>\n",
       "      <td>8124</td>\n",
       "    </tr>\n",
       "    <tr>\n",
       "      <th>unique</th>\n",
       "      <td>2</td>\n",
       "      <td>6</td>\n",
       "      <td>4</td>\n",
       "      <td>10</td>\n",
       "      <td>2</td>\n",
       "      <td>9</td>\n",
       "      <td>2</td>\n",
       "      <td>2</td>\n",
       "      <td>2</td>\n",
       "      <td>12</td>\n",
       "      <td>...</td>\n",
       "      <td>4</td>\n",
       "      <td>9</td>\n",
       "      <td>9</td>\n",
       "      <td>1</td>\n",
       "      <td>4</td>\n",
       "      <td>3</td>\n",
       "      <td>5</td>\n",
       "      <td>9</td>\n",
       "      <td>6</td>\n",
       "      <td>7</td>\n",
       "    </tr>\n",
       "    <tr>\n",
       "      <th>top</th>\n",
       "      <td>e</td>\n",
       "      <td>x</td>\n",
       "      <td>y</td>\n",
       "      <td>n</td>\n",
       "      <td>f</td>\n",
       "      <td>n</td>\n",
       "      <td>f</td>\n",
       "      <td>c</td>\n",
       "      <td>b</td>\n",
       "      <td>b</td>\n",
       "      <td>...</td>\n",
       "      <td>s</td>\n",
       "      <td>w</td>\n",
       "      <td>w</td>\n",
       "      <td>p</td>\n",
       "      <td>w</td>\n",
       "      <td>o</td>\n",
       "      <td>p</td>\n",
       "      <td>w</td>\n",
       "      <td>v</td>\n",
       "      <td>d</td>\n",
       "    </tr>\n",
       "    <tr>\n",
       "      <th>freq</th>\n",
       "      <td>4208</td>\n",
       "      <td>3656</td>\n",
       "      <td>3244</td>\n",
       "      <td>2284</td>\n",
       "      <td>4748</td>\n",
       "      <td>3528</td>\n",
       "      <td>7914</td>\n",
       "      <td>6812</td>\n",
       "      <td>5612</td>\n",
       "      <td>1728</td>\n",
       "      <td>...</td>\n",
       "      <td>4936</td>\n",
       "      <td>4464</td>\n",
       "      <td>4384</td>\n",
       "      <td>8124</td>\n",
       "      <td>7924</td>\n",
       "      <td>7488</td>\n",
       "      <td>3968</td>\n",
       "      <td>2388</td>\n",
       "      <td>4040</td>\n",
       "      <td>3148</td>\n",
       "    </tr>\n",
       "  </tbody>\n",
       "</table>\n",
       "<p>4 rows × 23 columns</p>\n",
       "</div>"
      ],
      "text/plain": [
       "       class cap-shape cap-surface cap-color bruises  odor gill-attachment  \\\n",
       "count   8124      8124        8124      8124    8124  8124            8124   \n",
       "unique     2         6           4        10       2     9               2   \n",
       "top        e         x           y         n       f     n               f   \n",
       "freq    4208      3656        3244      2284    4748  3528            7914   \n",
       "\n",
       "       gill-spacing gill-size gill-color  ... stalk-surface-below-ring  \\\n",
       "count          8124      8124       8124  ...                     8124   \n",
       "unique            2         2         12  ...                        4   \n",
       "top               c         b          b  ...                        s   \n",
       "freq           6812      5612       1728  ...                     4936   \n",
       "\n",
       "       stalk-color-above-ring stalk-color-below-ring veil-type veil-color  \\\n",
       "count                    8124                   8124      8124       8124   \n",
       "unique                      9                      9         1          4   \n",
       "top                         w                      w         p          w   \n",
       "freq                     4464                   4384      8124       7924   \n",
       "\n",
       "       ring-number ring-type spore-print-color population habitat  \n",
       "count         8124      8124              8124       8124    8124  \n",
       "unique           3         5                 9          6       7  \n",
       "top              o         p                 w          v       d  \n",
       "freq          7488      3968              2388       4040    3148  \n",
       "\n",
       "[4 rows x 23 columns]"
      ]
     },
     "execution_count": 115,
     "metadata": {},
     "output_type": "execute_result"
    }
   ],
   "source": [
    "data.describe()"
   ]
  },
  {
   "cell_type": "markdown",
   "metadata": {},
   "source": [
    "It seems like we have 23 columns in the dataset, and 8,124 observations. "
   ]
  },
  {
   "cell_type": "markdown",
   "metadata": {},
   "source": [
    "First, we need to transform the target column of the dataset - class - into containing 0 and 1s. We will encode edible/e as 0 and poisonous/p as 1."
   ]
  },
  {
   "cell_type": "code",
   "execution_count": 116,
   "metadata": {},
   "outputs": [
    {
     "name": "stdout",
     "output_type": "stream",
     "text": [
      "   class cap-shape cap-surface cap-color bruises odor gill-attachment  \\\n",
      "0      1         x           s         n       t    p               f   \n",
      "1      0         x           s         y       t    a               f   \n",
      "2      0         b           s         w       t    l               f   \n",
      "3      1         x           y         w       t    p               f   \n",
      "4      0         x           s         g       f    n               f   \n",
      "\n",
      "  gill-spacing gill-size gill-color  ... stalk-surface-below-ring  \\\n",
      "0            c         n          k  ...                        s   \n",
      "1            c         b          k  ...                        s   \n",
      "2            c         b          n  ...                        s   \n",
      "3            c         n          n  ...                        s   \n",
      "4            w         b          k  ...                        s   \n",
      "\n",
      "  stalk-color-above-ring stalk-color-below-ring veil-type veil-color  \\\n",
      "0                      w                      w         p          w   \n",
      "1                      w                      w         p          w   \n",
      "2                      w                      w         p          w   \n",
      "3                      w                      w         p          w   \n",
      "4                      w                      w         p          w   \n",
      "\n",
      "  ring-number ring-type spore-print-color population habitat  \n",
      "0           o         p                 k          s       u  \n",
      "1           o         p                 n          n       g  \n",
      "2           o         p                 n          n       m  \n",
      "3           o         p                 k          s       u  \n",
      "4           o         e                 n          a       g  \n",
      "\n",
      "[5 rows x 23 columns]\n",
      "<class 'pandas.core.frame.DataFrame'>\n",
      "RangeIndex: 8124 entries, 0 to 8123\n",
      "Data columns (total 23 columns):\n",
      " #   Column                    Non-Null Count  Dtype \n",
      "---  ------                    --------------  ----- \n",
      " 0   class                     8124 non-null   int64 \n",
      " 1   cap-shape                 8124 non-null   object\n",
      " 2   cap-surface               8124 non-null   object\n",
      " 3   cap-color                 8124 non-null   object\n",
      " 4   bruises                   8124 non-null   object\n",
      " 5   odor                      8124 non-null   object\n",
      " 6   gill-attachment           8124 non-null   object\n",
      " 7   gill-spacing              8124 non-null   object\n",
      " 8   gill-size                 8124 non-null   object\n",
      " 9   gill-color                8124 non-null   object\n",
      " 10  stalk-shape               8124 non-null   object\n",
      " 11  stalk-root                8124 non-null   object\n",
      " 12  stalk-surface-above-ring  8124 non-null   object\n",
      " 13  stalk-surface-below-ring  8124 non-null   object\n",
      " 14  stalk-color-above-ring    8124 non-null   object\n",
      " 15  stalk-color-below-ring    8124 non-null   object\n",
      " 16  veil-type                 8124 non-null   object\n",
      " 17  veil-color                8124 non-null   object\n",
      " 18  ring-number               8124 non-null   object\n",
      " 19  ring-type                 8124 non-null   object\n",
      " 20  spore-print-color         8124 non-null   object\n",
      " 21  population                8124 non-null   object\n",
      " 22  habitat                   8124 non-null   object\n",
      "dtypes: int64(1), object(22)\n",
      "memory usage: 1.4+ MB\n"
     ]
    }
   ],
   "source": [
    "data['class'] = data['class'].str.replace(\"e\",\"0\").str.replace(\"p\",\"1\").astype('int')\n",
    "print(data.head())\n",
    "data.info()"
   ]
  },
  {
   "cell_type": "markdown",
   "metadata": {},
   "source": [
    "We can see that all of the variables, including the target variables, are categorical values. We cannot work with these directly, and we should not directly transform each of the categories into numbers, as this would imply some relationship between these - for example, if we encode grasses=g as 0, leaves=l as 1, etc, this would imply that leaves are more than grasses, which does not make sense. This is why these would need to be represented with dummy variables."
   ]
  },
  {
   "cell_type": "code",
   "execution_count": 117,
   "metadata": {},
   "outputs": [
    {
     "name": "stdout",
     "output_type": "stream",
     "text": [
      "['class', 'cap-shape', 'cap-surface', 'cap-color', 'bruises', 'odor', 'gill-attachment', 'gill-spacing', 'gill-size', 'gill-color', 'stalk-shape', 'stalk-root', 'stalk-surface-above-ring', 'stalk-surface-below-ring', 'stalk-color-above-ring', 'stalk-color-below-ring', 'veil-type', 'veil-color', 'ring-number', 'ring-type', 'spore-print-color', 'population', 'habitat']\n",
      "\n",
      "\n",
      "['cap-shape', 'cap-surface', 'cap-color', 'bruises', 'odor', 'gill-attachment', 'gill-spacing', 'gill-size', 'gill-color', 'stalk-shape', 'stalk-root', 'stalk-surface-above-ring', 'stalk-surface-below-ring', 'stalk-color-above-ring', 'stalk-color-below-ring', 'veil-type', 'veil-color', 'ring-number', 'ring-type', 'spore-print-color', 'population', 'habitat']\n"
     ]
    }
   ],
   "source": [
    "# need to transform all variables to dummies, except class\n",
    "\n",
    "column_names = data.columns.values.tolist()\n",
    "print(column_names)\n",
    "\n",
    "print('\\n')\n",
    "\n",
    "column_names_except_class = column_names[1:]\n",
    "print(column_names_except_class)"
   ]
  },
  {
   "cell_type": "code",
   "execution_count": 118,
   "metadata": {},
   "outputs": [
    {
     "name": "stdout",
     "output_type": "stream",
     "text": [
      "   class cap-shape cap-surface cap-color bruises odor gill-attachment  \\\n",
      "0      1         x           s         n       t    p               f   \n",
      "1      0         x           s         y       t    a               f   \n",
      "2      0         b           s         w       t    l               f   \n",
      "3      1         x           y         w       t    p               f   \n",
      "4      0         x           s         g       f    n               f   \n",
      "\n",
      "  gill-spacing gill-size gill-color  ... stalk-surface-below-ring  \\\n",
      "0            c         n          k  ...                        s   \n",
      "1            c         b          k  ...                        s   \n",
      "2            c         b          n  ...                        s   \n",
      "3            c         n          n  ...                        s   \n",
      "4            w         b          k  ...                        s   \n",
      "\n",
      "  stalk-color-above-ring stalk-color-below-ring veil-type veil-color  \\\n",
      "0                      w                      w         p          w   \n",
      "1                      w                      w         p          w   \n",
      "2                      w                      w         p          w   \n",
      "3                      w                      w         p          w   \n",
      "4                      w                      w         p          w   \n",
      "\n",
      "  ring-number ring-type spore-print-color population habitat  \n",
      "0           o         p                 k          s       u  \n",
      "1           o         p                 n          n       g  \n",
      "2           o         p                 n          n       m  \n",
      "3           o         p                 k          s       u  \n",
      "4           o         e                 n          a       g  \n",
      "\n",
      "[5 rows x 23 columns]\n",
      "\n",
      "\n",
      "   class  cap-shape_c  cap-shape_f  cap-shape_k  cap-shape_s  cap-shape_x  \\\n",
      "0      1            0            0            0            0            1   \n",
      "1      0            0            0            0            0            1   \n",
      "2      0            0            0            0            0            0   \n",
      "3      1            0            0            0            0            1   \n",
      "4      0            0            0            0            0            1   \n",
      "\n",
      "   cap-surface_g  cap-surface_s  cap-surface_y  cap-color_c  ...  \\\n",
      "0              0              1              0            0  ...   \n",
      "1              0              1              0            0  ...   \n",
      "2              0              1              0            0  ...   \n",
      "3              0              0              1            0  ...   \n",
      "4              0              1              0            0  ...   \n",
      "\n",
      "   population_n  population_s  population_v  population_y  habitat_g  \\\n",
      "0             0             1             0             0          0   \n",
      "1             1             0             0             0          1   \n",
      "2             1             0             0             0          0   \n",
      "3             0             1             0             0          0   \n",
      "4             0             0             0             0          1   \n",
      "\n",
      "   habitat_l  habitat_m  habitat_p  habitat_u  habitat_w  \n",
      "0          0          0          0          1          0  \n",
      "1          0          0          0          0          0  \n",
      "2          0          1          0          0          0  \n",
      "3          0          0          0          1          0  \n",
      "4          0          0          0          0          0  \n",
      "\n",
      "[5 rows x 96 columns]\n"
     ]
    }
   ],
   "source": [
    "data_dummies = pd.get_dummies(data, columns = column_names_except_class, drop_first=True)\n",
    "\n",
    "print(data.head())\n",
    "print('\\n')\n",
    "print(data_dummies.head())"
   ]
  },
  {
   "cell_type": "code",
   "execution_count": 119,
   "metadata": {},
   "outputs": [
    {
     "name": "stdout",
     "output_type": "stream",
     "text": [
      "<class 'pandas.core.frame.DataFrame'>\n",
      "RangeIndex: 8124 entries, 0 to 8123\n",
      "Data columns (total 96 columns):\n",
      " #   Column                      Non-Null Count  Dtype\n",
      "---  ------                      --------------  -----\n",
      " 0   class                       8124 non-null   int64\n",
      " 1   cap-shape_c                 8124 non-null   uint8\n",
      " 2   cap-shape_f                 8124 non-null   uint8\n",
      " 3   cap-shape_k                 8124 non-null   uint8\n",
      " 4   cap-shape_s                 8124 non-null   uint8\n",
      " 5   cap-shape_x                 8124 non-null   uint8\n",
      " 6   cap-surface_g               8124 non-null   uint8\n",
      " 7   cap-surface_s               8124 non-null   uint8\n",
      " 8   cap-surface_y               8124 non-null   uint8\n",
      " 9   cap-color_c                 8124 non-null   uint8\n",
      " 10  cap-color_e                 8124 non-null   uint8\n",
      " 11  cap-color_g                 8124 non-null   uint8\n",
      " 12  cap-color_n                 8124 non-null   uint8\n",
      " 13  cap-color_p                 8124 non-null   uint8\n",
      " 14  cap-color_r                 8124 non-null   uint8\n",
      " 15  cap-color_u                 8124 non-null   uint8\n",
      " 16  cap-color_w                 8124 non-null   uint8\n",
      " 17  cap-color_y                 8124 non-null   uint8\n",
      " 18  bruises_t                   8124 non-null   uint8\n",
      " 19  odor_c                      8124 non-null   uint8\n",
      " 20  odor_f                      8124 non-null   uint8\n",
      " 21  odor_l                      8124 non-null   uint8\n",
      " 22  odor_m                      8124 non-null   uint8\n",
      " 23  odor_n                      8124 non-null   uint8\n",
      " 24  odor_p                      8124 non-null   uint8\n",
      " 25  odor_s                      8124 non-null   uint8\n",
      " 26  odor_y                      8124 non-null   uint8\n",
      " 27  gill-attachment_f           8124 non-null   uint8\n",
      " 28  gill-spacing_w              8124 non-null   uint8\n",
      " 29  gill-size_n                 8124 non-null   uint8\n",
      " 30  gill-color_e                8124 non-null   uint8\n",
      " 31  gill-color_g                8124 non-null   uint8\n",
      " 32  gill-color_h                8124 non-null   uint8\n",
      " 33  gill-color_k                8124 non-null   uint8\n",
      " 34  gill-color_n                8124 non-null   uint8\n",
      " 35  gill-color_o                8124 non-null   uint8\n",
      " 36  gill-color_p                8124 non-null   uint8\n",
      " 37  gill-color_r                8124 non-null   uint8\n",
      " 38  gill-color_u                8124 non-null   uint8\n",
      " 39  gill-color_w                8124 non-null   uint8\n",
      " 40  gill-color_y                8124 non-null   uint8\n",
      " 41  stalk-shape_t               8124 non-null   uint8\n",
      " 42  stalk-root_b                8124 non-null   uint8\n",
      " 43  stalk-root_c                8124 non-null   uint8\n",
      " 44  stalk-root_e                8124 non-null   uint8\n",
      " 45  stalk-root_r                8124 non-null   uint8\n",
      " 46  stalk-surface-above-ring_k  8124 non-null   uint8\n",
      " 47  stalk-surface-above-ring_s  8124 non-null   uint8\n",
      " 48  stalk-surface-above-ring_y  8124 non-null   uint8\n",
      " 49  stalk-surface-below-ring_k  8124 non-null   uint8\n",
      " 50  stalk-surface-below-ring_s  8124 non-null   uint8\n",
      " 51  stalk-surface-below-ring_y  8124 non-null   uint8\n",
      " 52  stalk-color-above-ring_c    8124 non-null   uint8\n",
      " 53  stalk-color-above-ring_e    8124 non-null   uint8\n",
      " 54  stalk-color-above-ring_g    8124 non-null   uint8\n",
      " 55  stalk-color-above-ring_n    8124 non-null   uint8\n",
      " 56  stalk-color-above-ring_o    8124 non-null   uint8\n",
      " 57  stalk-color-above-ring_p    8124 non-null   uint8\n",
      " 58  stalk-color-above-ring_w    8124 non-null   uint8\n",
      " 59  stalk-color-above-ring_y    8124 non-null   uint8\n",
      " 60  stalk-color-below-ring_c    8124 non-null   uint8\n",
      " 61  stalk-color-below-ring_e    8124 non-null   uint8\n",
      " 62  stalk-color-below-ring_g    8124 non-null   uint8\n",
      " 63  stalk-color-below-ring_n    8124 non-null   uint8\n",
      " 64  stalk-color-below-ring_o    8124 non-null   uint8\n",
      " 65  stalk-color-below-ring_p    8124 non-null   uint8\n",
      " 66  stalk-color-below-ring_w    8124 non-null   uint8\n",
      " 67  stalk-color-below-ring_y    8124 non-null   uint8\n",
      " 68  veil-color_o                8124 non-null   uint8\n",
      " 69  veil-color_w                8124 non-null   uint8\n",
      " 70  veil-color_y                8124 non-null   uint8\n",
      " 71  ring-number_o               8124 non-null   uint8\n",
      " 72  ring-number_t               8124 non-null   uint8\n",
      " 73  ring-type_f                 8124 non-null   uint8\n",
      " 74  ring-type_l                 8124 non-null   uint8\n",
      " 75  ring-type_n                 8124 non-null   uint8\n",
      " 76  ring-type_p                 8124 non-null   uint8\n",
      " 77  spore-print-color_h         8124 non-null   uint8\n",
      " 78  spore-print-color_k         8124 non-null   uint8\n",
      " 79  spore-print-color_n         8124 non-null   uint8\n",
      " 80  spore-print-color_o         8124 non-null   uint8\n",
      " 81  spore-print-color_r         8124 non-null   uint8\n",
      " 82  spore-print-color_u         8124 non-null   uint8\n",
      " 83  spore-print-color_w         8124 non-null   uint8\n",
      " 84  spore-print-color_y         8124 non-null   uint8\n",
      " 85  population_c                8124 non-null   uint8\n",
      " 86  population_n                8124 non-null   uint8\n",
      " 87  population_s                8124 non-null   uint8\n",
      " 88  population_v                8124 non-null   uint8\n",
      " 89  population_y                8124 non-null   uint8\n",
      " 90  habitat_g                   8124 non-null   uint8\n",
      " 91  habitat_l                   8124 non-null   uint8\n",
      " 92  habitat_m                   8124 non-null   uint8\n",
      " 93  habitat_p                   8124 non-null   uint8\n",
      " 94  habitat_u                   8124 non-null   uint8\n",
      " 95  habitat_w                   8124 non-null   uint8\n",
      "dtypes: int64(1), uint8(95)\n",
      "memory usage: 817.3 KB\n"
     ]
    }
   ],
   "source": [
    "data_dummies.info()"
   ]
  },
  {
   "cell_type": "markdown",
   "metadata": {},
   "source": [
    "As a next step, we need to find the variables with highest correlations (positive or negative) with class, so that we can narrow down the variables for the KNeighborsClassifier. In order to do that, I need to build the correlation matrix:"
   ]
  },
  {
   "cell_type": "code",
   "execution_count": 120,
   "metadata": {},
   "outputs": [
    {
     "name": "stdout",
     "output_type": "stream",
     "text": [
      "                class  cap-shape_c  cap-shape_f  cap-shape_k  cap-shape_s  \\\n",
      "class        1.000000     0.023007     0.018526     0.163565    -0.060664   \n",
      "cap-shape_c  0.023007     1.000000    -0.017672    -0.007477    -0.001396   \n",
      "cap-shape_f  0.018526    -0.017672     1.000000    -0.268226    -0.050070   \n",
      "cap-shape_k  0.163565    -0.007477    -0.268226     1.000000    -0.021185   \n",
      "cap-shape_s -0.060664    -0.001396    -0.050070    -0.021185     1.000000   \n",
      "...               ...          ...          ...          ...          ...   \n",
      "habitat_l    0.155150     0.065707    -0.052326     0.235108    -0.021242   \n",
      "habitat_m   -0.138627    -0.004286    -0.129312    -0.065047    -0.012142   \n",
      "habitat_p    0.323346    -0.008985     0.021891     0.090538    -0.025458   \n",
      "habitat_u    0.112078    -0.004835     0.030636    -0.073380     0.288697   \n",
      "habitat_w   -0.150087    -0.003453    -0.017450     0.119003    -0.009784   \n",
      "\n",
      "             cap-shape_x  cap-surface_g  cap-surface_s  cap-surface_y  \\\n",
      "class          -0.026886       0.023007       0.095454       0.088677   \n",
      "cap-shape_c    -0.020077       0.249631      -0.015038       0.015893   \n",
      "cap-shape_f    -0.720235      -0.006285      -0.093397       0.029076   \n",
      "cap-shape_k    -0.304733       0.010863       0.137988       0.015261   \n",
      "cap-shape_s    -0.056884      -0.001396      -0.042607      -0.051272   \n",
      "...                  ...            ...            ...            ...   \n",
      "habitat_l      -0.096639       0.065707       0.190799      -0.006819   \n",
      "habitat_m      -0.004529      -0.004286       0.077081       0.039697   \n",
      "habitat_p      -0.029042      -0.008985      -0.039574       0.117915   \n",
      "habitat_u       0.002845      -0.004835       0.117548      -0.100248   \n",
      "habitat_w      -0.036493      -0.003453       0.062109       0.031986   \n",
      "\n",
      "             cap-color_c  ...  population_n  population_s  population_v  \\\n",
      "class          -0.030910  ...     -0.219529     -0.159572      0.443722   \n",
      "cap-shape_c    -0.001638  ...     -0.005051     -0.009456     -0.022075   \n",
      "cap-shape_f    -0.003687  ...     -0.181191     -0.075804      0.034625   \n",
      "cap-shape_k     0.041662  ...      0.013599     -0.089360      0.172707   \n",
      "cap-shape_s    -0.004641  ...     -0.014311     -0.026791      0.000341   \n",
      "...                  ...  ...           ...           ...           ...   \n",
      "habitat_l       0.107833  ...     -0.076868     -0.143906      0.248675   \n",
      "habitat_m      -0.014249  ...      0.347262      0.152473     -0.144434   \n",
      "habitat_p       0.008698  ...     -0.092129     -0.125366      0.169228   \n",
      "habitat_u      -0.016074  ...     -0.049569      0.130450      0.001180   \n",
      "habitat_w      -0.011481  ...     -0.035405     -0.066282     -0.154742   \n",
      "\n",
      "             population_y  habitat_g  habitat_l  habitat_m  habitat_p  \\\n",
      "class           -0.107055  -0.165004   0.155150  -0.138627   0.323346   \n",
      "cap-shape_c     -0.011469  -0.013306   0.065707  -0.004286  -0.008985   \n",
      "cap-shape_f      0.111346  -0.017982  -0.052326  -0.129312   0.021891   \n",
      "cap-shape_k     -0.170081  -0.113404   0.235108  -0.065047   0.090538   \n",
      "cap-shape_s      0.044603  -0.037702  -0.021242  -0.012142  -0.025458   \n",
      "...                   ...        ...        ...        ...        ...   \n",
      "habitat_l       -0.174539  -0.202512   1.000000  -0.065222  -0.136749   \n",
      "habitat_m       -0.099772  -0.115762  -0.065222   1.000000  -0.078170   \n",
      "habitat_p        0.040714  -0.242715  -0.136749  -0.078170   1.000000   \n",
      "habitat_u       -0.042888  -0.130592  -0.073577  -0.042059  -0.088184   \n",
      "habitat_w       -0.080392  -0.093276  -0.052553  -0.030041  -0.062986   \n",
      "\n",
      "             habitat_u  habitat_w  \n",
      "class         0.112078  -0.150087  \n",
      "cap-shape_c  -0.004835  -0.003453  \n",
      "cap-shape_f   0.030636  -0.017450  \n",
      "cap-shape_k  -0.073380   0.119003  \n",
      "cap-shape_s   0.288697  -0.009784  \n",
      "...                ...        ...  \n",
      "habitat_l    -0.073577  -0.052553  \n",
      "habitat_m    -0.042059  -0.030041  \n",
      "habitat_p    -0.088184  -0.062986  \n",
      "habitat_u     1.000000  -0.033889  \n",
      "habitat_w    -0.033889   1.000000  \n",
      "\n",
      "[96 rows x 96 columns]\n"
     ]
    }
   ],
   "source": [
    "corr_matrix = data_dummies.corr()\n",
    "print(corr_matrix)"
   ]
  },
  {
   "cell_type": "markdown",
   "metadata": {},
   "source": [
    "and visualize it with Seaborn:"
   ]
  },
  {
   "cell_type": "code",
   "execution_count": 121,
   "metadata": {},
   "outputs": [
    {
     "data": {
      "image/png": "[encoded data removed]",
      "text/plain": [
       "<Figure size 432x288 with 2 Axes>"
      ]
     },
     "metadata": {
      "needs_background": "light"
     },
     "output_type": "display_data"
    }
   ],
   "source": [
    "sns.heatmap(corr_matrix, cmap='vlag')\n",
    "plt.show()"
   ]
  },
  {
   "cell_type": "markdown",
   "metadata": {},
   "source": [
    "There are a lot of correlations - we would need to show only some of them - I have chosen an arbitrary threshold of 0.5 (we will get the correlations higher than 0.5 and lower than -0.5."
   ]
  },
  {
   "cell_type": "code",
   "execution_count": 122,
   "metadata": {
    "scrolled": false
   },
   "outputs": [
    {
     "name": "stdout",
     "output_type": "stream",
     "text": [
      "class                         1.000000\n",
      "odor_f                        0.623842\n",
      "stalk-surface-above-ring_k    0.587658\n",
      "stalk-surface-below-ring_k    0.573524\n",
      "gill-size_n                   0.540024\n",
      "spore-print-color_h           0.490229\n",
      "ring-type_l                   0.451619\n",
      "population_v                  0.443722\n",
      "spore-print-color_w           0.357384\n",
      "habitat_p                     0.323346\n",
      "gill-spacing_w               -0.348387\n",
      "spore-print-color_k          -0.396832\n",
      "spore-print-color_n          -0.416645\n",
      "stalk-surface-below-ring_s   -0.425444\n",
      "stalk-surface-above-ring_s   -0.491314\n",
      "bruises_t                    -0.501530\n",
      "ring-type_p                  -0.540469\n",
      "odor_n                       -0.785557\n",
      "dtype: float64\n"
     ]
    }
   ],
   "source": [
    "corr_threshold = 0.3\n",
    "\n",
    "corr_matrix_new = corr_matrix.unstack()\n",
    "higher_corr = corr_matrix_new[abs(corr_matrix_new) >= corr_threshold]\n",
    "\n",
    "# ordering the correlations from highest to lowest:\n",
    "\n",
    "print(higher_corr['class'].sort_values(ascending=False))"
   ]
  },
  {
   "cell_type": "markdown",
   "metadata": {},
   "source": [
    "Referring again to the dictionary, it seems like the probability of a mushroom being poisonous is positively correlated to the following features:\n",
    "\n",
    "- odor_f: foul=f\n",
    "- stalk-surface-above-ring_k: silky=k\n",
    "- stalk-surface-below-ring_k: silky=k\n",
    "- gill-size_n: narrow=n\n",
    "- spore-print-color_h: chocolate=h\n",
    "- ring-type_l: large=l\n",
    "- population_v: several=v\n",
    "- spore-print-color_w: white=w\n",
    "- habitat_p: paths=p\n",
    "\n",
    "and negatively correlated to the following features:\n",
    "\n",
    "- gill-spacing_w: crowded=w\n",
    "- spore-print-color_k: black=k\n",
    "- spore-print-color_n: brown=n\n",
    "- stalk-surface-below-ring_s: smooth=s\n",
    "- stalk-surface-above-ring_s: smooth=s\n",
    "- bruises_t: bruises=t\n",
    "- ring-type_p: pendant=p\n",
    "- odor_n: none=n"
   ]
  },
  {
   "cell_type": "code",
   "execution_count": 123,
   "metadata": {},
   "outputs": [
    {
     "name": "stdout",
     "output_type": "stream",
     "text": [
      "['class', 'odor_f', 'stalk-surface-above-ring_k', 'stalk-surface-below-ring_k', 'gill-size_n', 'spore-print-color_h', 'ring-type_l', 'population_v', 'spore-print-color_w', 'habitat_p', 'gill-spacing_w', 'spore-print-color_k', 'spore-print-color_n', 'stalk-surface-below-ring_s', 'stalk-surface-above-ring_s', 'bruises_t', 'ring-type_p', 'odor_n']\n"
     ]
    }
   ],
   "source": [
    "# identifying the best columns, except class, and putting these into a list\n",
    "\n",
    "best_columns = higher_corr['class'].sort_values(ascending=False).index.tolist()\n",
    "print(best_columns)"
   ]
  },
  {
   "cell_type": "markdown",
   "metadata": {},
   "source": [
    "We need to only select the columns above from data_dummies:"
   ]
  },
  {
   "cell_type": "code",
   "execution_count": 124,
   "metadata": {},
   "outputs": [
    {
     "name": "stdout",
     "output_type": "stream",
     "text": [
      "   class  odor_f  stalk-surface-above-ring_k  stalk-surface-below-ring_k  \\\n",
      "0      1       0                           0                           0   \n",
      "1      0       0                           0                           0   \n",
      "2      0       0                           0                           0   \n",
      "3      1       0                           0                           0   \n",
      "4      0       0                           0                           0   \n",
      "\n",
      "   gill-size_n  spore-print-color_h  ring-type_l  population_v  \\\n",
      "0            1                    0            0             0   \n",
      "1            0                    0            0             0   \n",
      "2            0                    0            0             0   \n",
      "3            1                    0            0             0   \n",
      "4            0                    0            0             0   \n",
      "\n",
      "   spore-print-color_w  habitat_p  gill-spacing_w  spore-print-color_k  \\\n",
      "0                    0          0               0                    1   \n",
      "1                    0          0               0                    0   \n",
      "2                    0          0               0                    0   \n",
      "3                    0          0               0                    1   \n",
      "4                    0          0               1                    0   \n",
      "\n",
      "   spore-print-color_n  stalk-surface-below-ring_s  \\\n",
      "0                    0                           1   \n",
      "1                    1                           1   \n",
      "2                    1                           1   \n",
      "3                    0                           1   \n",
      "4                    1                           1   \n",
      "\n",
      "   stalk-surface-above-ring_s  bruises_t  ring-type_p  odor_n  \n",
      "0                           1          1            1       0  \n",
      "1                           1          1            1       0  \n",
      "2                           1          1            1       0  \n",
      "3                           1          1            1       0  \n",
      "4                           1          0            0       1  \n",
      "\n",
      "\n",
      "<class 'pandas.core.frame.DataFrame'>\n",
      "RangeIndex: 8124 entries, 0 to 8123\n",
      "Data columns (total 18 columns):\n",
      " #   Column                      Non-Null Count  Dtype\n",
      "---  ------                      --------------  -----\n",
      " 0   class                       8124 non-null   int64\n",
      " 1   odor_f                      8124 non-null   uint8\n",
      " 2   stalk-surface-above-ring_k  8124 non-null   uint8\n",
      " 3   stalk-surface-below-ring_k  8124 non-null   uint8\n",
      " 4   gill-size_n                 8124 non-null   uint8\n",
      " 5   spore-print-color_h         8124 non-null   uint8\n",
      " 6   ring-type_l                 8124 non-null   uint8\n",
      " 7   population_v                8124 non-null   uint8\n",
      " 8   spore-print-color_w         8124 non-null   uint8\n",
      " 9   habitat_p                   8124 non-null   uint8\n",
      " 10  gill-spacing_w              8124 non-null   uint8\n",
      " 11  spore-print-color_k         8124 non-null   uint8\n",
      " 12  spore-print-color_n         8124 non-null   uint8\n",
      " 13  stalk-surface-below-ring_s  8124 non-null   uint8\n",
      " 14  stalk-surface-above-ring_s  8124 non-null   uint8\n",
      " 15  bruises_t                   8124 non-null   uint8\n",
      " 16  ring-type_p                 8124 non-null   uint8\n",
      " 17  odor_n                      8124 non-null   uint8\n",
      "dtypes: int64(1), uint8(17)\n",
      "memory usage: 198.5 KB\n"
     ]
    }
   ],
   "source": [
    "subset_data = data_dummies.loc[:,best_columns]\n",
    "print(subset_data.head())\n",
    "print('\\n')\n",
    "subset_data.info()"
   ]
  },
  {
   "cell_type": "code",
   "execution_count": 125,
   "metadata": {},
   "outputs": [],
   "source": [
    "# random_state = 1 should be set so that results are reproducible\n",
    "\n",
    "train, test = train_test_split(subset_data, test_size=0.2, random_state=1)\n",
    "\n",
    "# dividing these into X (target variable - class) and Y (explanatory variables - all except class)\n",
    "\n",
    "train_Y = train['class']\n",
    "train_X = train.loc[:, train.columns != 'class']\n",
    "test_Y = test['class']\n",
    "test_X = test.loc[:, test.columns != 'class']"
   ]
  },
  {
   "cell_type": "markdown",
   "metadata": {},
   "source": [
    "# Fitting a KNeighborsClassifier model"
   ]
  },
  {
   "cell_type": "code",
   "execution_count": 126,
   "metadata": {},
   "outputs": [],
   "source": [
    "# fitting the model\n",
    "\n",
    "knn = KNeighborsClassifier(n_neighbors=3)\n",
    "knn.fit(train_X, train_Y)\n",
    "\n",
    "# predictions\n",
    "\n",
    "predictions = knn.predict(test_X)\n",
    "\n",
    "# this is to get the probability of a 1\n",
    "predict_probability_1 = knn.predict_proba(test_X)[:,1]"
   ]
  },
  {
   "cell_type": "markdown",
   "metadata": {},
   "source": [
    "As a next step, we need to score the model: "
   ]
  },
  {
   "cell_type": "code",
   "execution_count": 127,
   "metadata": {},
   "outputs": [
    {
     "name": "stdout",
     "output_type": "stream",
     "text": [
      "The KNN accuracy score is: 1.0\n",
      "The KNN confusion matrix looks as follows: \n",
      " [[820   0]\n",
      " [  0 805]]\n",
      "The KNN precision score is: 1.0\n",
      "The KNN recall score is: 1.0\n"
     ]
    }
   ],
   "source": [
    "# Accuracy score\n",
    "\n",
    "acc_score = accuracy_score(test_Y, predictions)\n",
    "print(\"The KNN accuracy score is:\", acc_score)\n",
    "\n",
    "# Confusion matrix\n",
    "\n",
    "conf_matr = confusion_matrix(test_Y, predictions)\n",
    "print(\"The KNN confusion matrix looks as follows:\", '\\n', conf_matr)\n",
    "\n",
    "# Precision\n",
    "\n",
    "pr_score = precision_score(test_Y, predictions)\n",
    "print(\"The KNN precision score is:\", pr_score)\n",
    "\n",
    "# Recall\n",
    "\n",
    "rec_score = recall_score(test_Y, predictions)\n",
    "print(\"The KNN recall score is:\", rec_score)"
   ]
  },
  {
   "cell_type": "markdown",
   "metadata": {},
   "source": [
    "# Interpretation"
   ]
  },
  {
   "cell_type": "markdown",
   "metadata": {},
   "source": [
    "The dataset is quite small, which is why the results of the test are 100% accuracy, recall and precision."
   ]
  },
  {
   "cell_type": "markdown",
   "metadata": {},
   "source": [
    "# Comparison with Logistic Regression"
   ]
  },
  {
   "cell_type": "markdown",
   "metadata": {},
   "source": [
    "If I compare the KNN results against the results of a logistic regression, the results from the logistic regression are as follows:"
   ]
  },
  {
   "cell_type": "code",
   "execution_count": 128,
   "metadata": {},
   "outputs": [],
   "source": [
    "# fitting the model\n",
    "\n",
    "lr = LogisticRegression()\n",
    "lr.fit(train_X, train_Y)\n",
    "\n",
    "# predictions\n",
    "\n",
    "lr_predictions = lr.predict(test_X)"
   ]
  },
  {
   "cell_type": "code",
   "execution_count": 129,
   "metadata": {},
   "outputs": [
    {
     "name": "stdout",
     "output_type": "stream",
     "text": [
      "The LR accuracy score is: 0.9723076923076923\n",
      "The LR confusion matrix looks as follows: \n",
      " [[816   4]\n",
      " [ 41 764]]\n",
      "The LR precision score is: 0.9947916666666666\n",
      "The LR recall score is: 0.9490683229813665\n"
     ]
    }
   ],
   "source": [
    "# As a next step, we need to score the model:\n",
    "\n",
    "# Accuracy\n",
    "\n",
    "lr_acc_score = accuracy_score(test_Y, lr_predictions)\n",
    "print(\"The LR accuracy score is:\", lr_acc_score)\n",
    "\n",
    "# Confusion matrix\n",
    "\n",
    "lr_conf_matr = confusion_matrix(test_Y, lr_predictions)\n",
    "print(\"The LR confusion matrix looks as follows:\", '\\n', lr_conf_matr)\n",
    "\n",
    "# Precision\n",
    "\n",
    "lr_pr_score = precision_score(test_Y, lr_predictions)\n",
    "print(\"The LR precision score is:\", lr_pr_score)\n",
    "\n",
    "# Recall\n",
    "\n",
    "lr_rec_score = recall_score(test_Y, lr_predictions)\n",
    "print(\"The LR recall score is:\", lr_rec_score)"
   ]
  },
  {
   "cell_type": "markdown",
   "metadata": {},
   "source": [
    "Here, results are still quite high, although slightly lower than the KNN ones."
   ]
  },
  {
   "cell_type": "code",
   "execution_count": null,
   "metadata": {},
   "outputs": [],
   "source": []
  }
 ],
 "metadata": {
  "kernelspec": {
   "display_name": "Python 3",
   "language": "python",
   "name": "python3"
  },
  "language_info": {
   "codemirror_mode": {
    "name": "ipython",
    "version": 3
   },
   "file_extension": ".py",
   "mimetype": "text/x-python",
   "name": "python",
   "nbconvert_exporter": "python",
   "pygments_lexer": "ipython3",
   "version": "3.8.5"
  }
 },
 "nbformat": 4,
 "nbformat_minor": 4
}
