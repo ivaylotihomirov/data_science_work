{
 "cells": [
  {
   "cell_type": "markdown",
   "metadata": {},
   "source": [
    "# Data Analysis - apps\n",
    "\n",
    "The project will look at analyzing apps performance. Our company is issuing both iOS and Android apps."
   ]
  },
  {
   "cell_type": "markdown",
   "metadata": {},
   "source": [
    "# Importing the dataset"
   ]
  },
  {
   "cell_type": "code",
   "execution_count": 2,
   "metadata": {
    "scrolled": true
   },
   "outputs": [],
   "source": [
    "from csv import reader\n",
    "\n",
    "### import Google file ###\n",
    "opened_google = open('googleplaystore.csv')\n",
    "read_google = reader(opened_google)\n",
    "google = list(read_google)\n",
    "\n",
    "### import Apple file ###\n",
    "opened_apple = open('AppleStore.csv')\n",
    "read_apple = reader(opened_apple)\n",
    "apple = list(read_apple)"
   ]
  },
  {
   "cell_type": "markdown",
   "metadata": {},
   "source": [
    "# Exploring the dataset"
   ]
  },
  {
   "cell_type": "code",
   "execution_count": 3,
   "metadata": {},
   "outputs": [
    {
     "name": "stdout",
     "output_type": "stream",
     "text": [
      "['App', 'Category', 'Rating', 'Reviews', 'Size', 'Installs', 'Type', 'Price', 'Content Rating', 'Genres', 'Last Updated', 'Current Ver', 'Android Ver']\n",
      "\n",
      "\n",
      "['Photo Editor & Candy Camera & Grid & ScrapBook', 'ART_AND_DESIGN', '4.1', '159', '19M', '10,000+', 'Free', '0', 'Everyone', 'Art & Design', 'January 7, 2018', '1.0.0', '4.0.3 and up']\n",
      "\n",
      "\n",
      "['Coloring book moana', 'ART_AND_DESIGN', '3.9', '967', '14M', '500,000+', 'Free', '0', 'Everyone', 'Art & Design;Pretend Play', 'January 15, 2018', '2.0.0', '4.0.3 and up']\n",
      "\n",
      "\n",
      "['U Launcher Lite – FREE Live Cool Themes, Hide Apps', 'ART_AND_DESIGN', '4.7', '87510', '8.7M', '5,000,000+', 'Free', '0', 'Everyone', 'Art & Design', 'August 1, 2018', '1.2.4', '4.0.3 and up']\n",
      "\n",
      "\n",
      "['Sketch - Draw & Paint', 'ART_AND_DESIGN', '4.5', '215644', '25M', '50,000,000+', 'Free', '0', 'Teen', 'Art & Design', 'June 8, 2018', 'Varies with device', '4.2 and up']\n",
      "\n",
      "\n"
     ]
    }
   ],
   "source": [
    "### Function for exploring the dataset ###\n",
    "\n",
    "def explore_data(dataset, start, end, rows_and_columns=False):\n",
    "    dataset_slice = dataset[start:end]    \n",
    "    for row in dataset_slice:\n",
    "        print(row)\n",
    "        print('\\n') # adds a new (empty) line after each row\n",
    "\n",
    "    if rows_and_columns:\n",
    "        print('Number of rows:', len(dataset))\n",
    "        print('Number of columns:', len(dataset[0]))\n",
    "\n",
    "explore_data(google, 0, 5, rows_and_columns=False)\n"
   ]
  },
  {
   "cell_type": "code",
   "execution_count": 4,
   "metadata": {
    "scrolled": true
   },
   "outputs": [
    {
     "name": "stdout",
     "output_type": "stream",
     "text": [
      "['id', 'track_name', 'size_bytes', 'currency', 'price', 'rating_count_tot', 'rating_count_ver', 'user_rating', 'user_rating_ver', 'ver', 'cont_rating', 'prime_genre', 'sup_devices.num', 'ipadSc_urls.num', 'lang.num', 'vpp_lic']\n",
      "\n",
      "\n",
      "['284882215', 'Facebook', '389879808', 'USD', '0.0', '2974676', '212', '3.5', '3.5', '95.0', '4+', 'Social Networking', '37', '1', '29', '1']\n",
      "\n",
      "\n",
      "['389801252', 'Instagram', '113954816', 'USD', '0.0', '2161558', '1289', '4.5', '4.0', '10.23', '12+', 'Photo & Video', '37', '0', '29', '1']\n",
      "\n",
      "\n",
      "['529479190', 'Clash of Clans', '116476928', 'USD', '0.0', '2130805', '579', '4.5', '4.5', '9.24.12', '9+', 'Games', '38', '5', '18', '1']\n",
      "\n",
      "\n"
     ]
    }
   ],
   "source": [
    "explore_data(apple, 0, 4, rows_and_columns=False)"
   ]
  },
  {
   "cell_type": "markdown",
   "metadata": {},
   "source": [
    "# Checking for invalid entries"
   ]
  },
  {
   "cell_type": "code",
   "execution_count": 5,
   "metadata": {},
   "outputs": [
    {
     "name": "stdout",
     "output_type": "stream",
     "text": [
      "['Life Made WI-Fi Touchscreen Photo Frame', '1.9', '19', '3.0M', '1,000+', 'Free', '0', 'Everyone', '', 'February 11, 2018', '1.0.19', '4.0 and up']\n",
      "['osmino Wi-Fi: free WiFi', 'TOOLS', '4.2', '134203', '4.1M', '10,000,000+', 'Free', '0', 'Everyone', 'Tools', 'August 7, 2018', '6.06.14', '4.4 and up']\n"
     ]
    }
   ],
   "source": [
    "# The delete command can only be run when all cells are run. Otherwise, the row will already be deleted.\n",
    "\n",
    "print(google[10473])\n",
    "del google[10473]\n",
    "print(google[10473])"
   ]
  },
  {
   "cell_type": "markdown",
   "metadata": {},
   "source": [
    "# Removing duplicate entries\n",
    "\n",
    "The google app list has duplicate app names. The way to check this is to first isolate the app name (index 0) and check if it appears in a list of unique app names. If no, then it is added. If yes, then it is added to the list of duplicate app names. "
   ]
  },
  {
   "cell_type": "code",
   "execution_count": 6,
   "metadata": {},
   "outputs": [
    {
     "name": "stdout",
     "output_type": "stream",
     "text": [
      "The number of duplicate apps is 1181\n"
     ]
    }
   ],
   "source": [
    "duplicate_apps = []\n",
    "unique_apps = []\n",
    "\n",
    "for row in google:\n",
    "    name = row[0]\n",
    "    if name in unique_apps:\n",
    "        duplicate_apps.append(name)\n",
    "    else:\n",
    "        unique_apps.append(name)\n",
    "\n",
    "print('The number of duplicate apps is',len(duplicate_apps))"
   ]
  },
  {
   "cell_type": "code",
   "execution_count": 7,
   "metadata": {},
   "outputs": [
    {
     "name": "stdout",
     "output_type": "stream",
     "text": [
      "['App', 'Category', 'Rating', 'Reviews', 'Size', 'Installs', 'Type', 'Price', 'Content Rating', 'Genres', 'Last Updated', 'Current Ver', 'Android Ver']\n",
      "['Quick PDF Scanner + OCR FREE', 'Box', 'Google My Business', 'ZOOM Cloud Meetings', 'join.me - Simple Meetings', 'Box', 'Zenefits', 'Google Ads', 'Google My Business', 'Slack']\n"
     ]
    }
   ],
   "source": [
    "print(google[0])\n",
    "print(duplicate_apps[0:10])"
   ]
  },
  {
   "cell_type": "code",
   "execution_count": 8,
   "metadata": {
    "scrolled": true
   },
   "outputs": [
    {
     "name": "stdout",
     "output_type": "stream",
     "text": [
      "['Instagram', 'SOCIAL', '4.5', '66577313', 'Varies with device', '1,000,000,000+', 'Free', '0', 'Teen', 'Social', 'July 31, 2018', 'Varies with device', 'Varies with device']\n",
      "['Instagram', 'SOCIAL', '4.5', '66577446', 'Varies with device', '1,000,000,000+', 'Free', '0', 'Teen', 'Social', 'July 31, 2018', 'Varies with device', 'Varies with device']\n",
      "['Instagram', 'SOCIAL', '4.5', '66577313', 'Varies with device', '1,000,000,000+', 'Free', '0', 'Teen', 'Social', 'July 31, 2018', 'Varies with device', 'Varies with device']\n",
      "['Instagram', 'SOCIAL', '4.5', '66509917', 'Varies with device', '1,000,000,000+', 'Free', '0', 'Teen', 'Social', 'July 31, 2018', 'Varies with device', 'Varies with device']\n"
     ]
    }
   ],
   "source": [
    "for row in google:\n",
    "    name = row[0]\n",
    "    if name == 'Instagram':\n",
    "        print(row)"
   ]
  },
  {
   "cell_type": "markdown",
   "metadata": {},
   "source": [
    "We will need to only get the row with the most recent data - in this case, it seems to be driven by the reviews."
   ]
  },
  {
   "cell_type": "markdown",
   "metadata": {},
   "source": [
    "As a next step, we will create a dictionary with the name of the app as an index and the number of reviews. When extracting the number of reviews, I am extracting only the number from entries like '10M'."
   ]
  },
  {
   "cell_type": "code",
   "execution_count": 9,
   "metadata": {},
   "outputs": [
    {
     "name": "stdout",
     "output_type": "stream",
     "text": [
      "9659\n"
     ]
    }
   ],
   "source": [
    "reviews_max = {}\n",
    "for row in google[1:]:\n",
    "    name = row[0]\n",
    "    n_reviews = ''\n",
    "    for c in row[3]:\n",
    "        if c.isdigit():\n",
    "            n_reviews += c\n",
    "    if name in reviews_max and reviews_max[name] < n_reviews:\n",
    "        reviews_max[name] = n_reviews\n",
    "    if name not in reviews_max:\n",
    "        reviews_max[name] = n_reviews\n",
    "\n",
    "print(len(reviews_max))"
   ]
  },
  {
   "cell_type": "markdown",
   "metadata": {},
   "source": [
    "Here we will create 2 new lists, and will add entire rows to one of these lists, while adding only the app name to the other."
   ]
  },
  {
   "cell_type": "code",
   "execution_count": 10,
   "metadata": {},
   "outputs": [
    {
     "name": "stdout",
     "output_type": "stream",
     "text": [
      "9659\n"
     ]
    }
   ],
   "source": [
    "android_clean = []\n",
    "already_added = []\n",
    "\n",
    "for row in google[1:]:\n",
    "    name = row[0]\n",
    "    n_reviews = ''\n",
    "    for c in row[3]:\n",
    "        if c.isdigit():\n",
    "            n_reviews += c\n",
    "            if n_reviews == reviews_max[name] and name not in already_added:\n",
    "                android_clean.append(row)\n",
    "                already_added.append(name)\n",
    "\n",
    "print(len(android_clean))"
   ]
  },
  {
   "cell_type": "markdown",
   "metadata": {},
   "source": [
    "# English vs Non-English Apps\n",
    "As a next step, I will create a function for testing for non-English apps."
   ]
  },
  {
   "cell_type": "code",
   "execution_count": 11,
   "metadata": {},
   "outputs": [],
   "source": [
    "def test_english(string):\n",
    "    count = 0\n",
    "    for character in string:\n",
    "        if ord(character) > 127:\n",
    "            count += 1\n",
    "            if count > 3:\n",
    "                return False\n",
    "    return True"
   ]
  },
  {
   "cell_type": "markdown",
   "metadata": {},
   "source": [
    "This is where I test the function with individual strings:"
   ]
  },
  {
   "cell_type": "code",
   "execution_count": 12,
   "metadata": {},
   "outputs": [
    {
     "name": "stdout",
     "output_type": "stream",
     "text": [
      "True\n",
      "False\n",
      "True\n",
      "True\n",
      "True\n"
     ]
    }
   ],
   "source": [
    "print(test_english('Instagram'))\n",
    "print(test_english('爱奇艺PPS -《欢乐颂2》电视剧热播'))\n",
    "print(test_english('Docs To Go™ Free Office Suite'))\n",
    "print(test_english('Instachat 😜'))\n",
    "print(test_english('😜'))"
   ]
  },
  {
   "cell_type": "markdown",
   "metadata": {},
   "source": [
    "This is where I test the function with whole datasets"
   ]
  },
  {
   "cell_type": "code",
   "execution_count": 13,
   "metadata": {},
   "outputs": [],
   "source": [
    "google_english = []\n",
    "apple_english = []\n",
    "\n",
    "for row in android_clean:\n",
    "    string = row[0]\n",
    "    if test_english(string) == True:\n",
    "        google_english.append(row)\n",
    "\n",
    "for row in apple:\n",
    "    string = row[1]\n",
    "    if test_english(string) == True:\n",
    "        apple_english.append(row)"
   ]
  },
  {
   "cell_type": "code",
   "execution_count": 14,
   "metadata": {},
   "outputs": [
    {
     "name": "stdout",
     "output_type": "stream",
     "text": [
      "['Photo Editor & Candy Camera & Grid & ScrapBook', 'ART_AND_DESIGN', '4.1', '159', '19M', '10,000+', 'Free', '0', 'Everyone', 'Art & Design', 'January 7, 2018', '1.0.0', '4.0.3 and up']\n",
      "\n",
      "\n",
      "['U Launcher Lite – FREE Live Cool Themes, Hide Apps', 'ART_AND_DESIGN', '4.7', '87510', '8.7M', '5,000,000+', 'Free', '0', 'Everyone', 'Art & Design', 'August 1, 2018', '1.2.4', '4.0.3 and up']\n",
      "\n",
      "\n",
      "['Sketch - Draw & Paint', 'ART_AND_DESIGN', '4.5', '215644', '25M', '50,000,000+', 'Free', '0', 'Teen', 'Art & Design', 'June 8, 2018', 'Varies with device', '4.2 and up']\n",
      "\n",
      "\n",
      "None\n",
      "['id', 'track_name', 'size_bytes', 'currency', 'price', 'rating_count_tot', 'rating_count_ver', 'user_rating', 'user_rating_ver', 'ver', 'cont_rating', 'prime_genre', 'sup_devices.num', 'ipadSc_urls.num', 'lang.num', 'vpp_lic']\n",
      "\n",
      "\n",
      "['284882215', 'Facebook', '389879808', 'USD', '0.0', '2974676', '212', '3.5', '3.5', '95.0', '4+', 'Social Networking', '37', '1', '29', '1']\n",
      "\n",
      "\n",
      "['389801252', 'Instagram', '113954816', 'USD', '0.0', '2161558', '1289', '4.5', '4.0', '10.23', '12+', 'Photo & Video', '37', '0', '29', '1']\n",
      "\n",
      "\n",
      "None\n",
      "9614\n",
      "6184\n"
     ]
    }
   ],
   "source": [
    "print(explore_data(google_english, 0, 3))\n",
    "print(explore_data(apple_english, 0, 3))\n",
    "print(len(google_english))\n",
    "print(len(apple_english))"
   ]
  },
  {
   "cell_type": "markdown",
   "metadata": {},
   "source": [
    "# Checking for free apps only"
   ]
  },
  {
   "cell_type": "code",
   "execution_count": 15,
   "metadata": {},
   "outputs": [
    {
     "name": "stdout",
     "output_type": "stream",
     "text": [
      "8861\n",
      "3222\n"
     ]
    }
   ],
   "source": [
    "google_english_free = []\n",
    "apple_english_free = []\n",
    "\n",
    "for row in google_english:\n",
    "    if row[6] == 'Free':\n",
    "        google_english_free.append(row)\n",
    "\n",
    "for row in apple_english[1:]:\n",
    "    if float(row[4]) == 0:\n",
    "        apple_english_free.append(row)\n",
    "\n",
    "print(len(google_english_free))\n",
    "print(len(apple_english_free))"
   ]
  },
  {
   "cell_type": "markdown",
   "metadata": {},
   "source": [
    "# App profiles and frequency"
   ]
  },
  {
   "cell_type": "markdown",
   "metadata": {},
   "source": [
    "If we are trying to create a successful app, we will check the frequency of app profiles on both the Google and Apple stores. "
   ]
  },
  {
   "cell_type": "code",
   "execution_count": 16,
   "metadata": {},
   "outputs": [
    {
     "name": "stdout",
     "output_type": "stream",
     "text": [
      "['Photo Editor & Candy Camera & Grid & ScrapBook', 'ART_AND_DESIGN', '4.1', '159', '19M', '10,000+', 'Free', '0', 'Everyone', 'Art & Design', 'January 7, 2018', '1.0.0', '4.0.3 and up']\n",
      "\n",
      "\n",
      "['U Launcher Lite – FREE Live Cool Themes, Hide Apps', 'ART_AND_DESIGN', '4.7', '87510', '8.7M', '5,000,000+', 'Free', '0', 'Everyone', 'Art & Design', 'August 1, 2018', '1.2.4', '4.0.3 and up']\n",
      "\n",
      "\n",
      "['Sketch - Draw & Paint', 'ART_AND_DESIGN', '4.5', '215644', '25M', '50,000,000+', 'Free', '0', 'Teen', 'Art & Design', 'June 8, 2018', 'Varies with device', '4.2 and up']\n",
      "\n",
      "\n",
      "None\n",
      "['id', 'track_name', 'size_bytes', 'currency', 'price', 'rating_count_tot', 'rating_count_ver', 'user_rating', 'user_rating_ver', 'ver', 'cont_rating', 'prime_genre', 'sup_devices.num', 'ipadSc_urls.num', 'lang.num', 'vpp_lic']\n",
      "\n",
      "\n",
      "['284882215', 'Facebook', '389879808', 'USD', '0.0', '2974676', '212', '3.5', '3.5', '95.0', '4+', 'Social Networking', '37', '1', '29', '1']\n",
      "\n",
      "\n",
      "['389801252', 'Instagram', '113954816', 'USD', '0.0', '2161558', '1289', '4.5', '4.0', '10.23', '12+', 'Photo & Video', '37', '0', '29', '1']\n",
      "\n",
      "\n",
      "None\n"
     ]
    }
   ],
   "source": [
    "print(explore_data(google_english, 0, 3))\n",
    "print(explore_data(apple_english, 0, 3))"
   ]
  },
  {
   "cell_type": "markdown",
   "metadata": {},
   "source": [
    "# Creating a frequency table\n",
    "\n",
    "This function will create a frequency table:"
   ]
  },
  {
   "cell_type": "code",
   "execution_count": 20,
   "metadata": {
    "scrolled": true
   },
   "outputs": [
    {
     "name": "stdout",
     "output_type": "stream",
     "text": [
      "Google groups\n",
      "{'ART_AND_DESIGN': 0.6240898689411275, 'AUTO_AND_VEHICLES': 0.8737258165175785, 'BEAUTY': 0.5512793842313293, 'BOOKS_AND_REFERENCE': 2.26752652381943, 'BUSINESS': 4.358227584772207, 'COMICS': 0.5720823798627002, 'COMMUNICATION': 3.2660703141252343, 'DATING': 1.7786561264822136, 'EDUCATION': 1.1129602662783442, 'ENTERTAINMENT': 0.9049303099646349, 'EVENTS': 0.6656958602038693, 'FINANCE': 3.588516746411483, 'FOOD_AND_DRINK': 1.1649677553567712, 'HEALTH_AND_FITNESS': 2.995631370917412, 'HOUSE_AND_HOME': 0.7593093405450385, 'LIBRARIES_AND_DEMO': 0.8737258165175785, 'LIFESTYLE': 3.786145204909507, 'GAME': 9.787809444560017, 'FAMILY': 19.346785937174953, 'MEDICAL': 4.108591637195756, 'SOCIAL': 2.485957977948825, 'SHOPPING': 2.090701060952777, 'PHOTOGRAPHY': 2.9124193883919283, 'SPORTS': 3.3804867900977738, 'TRAVEL_AND_LOCAL': 2.2779280216351157, 'TOOLS': 8.602038693571874, 'PERSONALIZATION': 3.900561680882047, 'PRODUCTIVITY': 3.879758685250676, 'PARENTING': 0.6240898689411275, 'WEATHER': 0.8217183274391513, 'VIDEO_PLAYERS': 1.6954441439567296, 'NEWS_AND_MAGAZINES': 2.600374453921365, 'MAPS_AND_NAVIGATION': 1.3417932182234242}\n",
      "\n",
      "\n",
      "Apple groups\n",
      "{'Social Networking': 2.037845705967977, 'Photo & Video': 5.515122109008572, 'Games': 54.860100274947435, 'Music': 2.215752870774705, 'Reference': 0.8571890667960537, 'Health & Fitness': 2.6686074721009216, 'Weather': 1.1159631246967492, 'Utilities': 3.4449296458030085, 'Travel': 0.9704027171276078, 'Shopping': 1.3747371825974446, 'News': 0.9218825812712276, 'Navigation': 0.452854601326217, 'Lifestyle': 1.6011644832605532, 'Entertainment': 7.261846999838266, 'Food & Drink': 0.7116286592269124, 'Sports': 1.6820313763545207, 'Book': 0.8895358240336406, 'Finance': 0.7924955523208799, 'Education': 6.6310852337053205, 'Productivity': 2.7171276079573023, 'Business': 0.8571890667960537, 'Catalogs': 0.08086689309396733, 'Medical': 0.3396409509946628}\n"
     ]
    }
   ],
   "source": [
    "def freq_table(dataset, index):\n",
    "    dict_group = {}\n",
    "    total = 0\n",
    "        \n",
    "    for row in dataset:\n",
    "        total += 1\n",
    "        group = row[index]\n",
    "        if group in dict_group:\n",
    "            dict_group[group] += 1\n",
    "            \n",
    "        else:\n",
    "            dict_group[group] = 1\n",
    "    \n",
    "    percentages = {}\n",
    "    \n",
    "    for row in dict_group:\n",
    "        perc = (dict_group[row] / total) * 100\n",
    "        percentages[row] = perc\n",
    "    \n",
    "    return percentages\n",
    "\n",
    "print('Google groups')\n",
    "print(freq_table(google_english, 1))\n",
    "print('\\n')\n",
    "print('Apple groups')\n",
    "print(freq_table(apple_english[1:], 11))"
   ]
  },
  {
   "cell_type": "markdown",
   "metadata": {},
   "source": [
    "The next function will be to display the categories in descending order of frequency:"
   ]
  },
  {
   "cell_type": "code",
   "execution_count": 19,
   "metadata": {},
   "outputs": [
    {
     "name": "stdout",
     "output_type": "stream",
     "text": [
      "Google groups\n",
      "FAMILY : 19.346785937174953\n",
      "GAME : 9.787809444560017\n",
      "TOOLS : 8.602038693571874\n",
      "BUSINESS : 4.358227584772207\n",
      "MEDICAL : 4.108591637195756\n",
      "PERSONALIZATION : 3.900561680882047\n",
      "PRODUCTIVITY : 3.879758685250676\n",
      "LIFESTYLE : 3.786145204909507\n",
      "FINANCE : 3.588516746411483\n",
      "SPORTS : 3.3804867900977738\n",
      "COMMUNICATION : 3.2660703141252343\n",
      "HEALTH_AND_FITNESS : 2.995631370917412\n",
      "PHOTOGRAPHY : 2.9124193883919283\n",
      "NEWS_AND_MAGAZINES : 2.600374453921365\n",
      "SOCIAL : 2.485957977948825\n",
      "TRAVEL_AND_LOCAL : 2.2779280216351157\n",
      "BOOKS_AND_REFERENCE : 2.26752652381943\n",
      "SHOPPING : 2.090701060952777\n",
      "DATING : 1.7786561264822136\n",
      "VIDEO_PLAYERS : 1.6954441439567296\n",
      "MAPS_AND_NAVIGATION : 1.3417932182234242\n",
      "FOOD_AND_DRINK : 1.1649677553567712\n",
      "EDUCATION : 1.1129602662783442\n",
      "ENTERTAINMENT : 0.9049303099646349\n",
      "LIBRARIES_AND_DEMO : 0.8737258165175785\n",
      "AUTO_AND_VEHICLES : 0.8737258165175785\n",
      "WEATHER : 0.8217183274391513\n",
      "HOUSE_AND_HOME : 0.7593093405450385\n",
      "EVENTS : 0.6656958602038693\n",
      "PARENTING : 0.6240898689411275\n",
      "ART_AND_DESIGN : 0.6240898689411275\n",
      "COMICS : 0.5720823798627002\n",
      "BEAUTY : 0.5512793842313293\n",
      "None\n",
      "\n",
      "\n",
      "Apple groups\n",
      "Games : 54.860100274947435\n",
      "Entertainment : 7.261846999838266\n",
      "Education : 6.6310852337053205\n",
      "Photo & Video : 5.515122109008572\n",
      "Utilities : 3.4449296458030085\n",
      "Productivity : 2.7171276079573023\n",
      "Health & Fitness : 2.6686074721009216\n",
      "Music : 2.215752870774705\n",
      "Social Networking : 2.037845705967977\n",
      "Sports : 1.6820313763545207\n",
      "Lifestyle : 1.6011644832605532\n",
      "Shopping : 1.3747371825974446\n",
      "Weather : 1.1159631246967492\n",
      "Travel : 0.9704027171276078\n",
      "News : 0.9218825812712276\n",
      "Book : 0.8895358240336406\n",
      "Reference : 0.8571890667960537\n",
      "Business : 0.8571890667960537\n",
      "Finance : 0.7924955523208799\n",
      "Food & Drink : 0.7116286592269124\n",
      "Navigation : 0.452854601326217\n",
      "Medical : 0.3396409509946628\n",
      "Catalogs : 0.08086689309396733\n",
      "None\n"
     ]
    }
   ],
   "source": [
    "def display_table(dataset, index):\n",
    "    table = freq_table(dataset, index)\n",
    "    table_display = []\n",
    "    for key in table:\n",
    "        key_val_as_tuple = (table[key], key)\n",
    "        table_display.append(key_val_as_tuple)\n",
    "\n",
    "    table_sorted = sorted(table_display, reverse = True)\n",
    "    for entry in table_sorted:\n",
    "        print(entry[1], ':', entry[0])\n",
    "\n",
    "print('Google groups')\n",
    "print(display_table(google_english, 1))\n",
    "print('\\n')\n",
    "print('Apple groups')\n",
    "print(display_table(apple_english[1:], 11))"
   ]
  },
  {
   "cell_type": "markdown",
   "metadata": {},
   "source": [
    "In the Apple dataset, most apps are in the Games category, followed by Entertainment and Education. The fact that most of the apps are in these 3 categories does not mean that these apps have the most number of users, though, because this only shows number of apps and not users.\n",
    "\n",
    "In the Google dataset, most apps are in the categories Family, Game and Tools. There are more categories in the Google dataset, so the number/percentage of apps in each category is smaller. Similar to the other dataset, the number of apps in the categories does not indicate popularity by users.\n",
    "\n",
    "Based on this, it is difficult to recommend what type of app to create, based solely on the number of apps in each category."
   ]
  },
  {
   "cell_type": "markdown",
   "metadata": {},
   "source": [
    "# Computing the average number of installs for each genre\n",
    "\n",
    "In this step, I will compute the average number of installs for each genre in the Apple dataset:"
   ]
  },
  {
   "cell_type": "code",
   "execution_count": 24,
   "metadata": {},
   "outputs": [
    {
     "name": "stdout",
     "output_type": "stream",
     "text": [
      "{'Social Networking': 2.037845705967977, 'Photo & Video': 5.515122109008572, 'Games': 54.860100274947435, 'Music': 2.215752870774705, 'Reference': 0.8571890667960537, 'Health & Fitness': 2.6686074721009216, 'Weather': 1.1159631246967492, 'Utilities': 3.4449296458030085, 'Travel': 0.9704027171276078, 'Shopping': 1.3747371825974446, 'News': 0.9218825812712276, 'Navigation': 0.452854601326217, 'Lifestyle': 1.6011644832605532, 'Entertainment': 7.261846999838266, 'Food & Drink': 0.7116286592269124, 'Sports': 1.6820313763545207, 'Book': 0.8895358240336406, 'Finance': 0.7924955523208799, 'Education': 6.6310852337053205, 'Productivity': 2.7171276079573023, 'Business': 0.8571890667960537, 'Catalogs': 0.08086689309396733, 'Medical': 0.3396409509946628}\n"
     ]
    }
   ],
   "source": [
    "print(freq_table(apple_english[1:], 11))\n",
    "table = freq_table(apple_english[1:], 11)"
   ]
  },
  {
   "cell_type": "code",
   "execution_count": 27,
   "metadata": {
    "scrolled": false
   },
   "outputs": [
    {
     "name": "stdout",
     "output_type": "stream",
     "text": [
      "Social Networking 60253.84920634921\n",
      "Photo & Video 14688.715542521993\n",
      "Games 15586.759433962265\n",
      "Music 29047.109489051094\n",
      "Reference 27037.188679245282\n",
      "Health & Fitness 10802.157575757576\n",
      "Weather 23145.246376811596\n",
      "Utilities 7927.525821596244\n",
      "Travel 19030.183333333334\n",
      "Shopping 26635.011764705883\n",
      "News 16980.315789473683\n",
      "Navigation 19370.821428571428\n",
      "Lifestyle 8930.373737373737\n",
      "Entertainment 8862.409799554565\n",
      "Food & Drink 19934.386363636364\n",
      "Sports 15350.913461538461\n",
      "Book 10359.2\n",
      "Finance 23353.530612244896\n",
      "Education 2472.278048780488\n",
      "Productivity 8508.089285714286\n",
      "Business 5149.320754716981\n",
      "Catalogs 3465.0\n",
      "Medical 648.952380952381\n"
     ]
    }
   ],
   "source": [
    "for genre in table:\n",
    "    ratings = 0\n",
    "    len_genre = 0\n",
    "    for row in apple_english[1:]:\n",
    "        genre_app = row[11]\n",
    "        if genre == genre_app:\n",
    "            ratings += float(row[5])\n",
    "            len_genre += 1\n",
    "\n",
    "    average_rating = ratings / len_genre\n",
    "    print(genre, average_rating)"
   ]
  },
  {
   "cell_type": "markdown",
   "metadata": {},
   "source": [
    "Social Networking apps have the highest number of reviews on average, but this does not by itself highlight popularity - there may be other popular apps, which just do not get reviewed."
   ]
  },
  {
   "cell_type": "markdown",
   "metadata": {},
   "source": [
    "In the following step, I will do the same with the Google dataset - will try to find the average number of installs for the Google apps."
   ]
  },
  {
   "cell_type": "code",
   "execution_count": 28,
   "metadata": {},
   "outputs": [
    {
     "name": "stdout",
     "output_type": "stream",
     "text": [
      "[['Photo Editor & Candy Camera & Grid & ScrapBook', 'ART_AND_DESIGN', '4.1', '159', '19M', '10,000+', 'Free', '0', 'Everyone', 'Art & Design', 'January 7, 2018', '1.0.0', '4.0.3 and up'], ['U Launcher Lite – FREE Live Cool Themes, Hide Apps', 'ART_AND_DESIGN', '4.7', '87510', '8.7M', '5,000,000+', 'Free', '0', 'Everyone', 'Art & Design', 'August 1, 2018', '1.2.4', '4.0.3 and up'], ['Sketch - Draw & Paint', 'ART_AND_DESIGN', '4.5', '215644', '25M', '50,000,000+', 'Free', '0', 'Teen', 'Art & Design', 'June 8, 2018', 'Varies with device', '4.2 and up'], ['Pixel Draw - Number Art Coloring Book', 'ART_AND_DESIGN', '4.3', '967', '2.8M', '100,000+', 'Free', '0', 'Everyone', 'Art & Design;Creativity', 'June 20, 2018', '1.1', '4.4 and up'], ['Paper flowers instructions', 'ART_AND_DESIGN', '4.4', '167', '5.6M', '50,000+', 'Free', '0', 'Everyone', 'Art & Design', 'March 26, 2017', '1.0', '2.3 and up']]\n"
     ]
    }
   ],
   "source": [
    "print(google_english[0:5])"
   ]
  },
  {
   "cell_type": "code",
   "execution_count": 47,
   "metadata": {
    "scrolled": true
   },
   "outputs": [
    {
     "name": "stdout",
     "output_type": "stream",
     "text": [
      "{'ART_AND_DESIGN': 0.6240898689411275, 'AUTO_AND_VEHICLES': 0.8737258165175785, 'BEAUTY': 0.5512793842313293, 'BOOKS_AND_REFERENCE': 2.26752652381943, 'BUSINESS': 4.358227584772207, 'COMICS': 0.5720823798627002, 'COMMUNICATION': 3.2660703141252343, 'DATING': 1.7786561264822136, 'EDUCATION': 1.1129602662783442, 'ENTERTAINMENT': 0.9049303099646349, 'EVENTS': 0.6656958602038693, 'FINANCE': 3.588516746411483, 'FOOD_AND_DRINK': 1.1649677553567712, 'HEALTH_AND_FITNESS': 2.995631370917412, 'HOUSE_AND_HOME': 0.7593093405450385, 'LIBRARIES_AND_DEMO': 0.8737258165175785, 'LIFESTYLE': 3.786145204909507, 'GAME': 9.787809444560017, 'FAMILY': 19.346785937174953, 'MEDICAL': 4.108591637195756, 'SOCIAL': 2.485957977948825, 'SHOPPING': 2.090701060952777, 'PHOTOGRAPHY': 2.9124193883919283, 'SPORTS': 3.3804867900977738, 'TRAVEL_AND_LOCAL': 2.2779280216351157, 'TOOLS': 8.602038693571874, 'PERSONALIZATION': 3.900561680882047, 'PRODUCTIVITY': 3.879758685250676, 'PARENTING': 0.6240898689411275, 'WEATHER': 0.8217183274391513, 'VIDEO_PLAYERS': 1.6954441439567296, 'NEWS_AND_MAGAZINES': 2.600374453921365, 'MAPS_AND_NAVIGATION': 1.3417932182234242}\n",
      "{'ART_AND_DESIGN': 0.6240898689411275, 'AUTO_AND_VEHICLES': 0.8737258165175785, 'BEAUTY': 0.5512793842313293, 'BOOKS_AND_REFERENCE': 2.26752652381943, 'BUSINESS': 4.358227584772207, 'COMICS': 0.5720823798627002, 'COMMUNICATION': 3.2660703141252343, 'DATING': 1.7786561264822136, 'EDUCATION': 1.1129602662783442, 'ENTERTAINMENT': 0.9049303099646349, 'EVENTS': 0.6656958602038693, 'FINANCE': 3.588516746411483, 'FOOD_AND_DRINK': 1.1649677553567712, 'HEALTH_AND_FITNESS': 2.995631370917412, 'HOUSE_AND_HOME': 0.7593093405450385, 'LIBRARIES_AND_DEMO': 0.8737258165175785, 'LIFESTYLE': 3.786145204909507, 'GAME': 9.787809444560017, 'FAMILY': 19.346785937174953, 'MEDICAL': 4.108591637195756, 'SOCIAL': 2.485957977948825, 'SHOPPING': 2.090701060952777, 'PHOTOGRAPHY': 2.9124193883919283, 'SPORTS': 3.3804867900977738, 'TRAVEL_AND_LOCAL': 2.2779280216351157, 'TOOLS': 8.602038693571874, 'PERSONALIZATION': 3.900561680882047, 'PRODUCTIVITY': 3.879758685250676, 'PARENTING': 0.6240898689411275, 'WEATHER': 0.8217183274391513, 'VIDEO_PLAYERS': 1.6954441439567296, 'NEWS_AND_MAGAZINES': 2.600374453921365, 'MAPS_AND_NAVIGATION': 1.3417932182234242}\n"
     ]
    }
   ],
   "source": [
    "print(freq_table(google_english, 1))\n",
    "g_table = freq_table(google_english, 1)\n",
    "print(google_table)"
   ]
  },
  {
   "cell_type": "code",
   "execution_count": 55,
   "metadata": {},
   "outputs": [
    {
     "name": "stdout",
     "output_type": "stream",
     "text": [
      "ART_AND_DESIGN\n"
     ]
    }
   ],
   "source": [
    "print(google_english[0][1])"
   ]
  },
  {
   "cell_type": "code",
   "execution_count": 60,
   "metadata": {},
   "outputs": [
    {
     "name": "stdout",
     "output_type": "stream",
     "text": [
      "ART_AND_DESIGN 1887285.0\n",
      "AUTO_AND_VEHICLES 632501.3214285715\n",
      "BEAUTY 513151.88679245283\n",
      "BOOKS_AND_REFERENCE 7641777.871559633\n",
      "BUSINESS 1663758.627684964\n",
      "COMICS 817657.2727272727\n",
      "COMMUNICATION 35153714.17515924\n",
      "DATING 824129.2807017544\n",
      "EDUCATION 1770579.4392523365\n",
      "ENTERTAINMENT 11375402.298850575\n",
      "EVENTS 249580.640625\n",
      "FINANCE 1319851.4028985507\n",
      "FOOD_AND_DRINK 1891060.2767857143\n",
      "HEALTH_AND_FITNESS 3972300.388888889\n",
      "HOUSE_AND_HOME 1331540.5616438356\n",
      "LIBRARIES_AND_DEMO 630903.6904761905\n",
      "LIFESTYLE 1369954.7774725275\n",
      "GAME 14227278.868225291\n",
      "FAMILY 3344163.6580645163\n",
      "MEDICAL 96691.58734177215\n",
      "SOCIAL 22961790.384937238\n",
      "SHOPPING 6966908.880597015\n",
      "PHOTOGRAPHY 16604098.410714285\n",
      "SPORTS 3373767.6861538463\n",
      "TRAVEL_AND_LOCAL 13218662.767123288\n",
      "TOOLS 9676869.30471584\n",
      "PERSONALIZATION 4086652.4853333333\n",
      "PRODUCTIVITY 15530942.008042896\n",
      "PARENTING 525351.8333333334\n",
      "WEATHER 4570892.658227848\n",
      "VIDEO_PLAYERS 24121489.079754602\n",
      "NEWS_AND_MAGAZINES 9472807.04\n",
      "MAPS_AND_NAVIGATION 3900634.7286821706\n"
     ]
    }
   ],
   "source": [
    "for category in g_table:\n",
    "    installs = 0\n",
    "    cat_count = 0\n",
    "    for row in google_english:\n",
    "        cat = row[1]\n",
    "        if cat == category:\n",
    "            n_installs = row[5]\n",
    "            n_installs = str(n_installs).replace('+', '').replace(',', '')\n",
    "            installs += float(n_installs)\n",
    "            cat_count += 1\n",
    "    \n",
    "    average_installs = installs / cat_count\n",
    "    print(category, average_installs)"
   ]
  },
  {
   "cell_type": "markdown",
   "metadata": {},
   "source": [
    "Just looking at the numbers for average installs by category, it looks like the communications apps have high numbers of average installs. "
   ]
  }
 ],
 "metadata": {
  "kernelspec": {
   "display_name": "Python 3",
   "language": "python",
   "name": "python3"
  },
  "language_info": {
   "codemirror_mode": {
    "name": "ipython",
    "version": 3
   },
   "file_extension": ".py",
   "mimetype": "text/x-python",
   "name": "python",
   "nbconvert_exporter": "python",
   "pygments_lexer": "ipython3",
   "version": "3.8.2"
  }
 },
 "nbformat": 4,
 "nbformat_minor": 2
}
