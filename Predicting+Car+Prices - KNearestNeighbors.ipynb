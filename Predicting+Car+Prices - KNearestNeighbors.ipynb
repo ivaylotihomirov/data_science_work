{
 "cells": [
  {
   "cell_type": "markdown",
   "metadata": {},
   "source": [
    "# Predicting Car Prices"
   ]
  },
  {
   "cell_type": "code",
   "execution_count": 83,
   "metadata": {
    "collapsed": false,
    "scrolled": true
   },
   "outputs": [
    {
     "name": "stdout",
     "output_type": "stream",
     "text": [
      "   symboling normalized_losses         make fuel_type aspiration num_of_doors  \\\n",
      "0          3                 ?  alfa-romero       gas        std          two   \n",
      "1          3                 ?  alfa-romero       gas        std          two   \n",
      "2          1                 ?  alfa-romero       gas        std          two   \n",
      "3          2               164         audi       gas        std         four   \n",
      "4          2               164         audi       gas        std         four   \n",
      "\n",
      "    body_style drive_wheels engine_location  wheel_base  ...    engine_size  \\\n",
      "0  convertible          rwd           front        88.6  ...            130   \n",
      "1  convertible          rwd           front        88.6  ...            130   \n",
      "2    hatchback          rwd           front        94.5  ...            152   \n",
      "3        sedan          fwd           front        99.8  ...            109   \n",
      "4        sedan          4wd           front        99.4  ...            136   \n",
      "\n",
      "   fuel_system  bore  stroke compression_ratio horsepower  peak_rpm city_mpg  \\\n",
      "0         mpfi  3.47    2.68               9.0        111      5000       21   \n",
      "1         mpfi  3.47    2.68               9.0        111      5000       21   \n",
      "2         mpfi  2.68    3.47               9.0        154      5000       19   \n",
      "3         mpfi  3.19    3.40              10.0        102      5500       24   \n",
      "4         mpfi  3.19    3.40               8.0        115      5500       18   \n",
      "\n",
      "  highway_mpg  price  \n",
      "0          27  13495  \n",
      "1          27  16500  \n",
      "2          26  16500  \n",
      "3          30  13950  \n",
      "4          22  17450  \n",
      "\n",
      "[5 rows x 26 columns]\n"
     ]
    }
   ],
   "source": [
    "import pandas as pd\n",
    "import numpy as np\n",
    "\n",
    "columns = ['symboling', \n",
    "           'normalized_losses',\n",
    "           'make',\n",
    "           'fuel_type',\n",
    "           'aspiration',\n",
    "           'num_of_doors',\n",
    "           'body_style',\n",
    "           'drive_wheels',\n",
    "           'engine_location',\n",
    "           'wheel_base',\n",
    "           'length',\n",
    "           'width',\n",
    "           'height',\n",
    "           'curb_weight',\n",
    "           'engine_type',\n",
    "           'num_of_cylinders',\n",
    "           'engine_size',\n",
    "           'fuel_system',\n",
    "           'bore',\n",
    "           'stroke',\n",
    "           'compression_ratio',\n",
    "           'horsepower',\n",
    "           'peak_rpm',\n",
    "           'city_mpg',\n",
    "           'highway_mpg',\n",
    "           'price']\n",
    "\n",
    "data = pd.read_csv('imports-85.data', names=columns)\n",
    "print(data.head())"
   ]
  },
  {
   "cell_type": "code",
   "execution_count": 84,
   "metadata": {
    "collapsed": false
   },
   "outputs": [
    {
     "data": {
      "text/html": [
       "<div>\n",
       "<style scoped>\n",
       "    .dataframe tbody tr th:only-of-type {\n",
       "        vertical-align: middle;\n",
       "    }\n",
       "\n",
       "    .dataframe tbody tr th {\n",
       "        vertical-align: top;\n",
       "    }\n",
       "\n",
       "    .dataframe thead th {\n",
       "        text-align: right;\n",
       "    }\n",
       "</style>\n",
       "<table border=\"1\" class=\"dataframe\">\n",
       "  <thead>\n",
       "    <tr style=\"text-align: right;\">\n",
       "      <th></th>\n",
       "      <th>symboling</th>\n",
       "      <th>wheel_base</th>\n",
       "      <th>length</th>\n",
       "      <th>width</th>\n",
       "      <th>height</th>\n",
       "      <th>curb_weight</th>\n",
       "      <th>engine_size</th>\n",
       "      <th>compression_ratio</th>\n",
       "      <th>city_mpg</th>\n",
       "      <th>highway_mpg</th>\n",
       "    </tr>\n",
       "  </thead>\n",
       "  <tbody>\n",
       "    <tr>\n",
       "      <th>count</th>\n",
       "      <td>205.000000</td>\n",
       "      <td>205.000000</td>\n",
       "      <td>205.000000</td>\n",
       "      <td>205.000000</td>\n",
       "      <td>205.000000</td>\n",
       "      <td>205.000000</td>\n",
       "      <td>205.000000</td>\n",
       "      <td>205.000000</td>\n",
       "      <td>205.000000</td>\n",
       "      <td>205.000000</td>\n",
       "    </tr>\n",
       "    <tr>\n",
       "      <th>mean</th>\n",
       "      <td>0.834146</td>\n",
       "      <td>98.756585</td>\n",
       "      <td>174.049268</td>\n",
       "      <td>65.907805</td>\n",
       "      <td>53.724878</td>\n",
       "      <td>2555.565854</td>\n",
       "      <td>126.907317</td>\n",
       "      <td>10.142537</td>\n",
       "      <td>25.219512</td>\n",
       "      <td>30.751220</td>\n",
       "    </tr>\n",
       "    <tr>\n",
       "      <th>std</th>\n",
       "      <td>1.245307</td>\n",
       "      <td>6.021776</td>\n",
       "      <td>12.337289</td>\n",
       "      <td>2.145204</td>\n",
       "      <td>2.443522</td>\n",
       "      <td>520.680204</td>\n",
       "      <td>41.642693</td>\n",
       "      <td>3.972040</td>\n",
       "      <td>6.542142</td>\n",
       "      <td>6.886443</td>\n",
       "    </tr>\n",
       "    <tr>\n",
       "      <th>min</th>\n",
       "      <td>-2.000000</td>\n",
       "      <td>86.600000</td>\n",
       "      <td>141.100000</td>\n",
       "      <td>60.300000</td>\n",
       "      <td>47.800000</td>\n",
       "      <td>1488.000000</td>\n",
       "      <td>61.000000</td>\n",
       "      <td>7.000000</td>\n",
       "      <td>13.000000</td>\n",
       "      <td>16.000000</td>\n",
       "    </tr>\n",
       "    <tr>\n",
       "      <th>25%</th>\n",
       "      <td>0.000000</td>\n",
       "      <td>94.500000</td>\n",
       "      <td>166.300000</td>\n",
       "      <td>64.100000</td>\n",
       "      <td>52.000000</td>\n",
       "      <td>2145.000000</td>\n",
       "      <td>97.000000</td>\n",
       "      <td>8.600000</td>\n",
       "      <td>19.000000</td>\n",
       "      <td>25.000000</td>\n",
       "    </tr>\n",
       "    <tr>\n",
       "      <th>50%</th>\n",
       "      <td>1.000000</td>\n",
       "      <td>97.000000</td>\n",
       "      <td>173.200000</td>\n",
       "      <td>65.500000</td>\n",
       "      <td>54.100000</td>\n",
       "      <td>2414.000000</td>\n",
       "      <td>120.000000</td>\n",
       "      <td>9.000000</td>\n",
       "      <td>24.000000</td>\n",
       "      <td>30.000000</td>\n",
       "    </tr>\n",
       "    <tr>\n",
       "      <th>75%</th>\n",
       "      <td>2.000000</td>\n",
       "      <td>102.400000</td>\n",
       "      <td>183.100000</td>\n",
       "      <td>66.900000</td>\n",
       "      <td>55.500000</td>\n",
       "      <td>2935.000000</td>\n",
       "      <td>141.000000</td>\n",
       "      <td>9.400000</td>\n",
       "      <td>30.000000</td>\n",
       "      <td>34.000000</td>\n",
       "    </tr>\n",
       "    <tr>\n",
       "      <th>max</th>\n",
       "      <td>3.000000</td>\n",
       "      <td>120.900000</td>\n",
       "      <td>208.100000</td>\n",
       "      <td>72.300000</td>\n",
       "      <td>59.800000</td>\n",
       "      <td>4066.000000</td>\n",
       "      <td>326.000000</td>\n",
       "      <td>23.000000</td>\n",
       "      <td>49.000000</td>\n",
       "      <td>54.000000</td>\n",
       "    </tr>\n",
       "  </tbody>\n",
       "</table>\n",
       "</div>"
      ],
      "text/plain": [
       "        symboling  wheel_base      length       width      height  \\\n",
       "count  205.000000  205.000000  205.000000  205.000000  205.000000   \n",
       "mean     0.834146   98.756585  174.049268   65.907805   53.724878   \n",
       "std      1.245307    6.021776   12.337289    2.145204    2.443522   \n",
       "min     -2.000000   86.600000  141.100000   60.300000   47.800000   \n",
       "25%      0.000000   94.500000  166.300000   64.100000   52.000000   \n",
       "50%      1.000000   97.000000  173.200000   65.500000   54.100000   \n",
       "75%      2.000000  102.400000  183.100000   66.900000   55.500000   \n",
       "max      3.000000  120.900000  208.100000   72.300000   59.800000   \n",
       "\n",
       "       curb_weight  engine_size  compression_ratio    city_mpg  highway_mpg  \n",
       "count   205.000000   205.000000         205.000000  205.000000   205.000000  \n",
       "mean   2555.565854   126.907317          10.142537   25.219512    30.751220  \n",
       "std     520.680204    41.642693           3.972040    6.542142     6.886443  \n",
       "min    1488.000000    61.000000           7.000000   13.000000    16.000000  \n",
       "25%    2145.000000    97.000000           8.600000   19.000000    25.000000  \n",
       "50%    2414.000000   120.000000           9.000000   24.000000    30.000000  \n",
       "75%    2935.000000   141.000000           9.400000   30.000000    34.000000  \n",
       "max    4066.000000   326.000000          23.000000   49.000000    54.000000  "
      ]
     },
     "execution_count": 84,
     "metadata": {},
     "output_type": "execute_result"
    }
   ],
   "source": [
    "data.describe()"
   ]
  },
  {
   "cell_type": "code",
   "execution_count": 85,
   "metadata": {
    "collapsed": false
   },
   "outputs": [
    {
     "name": "stdout",
     "output_type": "stream",
     "text": [
      "<class 'pandas.core.frame.DataFrame'>\n",
      "RangeIndex: 205 entries, 0 to 204\n",
      "Data columns (total 26 columns):\n",
      "symboling            205 non-null int64\n",
      "normalized_losses    205 non-null object\n",
      "make                 205 non-null object\n",
      "fuel_type            205 non-null object\n",
      "aspiration           205 non-null object\n",
      "num_of_doors         205 non-null object\n",
      "body_style           205 non-null object\n",
      "drive_wheels         205 non-null object\n",
      "engine_location      205 non-null object\n",
      "wheel_base           205 non-null float64\n",
      "length               205 non-null float64\n",
      "width                205 non-null float64\n",
      "height               205 non-null float64\n",
      "curb_weight          205 non-null int64\n",
      "engine_type          205 non-null object\n",
      "num_of_cylinders     205 non-null object\n",
      "engine_size          205 non-null int64\n",
      "fuel_system          205 non-null object\n",
      "bore                 205 non-null object\n",
      "stroke               205 non-null object\n",
      "compression_ratio    205 non-null float64\n",
      "horsepower           205 non-null object\n",
      "peak_rpm             205 non-null object\n",
      "city_mpg             205 non-null int64\n",
      "highway_mpg          205 non-null int64\n",
      "price                205 non-null object\n",
      "dtypes: float64(5), int64(5), object(16)\n",
      "memory usage: 41.7+ KB\n"
     ]
    }
   ],
   "source": [
    "data.info()"
   ]
  },
  {
   "cell_type": "markdown",
   "metadata": {},
   "source": [
    "Normalized losses, symboling, horsepower, engine_size seems like an important variable for predicting car price. We should always have these present - look for ? cases and delete them."
   ]
  },
  {
   "cell_type": "code",
   "execution_count": 86,
   "metadata": {
    "collapsed": false
   },
   "outputs": [
    {
     "name": "stdout",
     "output_type": "stream",
     "text": [
      "   symboling normalized_losses         make fuel_type aspiration num_of_doors  \\\n",
      "0          3               NaN  alfa-romero       gas        std          two   \n",
      "1          3               NaN  alfa-romero       gas        std          two   \n",
      "2          1               NaN  alfa-romero       gas        std          two   \n",
      "3          2               164         audi       gas        std         four   \n",
      "4          2               164         audi       gas        std         four   \n",
      "\n",
      "    body_style drive_wheels engine_location  wheel_base  ...    engine_size  \\\n",
      "0  convertible          rwd           front        88.6  ...            130   \n",
      "1  convertible          rwd           front        88.6  ...            130   \n",
      "2    hatchback          rwd           front        94.5  ...            152   \n",
      "3        sedan          fwd           front        99.8  ...            109   \n",
      "4        sedan          4wd           front        99.4  ...            136   \n",
      "\n",
      "   fuel_system  bore  stroke compression_ratio horsepower  peak_rpm city_mpg  \\\n",
      "0         mpfi  3.47    2.68               9.0        111      5000       21   \n",
      "1         mpfi  3.47    2.68               9.0        111      5000       21   \n",
      "2         mpfi  2.68    3.47               9.0        154      5000       19   \n",
      "3         mpfi  3.19    3.40              10.0        102      5500       24   \n",
      "4         mpfi  3.19    3.40               8.0        115      5500       18   \n",
      "\n",
      "  highway_mpg  price  \n",
      "0          27  13495  \n",
      "1          27  16500  \n",
      "2          26  16500  \n",
      "3          30  13950  \n",
      "4          22  17450  \n",
      "\n",
      "[5 rows x 26 columns]\n"
     ]
    }
   ],
   "source": [
    "data['normalized_losses'].replace('?',np.nan, inplace=True)\n",
    "data['symboling'].replace('?',np.nan, inplace=True)\n",
    "data['horsepower'].replace('?',np.nan, inplace=True)\n",
    "data['price'].replace('?',np.nan, inplace=True)\n",
    "data['engine_size'].replace('?',np.nan, inplace=True)\n",
    "\n",
    "print(data.head())"
   ]
  },
  {
   "cell_type": "code",
   "execution_count": 87,
   "metadata": {
    "collapsed": false
   },
   "outputs": [],
   "source": [
    "data['normalized_losses'] = data['normalized_losses'].astype('float64')\n",
    "data['horsepower'] = data['horsepower'].astype('float64')\n",
    "data['price'] = data['price'].astype('float64')"
   ]
  },
  {
   "cell_type": "code",
   "execution_count": 88,
   "metadata": {
    "collapsed": false
   },
   "outputs": [
    {
     "name": "stdout",
     "output_type": "stream",
     "text": [
      "<class 'pandas.core.frame.DataFrame'>\n",
      "RangeIndex: 205 entries, 0 to 204\n",
      "Data columns (total 26 columns):\n",
      "symboling            205 non-null int64\n",
      "normalized_losses    164 non-null float64\n",
      "make                 205 non-null object\n",
      "fuel_type            205 non-null object\n",
      "aspiration           205 non-null object\n",
      "num_of_doors         205 non-null object\n",
      "body_style           205 non-null object\n",
      "drive_wheels         205 non-null object\n",
      "engine_location      205 non-null object\n",
      "wheel_base           205 non-null float64\n",
      "length               205 non-null float64\n",
      "width                205 non-null float64\n",
      "height               205 non-null float64\n",
      "curb_weight          205 non-null int64\n",
      "engine_type          205 non-null object\n",
      "num_of_cylinders     205 non-null object\n",
      "engine_size          205 non-null int64\n",
      "fuel_system          205 non-null object\n",
      "bore                 205 non-null object\n",
      "stroke               205 non-null object\n",
      "compression_ratio    205 non-null float64\n",
      "horsepower           203 non-null float64\n",
      "peak_rpm             205 non-null object\n",
      "city_mpg             205 non-null int64\n",
      "highway_mpg          205 non-null int64\n",
      "price                201 non-null float64\n",
      "dtypes: float64(8), int64(5), object(13)\n",
      "memory usage: 41.7+ KB\n"
     ]
    }
   ],
   "source": [
    "data.info()"
   ]
  },
  {
   "cell_type": "code",
   "execution_count": 89,
   "metadata": {
    "collapsed": false
   },
   "outputs": [
    {
     "name": "stdout",
     "output_type": "stream",
     "text": [
      "    symboling  normalized_losses  make fuel_type aspiration num_of_doors  \\\n",
      "3           2              164.0  audi       gas        std         four   \n",
      "4           2              164.0  audi       gas        std         four   \n",
      "6           1              158.0  audi       gas        std         four   \n",
      "8           1              158.0  audi       gas      turbo         four   \n",
      "10          2              192.0   bmw       gas        std          two   \n",
      "\n",
      "   body_style drive_wheels engine_location  wheel_base   ...     engine_size  \\\n",
      "3       sedan          fwd           front        99.8   ...             109   \n",
      "4       sedan          4wd           front        99.4   ...             136   \n",
      "6       sedan          fwd           front       105.8   ...             136   \n",
      "8       sedan          fwd           front       105.8   ...             131   \n",
      "10      sedan          rwd           front       101.2   ...             108   \n",
      "\n",
      "    fuel_system  bore  stroke compression_ratio horsepower  peak_rpm city_mpg  \\\n",
      "3          mpfi  3.19    3.40              10.0      102.0      5500       24   \n",
      "4          mpfi  3.19    3.40               8.0      115.0      5500       18   \n",
      "6          mpfi  3.19    3.40               8.5      110.0      5500       19   \n",
      "8          mpfi  3.13    3.40               8.3      140.0      5500       17   \n",
      "10         mpfi  3.50    2.80               8.8      101.0      5800       23   \n",
      "\n",
      "   highway_mpg    price  \n",
      "3           30  13950.0  \n",
      "4           22  17450.0  \n",
      "6           25  17710.0  \n",
      "8           20  23875.0  \n",
      "10          29  16430.0  \n",
      "\n",
      "[5 rows x 26 columns]\n"
     ]
    }
   ],
   "source": [
    "subset = data[data['normalized_losses'].notnull() & data['horsepower'].notnull() & data['price'].notnull() & data['symboling'].notnull() & data['engine_size'].notnull()]\n",
    "print(subset.head())"
   ]
  },
  {
   "cell_type": "markdown",
   "metadata": {
    "collapsed": true
   },
   "source": [
    "Of the columns here, it seems like the following would help predict the price of a vehicle:\n",
    "\n",
    "'normalized_losses', 'make', 'fuel_type', 'drive_wheels', 'horsepower', as well as 'price' itself.\n",
    "\n",
    "We will need to standardize these columns. The formula is: standardized value = (x - x_min) / (x_max - x_min)."
   ]
  },
  {
   "cell_type": "code",
   "execution_count": 90,
   "metadata": {
    "collapsed": false
   },
   "outputs": [
    {
     "name": "stdout",
     "output_type": "stream",
     "text": [
      "    normalized_losses  symboling  horsepower    price  engine_size\n",
      "3               164.0          2       102.0  13950.0          109\n",
      "4               164.0          2       115.0  17450.0          136\n",
      "6               158.0          1       110.0  17710.0          136\n",
      "8               158.0          1       140.0  23875.0          131\n",
      "10              192.0          2       101.0  16430.0          108\n",
      "<class 'pandas.core.frame.DataFrame'>\n",
      "Int64Index: 164 entries, 3 to 204\n",
      "Data columns (total 5 columns):\n",
      "normalized_losses    164 non-null float64\n",
      "symboling            164 non-null int64\n",
      "horsepower           164 non-null float64\n",
      "price                164 non-null float64\n",
      "engine_size          164 non-null int64\n",
      "dtypes: float64(3), int64(2)\n",
      "memory usage: 7.7 KB\n"
     ]
    }
   ],
   "source": [
    "new_columns = ['normalized_losses', 'symboling', 'horsepower', 'price', 'engine_size']\n",
    "subset1 = subset[new_columns]\n",
    "print(subset1.head())\n",
    "subset1.info()"
   ]
  },
  {
   "cell_type": "code",
   "execution_count": 91,
   "metadata": {
    "collapsed": false
   },
   "outputs": [
    {
     "name": "stdout",
     "output_type": "stream",
     "text": [
      "    normalized_losses  symboling  horsepower    price  engine_size  \\\n",
      "3               164.0          2       102.0  13950.0          109   \n",
      "4               164.0          2       115.0  17450.0          136   \n",
      "6               158.0          1       110.0  17710.0          136   \n",
      "8               158.0          1       140.0  23875.0          131   \n",
      "10              192.0          2       101.0  16430.0          108   \n",
      "\n",
      "    scaled_normalized_losses  scaled_horsepower  scaled_price  \\\n",
      "3                   0.518325           0.355263      0.295010   \n",
      "4                   0.518325           0.440789      0.411918   \n",
      "6                   0.486911           0.407895      0.420603   \n",
      "8                   0.486911           0.605263      0.626528   \n",
      "10                  0.664921           0.348684      0.377848   \n",
      "\n",
      "    scaled_symboling  scaled_engine_size  \n",
      "3                0.8            0.243655  \n",
      "4                0.8            0.380711  \n",
      "6                0.6            0.380711  \n",
      "8                0.6            0.355330  \n",
      "10               0.8            0.238579  \n"
     ]
    },
    {
     "name": "stderr",
     "output_type": "stream",
     "text": [
      "/dataquest/system/env/python3/lib/python3.4/site-packages/ipykernel/__main__.py:1: SettingWithCopyWarning: \n",
      "A value is trying to be set on a copy of a slice from a DataFrame.\n",
      "Try using .loc[row_indexer,col_indexer] = value instead\n",
      "\n",
      "See the caveats in the documentation: http://pandas.pydata.org/pandas-docs/stable/indexing.html#indexing-view-versus-copy\n",
      "  if __name__ == '__main__':\n",
      "/dataquest/system/env/python3/lib/python3.4/site-packages/ipykernel/__main__.py:2: SettingWithCopyWarning: \n",
      "A value is trying to be set on a copy of a slice from a DataFrame.\n",
      "Try using .loc[row_indexer,col_indexer] = value instead\n",
      "\n",
      "See the caveats in the documentation: http://pandas.pydata.org/pandas-docs/stable/indexing.html#indexing-view-versus-copy\n",
      "  from ipykernel import kernelapp as app\n",
      "/dataquest/system/env/python3/lib/python3.4/site-packages/ipykernel/__main__.py:3: SettingWithCopyWarning: \n",
      "A value is trying to be set on a copy of a slice from a DataFrame.\n",
      "Try using .loc[row_indexer,col_indexer] = value instead\n",
      "\n",
      "See the caveats in the documentation: http://pandas.pydata.org/pandas-docs/stable/indexing.html#indexing-view-versus-copy\n",
      "  app.launch_new_instance()\n",
      "/dataquest/system/env/python3/lib/python3.4/site-packages/ipykernel/__main__.py:4: SettingWithCopyWarning: \n",
      "A value is trying to be set on a copy of a slice from a DataFrame.\n",
      "Try using .loc[row_indexer,col_indexer] = value instead\n",
      "\n",
      "See the caveats in the documentation: http://pandas.pydata.org/pandas-docs/stable/indexing.html#indexing-view-versus-copy\n",
      "/dataquest/system/env/python3/lib/python3.4/site-packages/ipykernel/__main__.py:5: SettingWithCopyWarning: \n",
      "A value is trying to be set on a copy of a slice from a DataFrame.\n",
      "Try using .loc[row_indexer,col_indexer] = value instead\n",
      "\n",
      "See the caveats in the documentation: http://pandas.pydata.org/pandas-docs/stable/indexing.html#indexing-view-versus-copy\n"
     ]
    }
   ],
   "source": [
    "subset1['scaled_normalized_losses'] = (subset1['normalized_losses'] - np.min(subset1['normalized_losses'])) / (np.max(subset1['normalized_losses'])-np.min(subset1['normalized_losses']))\n",
    "subset1['scaled_horsepower'] = (subset1['horsepower'] - np.min(subset1['horsepower'])) / (np.max(subset1['horsepower'])-np.min(subset1['horsepower']))\n",
    "subset1['scaled_price'] = (subset1['price'] - np.min(subset1['price'])) / (np.max(subset1['price'])-np.min(subset1['price']))\n",
    "subset1['scaled_symboling'] = (subset1['symboling'] - np.min(subset1['symboling'])) / (np.max(subset1['symboling'])-np.min(subset1['symboling']))\n",
    "subset1['scaled_engine_size'] = (subset1['engine_size'] - np.min(subset1['engine_size'])) / (np.max(subset1['engine_size'])-np.min(subset1['engine_size']))\n",
    "   \n",
    "print(subset1.head())"
   ]
  },
  {
   "cell_type": "code",
   "execution_count": 93,
   "metadata": {
    "collapsed": false
   },
   "outputs": [
    {
     "name": "stdout",
     "output_type": "stream",
     "text": [
      "164\n"
     ]
    }
   ],
   "source": [
    "print(len(subset1))"
   ]
  },
  {
   "cell_type": "markdown",
   "metadata": {},
   "source": [
    "Using default k:"
   ]
  },
  {
   "cell_type": "code",
   "execution_count": 116,
   "metadata": {
    "collapsed": false
   },
   "outputs": [
    {
     "name": "stdout",
     "output_type": "stream",
     "text": [
      "5381.242075276606\n",
      "4079.5769336508115\n",
      "5385.143415326686\n",
      "5385.143415326686\n",
      "3233.3023128158934\n"
     ]
    }
   ],
   "source": [
    "from sklearn.neighbors import KNeighborsRegressor\n",
    "from sklearn.model_selection import train_test_split\n",
    "from sklearn.metrics import mean_squared_error\n",
    "\n",
    "\n",
    "# X = subset1[['scaled_normalized_losses','scaled_horsepower','scaled_symboling','scaled_engine_size']]\n",
    "# Y = subset1[['scaled_price']]\n",
    "\n",
    "def knn_train_test(predictor, target, dataset):\n",
    "    X = dataset[[predictor]]\n",
    "    Y = dataset[target]\n",
    "    X_train, X_test, Y_train, Y_test = train_test_split(X, Y, test_size=0.2, random_state=1)\n",
    "    knn = KNeighborsRegressor()\n",
    "    knn.fit(X_train, Y_train)\n",
    "    predictions = knn.predict(X_test)\n",
    "    mse = mean_squared_error(Y_test, predictions)\n",
    "    rmse = np.sqrt(mse)\n",
    "    return rmse\n",
    "\n",
    "r1 = knn_train_test('scaled_normalized_losses','price',subset1)\n",
    "print(r1)\n",
    "r2 = knn_train_test('scaled_horsepower','price',subset1)\n",
    "print(r2)\n",
    "r3 = knn_train_test('scaled_symboling','price',subset1)\n",
    "print(r3)\n",
    "r4 = knn_train_test('symboling','price',subset1)\n",
    "print(r4)\n",
    "r5 = knn_train_test('scaled_engine_size','price',subset1)\n",
    "print(r5)"
   ]
  },
  {
   "cell_type": "markdown",
   "metadata": {},
   "source": [
    "It seems like scaled engine size performed best."
   ]
  },
  {
   "cell_type": "markdown",
   "metadata": {},
   "source": [
    "Varying k:"
   ]
  },
  {
   "cell_type": "code",
   "execution_count": 119,
   "metadata": {
    "collapsed": false
   },
   "outputs": [
    {
     "data": {
      "image/png": "[encoded data removed]",
      "text/plain": [
       "<matplotlib.figure.Figure at 0x7fe5beebba90>"
      ]
     },
     "metadata": {},
     "output_type": "display_data"
    }
   ],
   "source": [
    "%matplotlib inline\n",
    "import matplotlib.pyplot as plt\n",
    "\n",
    "def knn_train_test_new(predictor, target, dataset, parameter):\n",
    "    X = dataset[[predictor]]\n",
    "    Y = dataset[target]\n",
    "    X_train, X_test, Y_train, Y_test = train_test_split(X, Y, test_size=0.2, random_state=1)\n",
    "    rmses = []\n",
    "    for i in parameter:\n",
    "        knn = KNeighborsRegressor(i)\n",
    "        knn.fit(X_train, Y_train)\n",
    "        predictions = knn.predict(X_test)\n",
    "        mse = mean_squared_error(Y_test, predictions)\n",
    "        rmse = np.sqrt(mse)\n",
    "        rmses.append(rmse)\n",
    "    return rmses\n",
    "\n",
    "l = [1, 3, 5, 7, 9]\n",
    "\n",
    "r1 = knn_train_test_new('scaled_normalized_losses','price',subset1, l)\n",
    "plt.scatter(l, r1)\n",
    "plt.ylim([0,10000])\n",
    "plt.show()"
   ]
  },
  {
   "cell_type": "code",
   "execution_count": 120,
   "metadata": {
    "collapsed": false
   },
   "outputs": [
    {
     "data": {
      "image/png": "[encoded data removed]",
      "text/plain": [
       "<matplotlib.figure.Figure at 0x7fe5bedc94a8>"
      ]
     },
     "metadata": {},
     "output_type": "display_data"
    }
   ],
   "source": [
    "r1 = knn_train_test_new('scaled_horsepower','price',subset1, l)\n",
    "plt.scatter(l, r1)\n",
    "plt.ylim([0,10000])\n",
    "plt.show()"
   ]
  },
  {
   "cell_type": "code",
   "execution_count": 122,
   "metadata": {
    "collapsed": false
   },
   "outputs": [
    {
     "data": {
      "image/png": "[encoded data removed]",
      "text/plain": [
       "<matplotlib.figure.Figure at 0x7fe5beceb470>"
      ]
     },
     "metadata": {},
     "output_type": "display_data"
    }
   ],
   "source": [
    "r1 = knn_train_test_new('symboling','price',subset1, l)\n",
    "plt.scatter(l, r1)\n",
    "plt.ylim([0,10000])\n",
    "plt.show()"
   ]
  },
  {
   "cell_type": "code",
   "execution_count": 123,
   "metadata": {
    "collapsed": false
   },
   "outputs": [
    {
     "data": {
      "image/png": "[encoded data removed]",
      "text/plain": [
       "<matplotlib.figure.Figure at 0x7fe5bec4f630>"
      ]
     },
     "metadata": {},
     "output_type": "display_data"
    }
   ],
   "source": [
    "r1 = knn_train_test_new('scaled_engine_size','price',subset1, l)\n",
    "plt.scatter(l, r1)\n",
    "plt.ylim([0,10000])\n",
    "plt.show()"
   ]
  },
  {
   "cell_type": "markdown",
   "metadata": {},
   "source": [
    "Making the function work with more than 1 column - all features:"
   ]
  },
  {
   "cell_type": "code",
   "execution_count": 129,
   "metadata": {
    "collapsed": false
   },
   "outputs": [
    {
     "name": "stdout",
     "output_type": "stream",
     "text": [
      "4305.984379765895\n"
     ]
    }
   ],
   "source": [
    "def knn_train_test_new_2(predictor, target, dataset):\n",
    "    X = dataset[predictor]\n",
    "    Y = dataset[target]\n",
    "    X_train, X_test, Y_train, Y_test = train_test_split(X, Y, test_size=0.2, random_state=1)\n",
    "    knn = KNeighborsRegressor()\n",
    "    knn.fit(X_train, Y_train)\n",
    "    predictions = knn.predict(X_test)\n",
    "    mse = mean_squared_error(Y_test, predictions)\n",
    "    rmse = np.sqrt(mse)\n",
    "    return rmse\n",
    "\n",
    "X = ['scaled_normalized_losses','scaled_horsepower','scaled_symboling','scaled_engine_size']\n",
    "Y = ['price']\n",
    "\n",
    "r1 = knn_train_test_new_2(X, Y, subset1)\n",
    "print(r1)"
   ]
  },
  {
   "cell_type": "markdown",
   "metadata": {},
   "source": [
    "Best 2 features:"
   ]
  },
  {
   "cell_type": "code",
   "execution_count": 130,
   "metadata": {
    "collapsed": false
   },
   "outputs": [
    {
     "name": "stdout",
     "output_type": "stream",
     "text": [
      "3578.9376536180184\n"
     ]
    }
   ],
   "source": [
    "def knn_train_test_new_2(predictor, target, dataset):\n",
    "    X = dataset[predictor]\n",
    "    Y = dataset[target]\n",
    "    X_train, X_test, Y_train, Y_test = train_test_split(X, Y, test_size=0.2, random_state=1)\n",
    "    knn = KNeighborsRegressor()\n",
    "    knn.fit(X_train, Y_train)\n",
    "    predictions = knn.predict(X_test)\n",
    "    mse = mean_squared_error(Y_test, predictions)\n",
    "    rmse = np.sqrt(mse)\n",
    "    return rmse\n",
    "\n",
    "X = ['scaled_horsepower','scaled_engine_size']\n",
    "Y = ['price']\n",
    "\n",
    "r1 = knn_train_test_new_2(X, Y, subset1)\n",
    "print(r1)"
   ]
  },
  {
   "cell_type": "markdown",
   "metadata": {},
   "source": [
    "Best 3 features:"
   ]
  },
  {
   "cell_type": "code",
   "execution_count": 131,
   "metadata": {
    "collapsed": false
   },
   "outputs": [
    {
     "name": "stdout",
     "output_type": "stream",
     "text": [
      "4014.0340112705026\n"
     ]
    }
   ],
   "source": [
    "def knn_train_test_new_2(predictor, target, dataset):\n",
    "    X = dataset[predictor]\n",
    "    Y = dataset[target]\n",
    "    X_train, X_test, Y_train, Y_test = train_test_split(X, Y, test_size=0.2, random_state=1)\n",
    "    knn = KNeighborsRegressor()\n",
    "    knn.fit(X_train, Y_train)\n",
    "    predictions = knn.predict(X_test)\n",
    "    mse = mean_squared_error(Y_test, predictions)\n",
    "    rmse = np.sqrt(mse)\n",
    "    return rmse\n",
    "\n",
    "X = ['scaled_horsepower','scaled_engine_size', 'scaled_symboling']\n",
    "Y = ['price']\n",
    "\n",
    "r1 = knn_train_test_new_2(X, Y, subset1)\n",
    "print(r1)"
   ]
  },
  {
   "cell_type": "markdown",
   "metadata": {},
   "source": [
    "Hyperparameter tuning - only scaled_horsepower:"
   ]
  },
  {
   "cell_type": "code",
   "execution_count": 147,
   "metadata": {
    "collapsed": false
   },
   "outputs": [
    {
     "data": {
      "image/png": "[encoded data removed]",
      "text/plain": [
       "<matplotlib.figure.Figure at 0x7fe5bea9deb8>"
      ]
     },
     "metadata": {},
     "output_type": "display_data"
    }
   ],
   "source": [
    "def knn_train_test_new_3(predictor, target, dataset, parameter):\n",
    "    X = dataset[predictor]\n",
    "    Y = dataset[target]\n",
    "    X_train, X_test, Y_train, Y_test = train_test_split(X, Y, test_size=0.2, random_state=1)\n",
    "    rmses = []\n",
    "    for i in parameter:\n",
    "        knn = KNeighborsRegressor(i)\n",
    "        knn.fit(X_train, Y_train)\n",
    "        predictions = knn.predict(X_test)\n",
    "        mse = mean_squared_error(Y_test, predictions)\n",
    "        rmse = np.sqrt(mse)\n",
    "        rmses.append(rmse)\n",
    "    return rmses\n",
    "\n",
    "l = list(range(1,25))\n",
    "X = ['scaled_horsepower']\n",
    "Y = ['price']\n",
    "\n",
    "r1 = knn_train_test_new_3(X, Y, subset1, l)\n",
    "plt.scatter(l, r1)\n",
    "plt.ylim([3000,5000])\n",
    "plt.xlim([0,26])\n",
    "plt.show()"
   ]
  },
  {
   "cell_type": "markdown",
   "metadata": {},
   "source": [
    "For the single variable model, it seems like a larger k is better."
   ]
  },
  {
   "cell_type": "markdown",
   "metadata": {},
   "source": [
    "Hyperparameter tuning - best 2 features:"
   ]
  },
  {
   "cell_type": "code",
   "execution_count": 149,
   "metadata": {
    "collapsed": false
   },
   "outputs": [
    {
     "data": {
      "image/png": "[encoded data removed]",
      "text/plain": [
       "<matplotlib.figure.Figure at 0x7fe5bed67cc0>"
      ]
     },
     "metadata": {},
     "output_type": "display_data"
    }
   ],
   "source": [
    "def knn_train_test_new_4(predictor, target, dataset, parameter):\n",
    "    X = dataset[predictor]\n",
    "    Y = dataset[target]\n",
    "    X_train, X_test, Y_train, Y_test = train_test_split(X, Y, test_size=0.2, random_state=1)\n",
    "    rmses = []\n",
    "    for i in parameter:\n",
    "        knn = KNeighborsRegressor(i)\n",
    "        knn.fit(X_train, Y_train)\n",
    "        predictions = knn.predict(X_test)\n",
    "        mse = mean_squared_error(Y_test, predictions)\n",
    "        rmse = np.sqrt(mse)\n",
    "        rmses.append(rmse)\n",
    "    return rmses\n",
    "\n",
    "l = list(range(1,25))\n",
    "X = ['scaled_horsepower','scaled_engine_size']\n",
    "Y = ['price']\n",
    "\n",
    "r1 = knn_train_test_new_4(X, Y, subset1, l)\n",
    "plt.scatter(l, r1)\n",
    "plt.ylim([3000,5000])\n",
    "plt.xlim([0,26])\n",
    "plt.show()"
   ]
  },
  {
   "cell_type": "markdown",
   "metadata": {},
   "source": [
    "For the best 2 model, it seems like a lower k is better."
   ]
  },
  {
   "cell_type": "code",
   "execution_count": null,
   "metadata": {
    "collapsed": true
   },
   "outputs": [],
   "source": []
  }
 ],
 "metadata": {
  "kernelspec": {
   "display_name": "Python 3",
   "language": "python",
   "name": "python3"
  },
  "language_info": {
   "codemirror_mode": {
    "name": "ipython",
    "version": 3
   },
   "file_extension": ".py",
   "mimetype": "text/x-python",
   "name": "python",
   "nbconvert_exporter": "python",
   "pygments_lexer": "ipython3",
   "version": "3.4.3"
  }
 },
 "nbformat": 4,
 "nbformat_minor": 4
}
