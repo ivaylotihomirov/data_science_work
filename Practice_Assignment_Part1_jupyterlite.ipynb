{
  "cells": [
    {
      "cell_type": "markdown",
      "metadata": {
        "id": "view-in-github",
        "colab_type": "text"
      },
      "source": [
        "<a href=\"https://colab.research.google.com/github/ivaylotihomirov/data_science_work/blob/main/Practice_Assignment_Part1_jupyterlite.ipynb\" target=\"_parent\"><img src=\"https://colab.research.google.com/assets/colab-badge.svg\" alt=\"Open In Colab\"/></a>"
      ]
    },
    {
      "cell_type": "markdown",
      "metadata": {
        "id": "177ed059-573a-44e0-8ff8-e3a3c8fdbb78"
      },
      "source": [
        "<p style=\"text-align:center\">\n",
        "    <a href=\"https://skills.network\" target=\"_blank\">\n",
        "    <img src=\"https://cf-courses-data.s3.us.cloud-object-storage.appdomain.cloud/assets/logos/SN_web_lightmode.png\" width=\"200\" alt=\"Skills Network Logo\">\n",
        "    </a>\n",
        "</p>\n"
      ]
    },
    {
      "cell_type": "markdown",
      "metadata": {
        "id": "864bd481-c58e-4085-8877-b367199e0e97"
      },
      "source": [
        "# **Practice Assignment - Part 1: Analyzing wildfire activities in Australia**\n",
        "\n",
        "Estimated time needed: **40** minutes\n"
      ]
    },
    {
      "cell_type": "markdown",
      "metadata": {
        "id": "eda33ae1-9911-4332-a5f5-dff516beb6b8"
      },
      "source": [
        "# __Table of Contents__\n",
        "\n",
        "<ol>\n",
        "    <li><a href=\"#Objectives\">Objectives</a></li>\n",
        "    <li>\n",
        "        <a href=\"#Setup\">Setup</a>\n",
        "        <ol>\n",
        "            <li><a href=\"#Installing-Required-Libraries\">Installing Required Libraries</a></li>\n",
        "            <li><a href=\"#Importing-Required-Libraries\">Importing Required Libraries</a></li>\n",
        "    </li>\n",
        "    <li>\n",
        "        <a href=\"#Dataset\">Dataset</a>\n",
        "    </li>\n",
        "    <li><a href=\"#Importing Dataset\">Importing Dataset</a></li>\n",
        "    <li><a href=\"#Practice Tasks\">Practice Tasks</a></li>\n",
        "   \n"
      ]
    },
    {
      "cell_type": "markdown",
      "metadata": {
        "id": "65241f3a-b536-4b78-850e-c3f98ab84a00"
      },
      "source": [
        "---\n"
      ]
    },
    {
      "cell_type": "markdown",
      "metadata": {
        "id": "af8fae1c-1ca1-4180-8e7e-8a9a7a44a026"
      },
      "source": [
        "# Objectives\n",
        "\n",
        "After completing this lab you will be able to:\n",
        "\n",
        " - Use visualization libraries such as Matplotlib, Pandas, Seaborn and Folium to create informative plots and charts\n"
      ]
    },
    {
      "cell_type": "markdown",
      "metadata": {
        "id": "77b080c7-da74-4926-8391-bffba6003a8f"
      },
      "source": [
        "---\n"
      ]
    },
    {
      "cell_type": "markdown",
      "metadata": {
        "id": "d4b5d521-a189-4e9f-b3d4-6b6c63958670"
      },
      "source": [
        "# Setup\n"
      ]
    },
    {
      "cell_type": "markdown",
      "metadata": {
        "id": "8dbdbd01-3ba7-4d59-ad5b-eb68a485f505"
      },
      "source": [
        "For this lab, we will be using the following libraries:\n",
        "\n",
        "*   [`pandas`](https://pandas.pydata.org/?utm_medium=Exinfluencer&utm_source=Exinfluencer&utm_content=000026UJ&utm_term=10006555&utm_id=NA-SkillsNetwork-Channel-SkillsNetworkCoursesIBMML0187ENSkillsNetwork31430127-2021-01-01) for managing the data.\n",
        "*   [`numpy`](https://numpy.org/?utm_medium=Exinfluencer&utm_source=Exinfluencer&utm_content=000026UJ&utm_term=10006555&utm_id=NA-SkillsNetwork-Channel-SkillsNetworkCoursesIBMML0187ENSkillsNetwork31430127-2021-01-01) for mathematical operations.\n",
        "*   [`seaborn`](https://seaborn.pydata.org/?utm_medium=Exinfluencer&utm_source=Exinfluencer&utm_content=000026UJ&utm_term=10006555&utm_id=NA-SkillsNetwork-Channel-SkillsNetworkCoursesIBMML0187ENSkillsNetwork31430127-2021-01-01) for visualizing the data.\n",
        "*   [`matplotlib`](https://matplotlib.org/?utm_medium=Exinfluencer&utm_source=Exinfluencer&utm_content=000026UJ&utm_term=10006555&utm_id=NA-SkillsNetwork-Channel-SkillsNetworkCoursesIBMML0187ENSkillsNetwork31430127-2021-01-01) for additional plotting tools.\n"
      ]
    },
    {
      "cell_type": "markdown",
      "metadata": {
        "id": "7119ce89-079d-4152-8217-1b17fb412680"
      },
      "source": [
        "### Installing Required Libraries\n",
        "\n",
        "The following required libraries are pre-installed in the Skills Network Labs environment. However, if you run this notebook commands in a different Jupyter environment (e.g. Watson Studio or Ananconda), you will need to install these libraries by removing the `#` sign before `%pip` in the code cell below.\n"
      ]
    },
    {
      "cell_type": "code",
      "metadata": {
        "id": "c3a238ea-cff7-4947-99b8-db08ef828e21"
      },
      "outputs": [],
      "source": [
        "# All Libraries required for this lab are listed below. The libraries pre-installed on Skills Network Labs are commented.\n",
        "#%pip install -qy pandas==1.3.4 numpy==1.21.4 seaborn==0.9.0 matplotlib==3.5.0 folium\n",
        "# Note: If your environment doesn't support \"%pip install\", use \"!mamba install\""
      ],
      "execution_count": 1
    },
    {
      "cell_type": "code",
      "metadata": {
        "id": "799415b9-bd34-4d4f-8f58-4ab3cefe9da9"
      },
      "outputs": [],
      "source": [
        "# %pip install seaborn\n",
        "# %pip install folium\n",
        "# pip install pyodide"
      ],
      "execution_count": 2
    },
    {
      "cell_type": "markdown",
      "metadata": {
        "id": "d2fc4704-e2d1-48b6-98d2-65885490fcee"
      },
      "source": [
        "### Importing Required Libraries\n",
        "\n",
        "_We recommend you import all required libraries in one place (here):_\n"
      ]
    },
    {
      "cell_type": "code",
      "metadata": {
        "id": "e4b725ad-c5f8-4bd6-b975-9ebe45df6798"
      },
      "outputs": [],
      "source": [
        "import numpy as np\n",
        "import pandas as pd\n",
        "import matplotlib.pyplot as plt\n",
        "import seaborn as sns\n",
        "import folium\n",
        "\n",
        "%matplotlib inline"
      ],
      "execution_count": 3
    },
    {
      "cell_type": "markdown",
      "metadata": {
        "id": "31e6bc58-278b-4260-8a1c-5c2a94c91dd2"
      },
      "source": [
        "---\n"
      ]
    },
    {
      "cell_type": "markdown",
      "metadata": {
        "id": "3e81e5ee-681e-44c0-9b4a-520066d60607"
      },
      "source": [
        "# Dataset\n",
        "\n",
        "**Historical Wildfires**\n",
        "\n",
        "This wildfire dataset contains data on fire activities in Australia starting from 2005. Additional information can be found [here](https://earthdata.nasa.gov/earth-observation-data/near-real-time/firms/c6-mcd14dl).\n",
        "\n",
        "Variables\n",
        "\n",
        "- Region: the 7 regions\n",
        "- Date: in UTC and provide the data for 24 hours ahead\n",
        "- Estimated_fire_area: daily sum of estimated fire area for presumed vegetation fires with a confidence > 75% for a each region in km2\n",
        "- Mean_estimated_fire_brightness: daily mean (by flagged fire pixels(=count)) of estimated fire brightness for presumed vegetation fires with a confidence level > 75% in Kelvin\n",
        "- Mean_estimated_fire_radiative_power: daily mean of estimated radiative power for presumed vegetation fires with a confidence level > 75% for a given region in megawatts\n",
        "- Mean_confidence: daily mean of confidence for presumed vegetation fires with a confidence level > 75%\n",
        "- Std_confidence: standard deviation of estimated fire radiative power in megawatts\n",
        "- Var_confidence: Variance of estimated fire radiative power in megawatts\n",
        "- Count: daily numbers of pixels for presumed vegetation fires with a confidence level of larger than 75% for a given region\n",
        "- Replaced: Indicates with an Y whether the data has been replaced with standard quality data when they are available (usually with a 2-3 month lag). Replaced data has a slightly higher quality in terms of locations\n"
      ]
    },
    {
      "cell_type": "markdown",
      "metadata": {
        "id": "7fe7e2ac-c851-46cb-95be-c26d0d197d38"
      },
      "source": [
        "---\n"
      ]
    },
    {
      "cell_type": "markdown",
      "metadata": {
        "id": "d2050e7b-2c7b-4d65-8a8a-1ed5e07bebe3"
      },
      "source": [
        "### Importing Data\n"
      ]
    },
    {
      "cell_type": "code",
      "metadata": {
        "colab": {
          "base_uri": "https://localhost:8080/"
        },
        "id": "881ef56f-1011-408f-bc4b-e48d38370868",
        "outputId": "ffbfa6ff-4527-4d4e-d0cf-988647fe73e7"
      },
      "outputs": [
        {
          "output_type": "stream",
          "name": "stdout",
          "text": [
            "Data read into a pandas dataframe!\n"
          ]
        }
      ],
      "source": [
        "URL = \"https://cf-courses-data.s3.us.cloud-object-storage.appdomain.cloud/IBMDeveloperSkillsNetwork-DV0101EN-SkillsNetwork/Data%20Files/Historical_Wildfires.csv\"\n",
        "df = pd.read_csv(URL)\n",
        "print('Data read into a pandas dataframe!')\n"
      ],
      "execution_count": 4
    },
    {
      "cell_type": "markdown",
      "metadata": {
        "id": "bf447741-2323-4e1c-a858-f7a184b2d86b"
      },
      "source": [
        "Let's look at some samples rows from the dataset we loaded:\n"
      ]
    },
    {
      "cell_type": "code",
      "metadata": {
        "colab": {
          "base_uri": "https://localhost:8080/",
          "height": 226
        },
        "id": "0116b95c-e9a6-4d6c-bf42-b05ca6fac436",
        "outputId": "c3e2842a-e403-48f2-cb5e-d3f22e2a06ef"
      },
      "outputs": [
        {
          "output_type": "execute_result",
          "data": {
            "text/plain": [
              "  Region      Date  Estimated_fire_area  Mean_estimated_fire_brightness  \\\n",
              "0    NSW  1/4/2005              8.68000                      312.266667   \n",
              "1    NSW  1/5/2005             16.61125                      322.475000   \n",
              "2    NSW  1/6/2005              5.52000                      325.266667   \n",
              "3    NSW  1/7/2005              6.26400                      313.870000   \n",
              "4    NSW  1/8/2005              5.40000                      337.383333   \n",
              "\n",
              "   Mean_estimated_fire_radiative_power  Mean_confidence  Std_confidence  \\\n",
              "0                            42.400000        78.666667        2.886751   \n",
              "1                            62.362500        85.500000        8.088793   \n",
              "2                            38.400000        78.333333        3.214550   \n",
              "3                            33.800000        92.200000        7.529940   \n",
              "4                           122.533333        91.000000        7.937254   \n",
              "\n",
              "   Var_confidence  Count Replaced  \n",
              "0        8.333333      3        R  \n",
              "1       65.428571      8        R  \n",
              "2       10.333333      3        R  \n",
              "3       56.700000      5        R  \n",
              "4       63.000000      3        R  "
            ],
            "text/html": [
              "\n",
              "  <div id=\"df-fd7088ac-e6d9-4376-b5dc-3c229d1da9ae\" class=\"colab-df-container\">\n",
              "    <div>\n",
              "<style scoped>\n",
              "    .dataframe tbody tr th:only-of-type {\n",
              "        vertical-align: middle;\n",
              "    }\n",
              "\n",
              "    .dataframe tbody tr th {\n",
              "        vertical-align: top;\n",
              "    }\n",
              "\n",
              "    .dataframe thead th {\n",
              "        text-align: right;\n",
              "    }\n",
              "</style>\n",
              "<table border=\"1\" class=\"dataframe\">\n",
              "  <thead>\n",
              "    <tr style=\"text-align: right;\">\n",
              "      <th></th>\n",
              "      <th>Region</th>\n",
              "      <th>Date</th>\n",
              "      <th>Estimated_fire_area</th>\n",
              "      <th>Mean_estimated_fire_brightness</th>\n",
              "      <th>Mean_estimated_fire_radiative_power</th>\n",
              "      <th>Mean_confidence</th>\n",
              "      <th>Std_confidence</th>\n",
              "      <th>Var_confidence</th>\n",
              "      <th>Count</th>\n",
              "      <th>Replaced</th>\n",
              "    </tr>\n",
              "  </thead>\n",
              "  <tbody>\n",
              "    <tr>\n",
              "      <th>0</th>\n",
              "      <td>NSW</td>\n",
              "      <td>1/4/2005</td>\n",
              "      <td>8.68000</td>\n",
              "      <td>312.266667</td>\n",
              "      <td>42.400000</td>\n",
              "      <td>78.666667</td>\n",
              "      <td>2.886751</td>\n",
              "      <td>8.333333</td>\n",
              "      <td>3</td>\n",
              "      <td>R</td>\n",
              "    </tr>\n",
              "    <tr>\n",
              "      <th>1</th>\n",
              "      <td>NSW</td>\n",
              "      <td>1/5/2005</td>\n",
              "      <td>16.61125</td>\n",
              "      <td>322.475000</td>\n",
              "      <td>62.362500</td>\n",
              "      <td>85.500000</td>\n",
              "      <td>8.088793</td>\n",
              "      <td>65.428571</td>\n",
              "      <td>8</td>\n",
              "      <td>R</td>\n",
              "    </tr>\n",
              "    <tr>\n",
              "      <th>2</th>\n",
              "      <td>NSW</td>\n",
              "      <td>1/6/2005</td>\n",
              "      <td>5.52000</td>\n",
              "      <td>325.266667</td>\n",
              "      <td>38.400000</td>\n",
              "      <td>78.333333</td>\n",
              "      <td>3.214550</td>\n",
              "      <td>10.333333</td>\n",
              "      <td>3</td>\n",
              "      <td>R</td>\n",
              "    </tr>\n",
              "    <tr>\n",
              "      <th>3</th>\n",
              "      <td>NSW</td>\n",
              "      <td>1/7/2005</td>\n",
              "      <td>6.26400</td>\n",
              "      <td>313.870000</td>\n",
              "      <td>33.800000</td>\n",
              "      <td>92.200000</td>\n",
              "      <td>7.529940</td>\n",
              "      <td>56.700000</td>\n",
              "      <td>5</td>\n",
              "      <td>R</td>\n",
              "    </tr>\n",
              "    <tr>\n",
              "      <th>4</th>\n",
              "      <td>NSW</td>\n",
              "      <td>1/8/2005</td>\n",
              "      <td>5.40000</td>\n",
              "      <td>337.383333</td>\n",
              "      <td>122.533333</td>\n",
              "      <td>91.000000</td>\n",
              "      <td>7.937254</td>\n",
              "      <td>63.000000</td>\n",
              "      <td>3</td>\n",
              "      <td>R</td>\n",
              "    </tr>\n",
              "  </tbody>\n",
              "</table>\n",
              "</div>\n",
              "    <div class=\"colab-df-buttons\">\n",
              "\n",
              "  <div class=\"colab-df-container\">\n",
              "    <button class=\"colab-df-convert\" onclick=\"convertToInteractive('df-fd7088ac-e6d9-4376-b5dc-3c229d1da9ae')\"\n",
              "            title=\"Convert this dataframe to an interactive table.\"\n",
              "            style=\"display:none;\">\n",
              "\n",
              "  <svg xmlns=\"http://www.w3.org/2000/svg\" height=\"24px\" viewBox=\"0 -960 960 960\">\n",
              "    <path d=\"M120-120v-720h720v720H120Zm60-500h600v-160H180v160Zm220 220h160v-160H400v160Zm0 220h160v-160H400v160ZM180-400h160v-160H180v160Zm440 0h160v-160H620v160ZM180-180h160v-160H180v160Zm440 0h160v-160H620v160Z\"/>\n",
              "  </svg>\n",
              "    </button>\n",
              "\n",
              "  <style>\n",
              "    .colab-df-container {\n",
              "      display:flex;\n",
              "      gap: 12px;\n",
              "    }\n",
              "\n",
              "    .colab-df-convert {\n",
              "      background-color: #E8F0FE;\n",
              "      border: none;\n",
              "      border-radius: 50%;\n",
              "      cursor: pointer;\n",
              "      display: none;\n",
              "      fill: #1967D2;\n",
              "      height: 32px;\n",
              "      padding: 0 0 0 0;\n",
              "      width: 32px;\n",
              "    }\n",
              "\n",
              "    .colab-df-convert:hover {\n",
              "      background-color: #E2EBFA;\n",
              "      box-shadow: 0px 1px 2px rgba(60, 64, 67, 0.3), 0px 1px 3px 1px rgba(60, 64, 67, 0.15);\n",
              "      fill: #174EA6;\n",
              "    }\n",
              "\n",
              "    .colab-df-buttons div {\n",
              "      margin-bottom: 4px;\n",
              "    }\n",
              "\n",
              "    [theme=dark] .colab-df-convert {\n",
              "      background-color: #3B4455;\n",
              "      fill: #D2E3FC;\n",
              "    }\n",
              "\n",
              "    [theme=dark] .colab-df-convert:hover {\n",
              "      background-color: #434B5C;\n",
              "      box-shadow: 0px 1px 3px 1px rgba(0, 0, 0, 0.15);\n",
              "      filter: drop-shadow(0px 1px 2px rgba(0, 0, 0, 0.3));\n",
              "      fill: #FFFFFF;\n",
              "    }\n",
              "  </style>\n",
              "\n",
              "    <script>\n",
              "      const buttonEl =\n",
              "        document.querySelector('#df-fd7088ac-e6d9-4376-b5dc-3c229d1da9ae button.colab-df-convert');\n",
              "      buttonEl.style.display =\n",
              "        google.colab.kernel.accessAllowed ? 'block' : 'none';\n",
              "\n",
              "      async function convertToInteractive(key) {\n",
              "        const element = document.querySelector('#df-fd7088ac-e6d9-4376-b5dc-3c229d1da9ae');\n",
              "        const dataTable =\n",
              "          await google.colab.kernel.invokeFunction('convertToInteractive',\n",
              "                                                    [key], {});\n",
              "        if (!dataTable) return;\n",
              "\n",
              "        const docLinkHtml = 'Like what you see? Visit the ' +\n",
              "          '<a target=\"_blank\" href=https://colab.research.google.com/notebooks/data_table.ipynb>data table notebook</a>'\n",
              "          + ' to learn more about interactive tables.';\n",
              "        element.innerHTML = '';\n",
              "        dataTable['output_type'] = 'display_data';\n",
              "        await google.colab.output.renderOutput(dataTable, element);\n",
              "        const docLink = document.createElement('div');\n",
              "        docLink.innerHTML = docLinkHtml;\n",
              "        element.appendChild(docLink);\n",
              "      }\n",
              "    </script>\n",
              "  </div>\n",
              "\n",
              "\n",
              "<div id=\"df-fc6279ca-5ce1-44b6-aa34-c4ae95549e25\">\n",
              "  <button class=\"colab-df-quickchart\" onclick=\"quickchart('df-fc6279ca-5ce1-44b6-aa34-c4ae95549e25')\"\n",
              "            title=\"Suggest charts\"\n",
              "            style=\"display:none;\">\n",
              "\n",
              "<svg xmlns=\"http://www.w3.org/2000/svg\" height=\"24px\"viewBox=\"0 0 24 24\"\n",
              "     width=\"24px\">\n",
              "    <g>\n",
              "        <path d=\"M19 3H5c-1.1 0-2 .9-2 2v14c0 1.1.9 2 2 2h14c1.1 0 2-.9 2-2V5c0-1.1-.9-2-2-2zM9 17H7v-7h2v7zm4 0h-2V7h2v10zm4 0h-2v-4h2v4z\"/>\n",
              "    </g>\n",
              "</svg>\n",
              "  </button>\n",
              "\n",
              "<style>\n",
              "  .colab-df-quickchart {\n",
              "      --bg-color: #E8F0FE;\n",
              "      --fill-color: #1967D2;\n",
              "      --hover-bg-color: #E2EBFA;\n",
              "      --hover-fill-color: #174EA6;\n",
              "      --disabled-fill-color: #AAA;\n",
              "      --disabled-bg-color: #DDD;\n",
              "  }\n",
              "\n",
              "  [theme=dark] .colab-df-quickchart {\n",
              "      --bg-color: #3B4455;\n",
              "      --fill-color: #D2E3FC;\n",
              "      --hover-bg-color: #434B5C;\n",
              "      --hover-fill-color: #FFFFFF;\n",
              "      --disabled-bg-color: #3B4455;\n",
              "      --disabled-fill-color: #666;\n",
              "  }\n",
              "\n",
              "  .colab-df-quickchart {\n",
              "    background-color: var(--bg-color);\n",
              "    border: none;\n",
              "    border-radius: 50%;\n",
              "    cursor: pointer;\n",
              "    display: none;\n",
              "    fill: var(--fill-color);\n",
              "    height: 32px;\n",
              "    padding: 0;\n",
              "    width: 32px;\n",
              "  }\n",
              "\n",
              "  .colab-df-quickchart:hover {\n",
              "    background-color: var(--hover-bg-color);\n",
              "    box-shadow: 0 1px 2px rgba(60, 64, 67, 0.3), 0 1px 3px 1px rgba(60, 64, 67, 0.15);\n",
              "    fill: var(--button-hover-fill-color);\n",
              "  }\n",
              "\n",
              "  .colab-df-quickchart-complete:disabled,\n",
              "  .colab-df-quickchart-complete:disabled:hover {\n",
              "    background-color: var(--disabled-bg-color);\n",
              "    fill: var(--disabled-fill-color);\n",
              "    box-shadow: none;\n",
              "  }\n",
              "\n",
              "  .colab-df-spinner {\n",
              "    border: 2px solid var(--fill-color);\n",
              "    border-color: transparent;\n",
              "    border-bottom-color: var(--fill-color);\n",
              "    animation:\n",
              "      spin 1s steps(1) infinite;\n",
              "  }\n",
              "\n",
              "  @keyframes spin {\n",
              "    0% {\n",
              "      border-color: transparent;\n",
              "      border-bottom-color: var(--fill-color);\n",
              "      border-left-color: var(--fill-color);\n",
              "    }\n",
              "    20% {\n",
              "      border-color: transparent;\n",
              "      border-left-color: var(--fill-color);\n",
              "      border-top-color: var(--fill-color);\n",
              "    }\n",
              "    30% {\n",
              "      border-color: transparent;\n",
              "      border-left-color: var(--fill-color);\n",
              "      border-top-color: var(--fill-color);\n",
              "      border-right-color: var(--fill-color);\n",
              "    }\n",
              "    40% {\n",
              "      border-color: transparent;\n",
              "      border-right-color: var(--fill-color);\n",
              "      border-top-color: var(--fill-color);\n",
              "    }\n",
              "    60% {\n",
              "      border-color: transparent;\n",
              "      border-right-color: var(--fill-color);\n",
              "    }\n",
              "    80% {\n",
              "      border-color: transparent;\n",
              "      border-right-color: var(--fill-color);\n",
              "      border-bottom-color: var(--fill-color);\n",
              "    }\n",
              "    90% {\n",
              "      border-color: transparent;\n",
              "      border-bottom-color: var(--fill-color);\n",
              "    }\n",
              "  }\n",
              "</style>\n",
              "\n",
              "  <script>\n",
              "    async function quickchart(key) {\n",
              "      const quickchartButtonEl =\n",
              "        document.querySelector('#' + key + ' button');\n",
              "      quickchartButtonEl.disabled = true;  // To prevent multiple clicks.\n",
              "      quickchartButtonEl.classList.add('colab-df-spinner');\n",
              "      try {\n",
              "        const charts = await google.colab.kernel.invokeFunction(\n",
              "            'suggestCharts', [key], {});\n",
              "      } catch (error) {\n",
              "        console.error('Error during call to suggestCharts:', error);\n",
              "      }\n",
              "      quickchartButtonEl.classList.remove('colab-df-spinner');\n",
              "      quickchartButtonEl.classList.add('colab-df-quickchart-complete');\n",
              "    }\n",
              "    (() => {\n",
              "      let quickchartButtonEl =\n",
              "        document.querySelector('#df-fc6279ca-5ce1-44b6-aa34-c4ae95549e25 button');\n",
              "      quickchartButtonEl.style.display =\n",
              "        google.colab.kernel.accessAllowed ? 'block' : 'none';\n",
              "    })();\n",
              "  </script>\n",
              "</div>\n",
              "\n",
              "    </div>\n",
              "  </div>\n"
            ],
            "application/vnd.google.colaboratory.intrinsic+json": {
              "type": "dataframe",
              "variable_name": "df",
              "summary": "{\n  \"name\": \"df\",\n  \"rows\": 26406,\n  \"fields\": [\n    {\n      \"column\": \"Region\",\n      \"properties\": {\n        \"dtype\": \"category\",\n        \"num_unique_values\": 7,\n        \"samples\": [\n          \"NSW\",\n          \"NT\",\n          \"VI\"\n        ],\n        \"semantic_type\": \"\",\n        \"description\": \"\"\n      }\n    },\n    {\n      \"column\": \"Date\",\n      \"properties\": {\n        \"dtype\": \"object\",\n        \"num_unique_values\": 5782,\n        \"samples\": [\n          \"11/5/2011\",\n          \"8/8/2012\",\n          \"11/11/2016\"\n        ],\n        \"semantic_type\": \"\",\n        \"description\": \"\"\n      }\n    },\n    {\n      \"column\": \"Estimated_fire_area\",\n      \"properties\": {\n        \"dtype\": \"number\",\n        \"std\": 314.4538467838184,\n        \"min\": 1.0,\n        \"max\": 10120.94317,\n        \"num_unique_values\": 18041,\n        \"samples\": [\n          101.0606061,\n          154.3422222,\n          95.84611111\n        ],\n        \"semantic_type\": \"\",\n        \"description\": \"\"\n      }\n    },\n    {\n      \"column\": \"Mean_estimated_fire_brightness\",\n      \"properties\": {\n        \"dtype\": \"number\",\n        \"std\": 8.862005100631839,\n        \"min\": 290.7,\n        \"max\": 381.95,\n        \"num_unique_values\": 20203,\n        \"samples\": [\n          328.3675732,\n          326.186747,\n          312.238\n        ],\n        \"semantic_type\": \"\",\n        \"description\": \"\"\n      }\n    },\n    {\n      \"column\": \"Mean_estimated_fire_radiative_power\",\n      \"properties\": {\n        \"dtype\": \"number\",\n        \"std\": 67.51002196227513,\n        \"min\": 0.0,\n        \"max\": 2178.6,\n        \"num_unique_values\": 21415,\n        \"samples\": [\n          76.37692308,\n          65.61666667,\n          47.64444444\n        ],\n        \"semantic_type\": \"\",\n        \"description\": \"\"\n      }\n    },\n    {\n      \"column\": \"Mean_confidence\",\n      \"properties\": {\n        \"dtype\": \"number\",\n        \"std\": 4.371972058753773,\n        \"min\": 76.0,\n        \"max\": 100.0,\n        \"num_unique_values\": 10804,\n        \"samples\": [\n          88.40540541,\n          87.18644068,\n          87.94244604\n        ],\n        \"semantic_type\": \"\",\n        \"description\": \"\"\n      }\n    },\n    {\n      \"column\": \"Std_confidence\",\n      \"properties\": {\n        \"dtype\": \"number\",\n        \"std\": 1.9952207820437329,\n        \"min\": 0.0,\n        \"max\": 16.97056275,\n        \"num_unique_values\": 18882,\n        \"samples\": [\n          7.431559068,\n          8.016706204,\n          6.051367417\n        ],\n        \"semantic_type\": \"\",\n        \"description\": \"\"\n      }\n    },\n    {\n      \"column\": \"Var_confidence\",\n      \"properties\": {\n        \"dtype\": \"number\",\n        \"std\": 25.898935232129304,\n        \"min\": 0.0,\n        \"max\": 288.0,\n        \"num_unique_values\": 18881,\n        \"samples\": [\n          55.22807018,\n          52.68074581,\n          36.61904762\n        ],\n        \"semantic_type\": \"\",\n        \"description\": \"\"\n      }\n    },\n    {\n      \"column\": \"Count\",\n      \"properties\": {\n        \"dtype\": \"number\",\n        \"std\": 150,\n        \"min\": 1,\n        \"max\": 3954,\n        \"num_unique_values\": 873,\n        \"samples\": [\n          528,\n          507,\n          1314\n        ],\n        \"semantic_type\": \"\",\n        \"description\": \"\"\n      }\n    },\n    {\n      \"column\": \"Replaced\",\n      \"properties\": {\n        \"dtype\": \"category\",\n        \"num_unique_values\": 2,\n        \"samples\": [\n          \"N\",\n          \"R\"\n        ],\n        \"semantic_type\": \"\",\n        \"description\": \"\"\n      }\n    }\n  ]\n}"
            }
          },
          "metadata": {},
          "execution_count": 5
        }
      ],
      "source": [
        "df.head()"
      ],
      "execution_count": 5
    },
    {
      "cell_type": "markdown",
      "metadata": {
        "id": "e99cd164-4a70-4b75-b5dd-65e05b58e2b6"
      },
      "source": [
        "---\n"
      ]
    },
    {
      "cell_type": "markdown",
      "metadata": {
        "id": "99c88b78-30db-472f-a47e-9a9adb9cad53"
      },
      "source": [
        "Let's verify the column names and the data type of each variable\n"
      ]
    },
    {
      "cell_type": "code",
      "metadata": {
        "colab": {
          "base_uri": "https://localhost:8080/"
        },
        "id": "fca9e2f9-fc86-4190-b23f-4ca1a9ff657f",
        "outputId": "6d6cdb0d-ce44-474a-b5dd-4713fd58f2a7"
      },
      "outputs": [
        {
          "output_type": "execute_result",
          "data": {
            "text/plain": [
              "Index(['Region', 'Date', 'Estimated_fire_area',\n",
              "       'Mean_estimated_fire_brightness', 'Mean_estimated_fire_radiative_power',\n",
              "       'Mean_confidence', 'Std_confidence', 'Var_confidence', 'Count',\n",
              "       'Replaced'],\n",
              "      dtype='object')"
            ]
          },
          "metadata": {},
          "execution_count": 6
        }
      ],
      "source": [
        "#Column names\n",
        "df.columns"
      ],
      "execution_count": 6
    },
    {
      "cell_type": "code",
      "metadata": {
        "colab": {
          "base_uri": "https://localhost:8080/",
          "height": 398
        },
        "id": "db6d7e8c-d7e7-4c30-b0aa-33555459454b",
        "outputId": "98e39cb6-6430-45aa-f34c-73b3b08e2ef1"
      },
      "outputs": [
        {
          "output_type": "execute_result",
          "data": {
            "text/plain": [
              "Region                                  object\n",
              "Date                                    object\n",
              "Estimated_fire_area                    float64\n",
              "Mean_estimated_fire_brightness         float64\n",
              "Mean_estimated_fire_radiative_power    float64\n",
              "Mean_confidence                        float64\n",
              "Std_confidence                         float64\n",
              "Var_confidence                         float64\n",
              "Count                                    int64\n",
              "Replaced                                object\n",
              "dtype: object"
            ],
            "text/html": [
              "<div>\n",
              "<style scoped>\n",
              "    .dataframe tbody tr th:only-of-type {\n",
              "        vertical-align: middle;\n",
              "    }\n",
              "\n",
              "    .dataframe tbody tr th {\n",
              "        vertical-align: top;\n",
              "    }\n",
              "\n",
              "    .dataframe thead th {\n",
              "        text-align: right;\n",
              "    }\n",
              "</style>\n",
              "<table border=\"1\" class=\"dataframe\">\n",
              "  <thead>\n",
              "    <tr style=\"text-align: right;\">\n",
              "      <th></th>\n",
              "      <th>0</th>\n",
              "    </tr>\n",
              "  </thead>\n",
              "  <tbody>\n",
              "    <tr>\n",
              "      <th>Region</th>\n",
              "      <td>object</td>\n",
              "    </tr>\n",
              "    <tr>\n",
              "      <th>Date</th>\n",
              "      <td>object</td>\n",
              "    </tr>\n",
              "    <tr>\n",
              "      <th>Estimated_fire_area</th>\n",
              "      <td>float64</td>\n",
              "    </tr>\n",
              "    <tr>\n",
              "      <th>Mean_estimated_fire_brightness</th>\n",
              "      <td>float64</td>\n",
              "    </tr>\n",
              "    <tr>\n",
              "      <th>Mean_estimated_fire_radiative_power</th>\n",
              "      <td>float64</td>\n",
              "    </tr>\n",
              "    <tr>\n",
              "      <th>Mean_confidence</th>\n",
              "      <td>float64</td>\n",
              "    </tr>\n",
              "    <tr>\n",
              "      <th>Std_confidence</th>\n",
              "      <td>float64</td>\n",
              "    </tr>\n",
              "    <tr>\n",
              "      <th>Var_confidence</th>\n",
              "      <td>float64</td>\n",
              "    </tr>\n",
              "    <tr>\n",
              "      <th>Count</th>\n",
              "      <td>int64</td>\n",
              "    </tr>\n",
              "    <tr>\n",
              "      <th>Replaced</th>\n",
              "      <td>object</td>\n",
              "    </tr>\n",
              "  </tbody>\n",
              "</table>\n",
              "</div><br><label><b>dtype:</b> object</label>"
            ]
          },
          "metadata": {},
          "execution_count": 7
        }
      ],
      "source": [
        "#data type\n",
        "df.dtypes"
      ],
      "execution_count": 7
    },
    {
      "cell_type": "markdown",
      "metadata": {
        "id": "612d437e-389d-48ae-8218-63584e33ada0"
      },
      "source": [
        "Notice the type of 'Date' is object, let's convert it to 'datatime' type and also let's extract 'Year' and 'Month' from date and include in the dataframe as separate columns\n"
      ]
    },
    {
      "cell_type": "code",
      "metadata": {
        "id": "7c48525d-a74e-4968-a1b2-d2c576245d51"
      },
      "outputs": [],
      "source": [
        "import datetime as dt\n",
        "\n",
        "df['Year'] = pd.to_datetime(df['Date']).dt.year\n",
        "df['Month'] = pd.to_datetime(df['Date']).dt.month\n"
      ],
      "execution_count": 8
    },
    {
      "cell_type": "markdown",
      "metadata": {
        "id": "50033b62-5534-4f26-b379-9d44291e1261"
      },
      "source": [
        "**Verify the columns again**\n"
      ]
    },
    {
      "cell_type": "code",
      "metadata": {
        "colab": {
          "base_uri": "https://localhost:8080/"
        },
        "id": "696bace8-53dc-4ee8-a9e3-270b439bc118",
        "outputId": "78d90a89-bf4a-4edd-cebd-d353321fbfe4"
      },
      "outputs": [
        {
          "output_type": "stream",
          "name": "stdout",
          "text": [
            "Index(['Region', 'Date', 'Estimated_fire_area',\n",
            "       'Mean_estimated_fire_brightness', 'Mean_estimated_fire_radiative_power',\n",
            "       'Mean_confidence', 'Std_confidence', 'Var_confidence', 'Count',\n",
            "       'Replaced', 'Year', 'Month'],\n",
            "      dtype='object')\n",
            "Region                                  object\n",
            "Date                                    object\n",
            "Estimated_fire_area                    float64\n",
            "Mean_estimated_fire_brightness         float64\n",
            "Mean_estimated_fire_radiative_power    float64\n",
            "Mean_confidence                        float64\n",
            "Std_confidence                         float64\n",
            "Var_confidence                         float64\n",
            "Count                                    int64\n",
            "Replaced                                object\n",
            "Year                                     int32\n",
            "Month                                    int32\n",
            "dtype: object\n"
          ]
        }
      ],
      "source": [
        "#verify the columns again\n",
        "\n",
        "print(df.columns)\n",
        "print(df.dtypes)"
      ],
      "execution_count": 9
    },
    {
      "cell_type": "markdown",
      "metadata": {
        "id": "d855cf92-a007-46d4-a02e-f7ee481f613a"
      },
      "source": [
        "<details>\n",
        "    <summary>Click here for Solution</summary>\n",
        "\n",
        "```python\n",
        "    df.dtypes\n",
        "```\n",
        "\n",
        "</details>\n"
      ]
    },
    {
      "cell_type": "markdown",
      "metadata": {
        "id": "494afa9a-d604-4934-ae07-069ea429105e"
      },
      "source": [
        "---\n"
      ]
    },
    {
      "cell_type": "markdown",
      "metadata": {
        "id": "934441f6-7873-46aa-b7f5-8b79b10f045b"
      },
      "source": [
        "## Practice Tasks\n"
      ]
    },
    {
      "cell_type": "markdown",
      "metadata": {
        "id": "df27f1ef-c304-40f2-bdeb-88136be91590"
      },
      "source": [
        "### TASK 1.1: Let's try to understand the change in average estimated fire area over time <br>(use pandas to plot)\n"
      ]
    },
    {
      "cell_type": "markdown",
      "metadata": {
        "id": "dddd9777-59e4-402f-b43d-0f667c28c19f"
      },
      "source": [
        "<details>\n",
        "    <summary>Click here for a Hint</summary>\n",
        "You will be required to group the year for 'Estimated_fire_area' (taking its mean)<br>Then use df.plot() on it to create a line graph\n",
        "\n",
        "</details>\n"
      ]
    },
    {
      "cell_type": "code",
      "metadata": {
        "colab": {
          "base_uri": "https://localhost:8080/",
          "height": 553
        },
        "id": "229ce132-0335-4750-aa44-02b3fdd0837f",
        "outputId": "effecef6-eed8-47ba-a736-a09c744bbdab"
      },
      "outputs": [
        {
          "output_type": "stream",
          "name": "stdout",
          "text": [
            "   Year  Estimated_fire_area\n",
            "0  2005        161698.982854\n",
            "1  2006        298458.012405\n",
            "2  2007        254472.915410\n",
            "3  2008        154227.363879\n",
            "4  2009        226883.178666\n"
          ]
        },
        {
          "output_type": "display_data",
          "data": {
            "text/plain": [
              "<Figure size 640x480 with 1 Axes>"
            ],
            "image/png": "[encoded data removed]"
          },
          "metadata": {}
        }
      ],
      "source": [
        "# TODO\n",
        "\n",
        "df_grouped = df.groupby('Year')['Estimated_fire_area'].sum().reset_index()\n",
        "print(df_grouped.head())\n",
        "\n",
        "df_grouped.plot(x = 'Year', y = 'Estimated_fire_area')\n",
        "plt.show()"
      ],
      "execution_count": 10
    },
    {
      "cell_type": "markdown",
      "metadata": {
        "id": "b313963d-03bd-48cd-aa4c-641dc34e32ec"
      },
      "source": [
        "<details>\n",
        "    <summary>Click here for Solution</summary>\n",
        "\n",
        "```python\n",
        "    plt.figure(figsize=(12, 6))\n",
        "    # Grouping the data by 'Year' and calculating the mean of 'Estimated_fire_area'\n",
        "    df_new = df.groupby('Year')['Estimated_fire_area'].mean()\n",
        "    # Plotting the data\n",
        "    df_new.plot(x=df_new.index, y=df_new.values)\n",
        "    plt.xlabel('Year')\n",
        "    plt.ylabel('Average Estimated Fire Area (km²)')\n",
        "    plt.title('Estimated Fire Area over Time')\n",
        "    plt.show()\n",
        "```\n",
        "\n",
        "</details>\n"
      ]
    },
    {
      "cell_type": "markdown",
      "metadata": {
        "id": "81a05ca2-ef69-4418-9eb0-3b12a8a46018"
      },
      "source": [
        "---\n"
      ]
    },
    {
      "cell_type": "markdown",
      "metadata": {
        "id": "c75b79b5-623b-4801-ac96-6b67898cc970"
      },
      "source": [
        "### TASK 1.2: You can notice the peak in the plot between 2010 to 2013. Let's narrow down our finding, by plotting the estimated fire area for year grouped together with month.\n"
      ]
    },
    {
      "cell_type": "markdown",
      "metadata": {
        "id": "8f7054a3-5cca-46fa-91c0-048633f3d465"
      },
      "source": [
        "<details>\n",
        "    <summary>Click here for a Hint</summary>\n",
        "You will be required to group the year and month for 'Estimated_fire_area' (taking its mean)<br>Then use df.plot() on it to create a line graph\n",
        "\n",
        "</details>\n"
      ]
    },
    {
      "cell_type": "code",
      "metadata": {
        "colab": {
          "base_uri": "https://localhost:8080/",
          "height": 554
        },
        "id": "66d6c50b-9754-4cdd-b0ce-bb1c61027d37",
        "outputId": "b99f9abc-e214-49e9-c20f-ca53a90c66c7"
      },
      "outputs": [
        {
          "output_type": "stream",
          "name": "stdout",
          "text": [
            "   Year  Month  Estimated_fire_area Year_Month\n",
            "0  2005      1         10663.606173     2005_1\n",
            "1  2005      2         11617.155907     2005_2\n",
            "2  2005      3          7035.071077     2005_3\n",
            "3  2005      4         12682.886067     2005_4\n",
            "4  2005      5         16984.048041     2005_5\n"
          ]
        },
        {
          "output_type": "display_data",
          "data": {
            "text/plain": [
              "<Figure size 640x480 with 1 Axes>"
            ],
            "image/png": "[encoded data removed]"
          },
          "metadata": {}
        }
      ],
      "source": [
        "# TODO\n",
        "\n",
        "df_grouped_2 = df.groupby(['Year','Month'])['Estimated_fire_area'].sum().reset_index()\n",
        "\n",
        "df_grouped_2['Year_Month'] = df_grouped_2['Year'].astype('str') + '_' + df_grouped_2['Month'].astype('str')\n",
        "\n",
        "print(df_grouped_2.head())\n",
        "\n",
        "df_grouped_2.plot(x = 'Year_Month', y = 'Estimated_fire_area')\n",
        "\n",
        "plt.show()"
      ],
      "execution_count": 11
    },
    {
      "cell_type": "markdown",
      "metadata": {
        "id": "7bf6c6bf-6357-4f75-b641-14ee38498783"
      },
      "source": [
        "<details>\n",
        "    <summary>Click here for Solution</summary>\n",
        "\n",
        "```python\n",
        "    # Grouping the data by both 'Year' and 'Month', and calculating the mean of 'Estimated_fire_area'\n",
        "    df_new = df.groupby(['Year','Month'])['Estimated_fire_area'].mean()\n",
        "    # Plotting the data\n",
        "    df_new.plot(x=df_new.index, y=df_new.values)\n",
        "    plt.xlabel('Year, Month')\n",
        "    plt.ylabel('Average Estimated Fire Area (km²)')\n",
        "    plt.title('Estimated Fire Area over Time')\n",
        "    plt.show()\n",
        "```\n",
        "\n",
        "</details>\n"
      ]
    },
    {
      "cell_type": "markdown",
      "metadata": {
        "id": "93ddaece-d932-40df-869b-c37383639e65"
      },
      "source": [
        "This plot represents that the estimated fire area was on its peak after 2011, April and before 2012. You can verify on google/news, this was the time of maximum wildfire hit in Austrailia\n"
      ]
    },
    {
      "cell_type": "markdown",
      "metadata": {
        "id": "9db2eb7c-0d47-4b93-a969-4bd47b1cc4ce"
      },
      "source": [
        "---\n"
      ]
    },
    {
      "cell_type": "markdown",
      "metadata": {
        "id": "f4c14e0c-c4f3-4468-862f-473c6163cd32"
      },
      "source": [
        "### TASK 1.3: Let's have an insight on the distribution of mean estimated fire brightness across the regions<br> use the functionality of seaborn to develop a barplot\n"
      ]
    },
    {
      "cell_type": "markdown",
      "metadata": {
        "id": "017ea013-db60-450d-9b2e-7be82458b09a"
      },
      "source": [
        "before starting with the plot, why not know the regions mentioned in the dataset?. <br>Make use of unique() to identify the regions in the dataset (apply it on series only)\n"
      ]
    },
    {
      "cell_type": "code",
      "metadata": {
        "colab": {
          "base_uri": "https://localhost:8080/"
        },
        "id": "c489325f-1f0b-48dc-be95-6d037ba4ec50",
        "outputId": "888d85a5-37de-4362-e032-e9ce1d7b8425"
      },
      "outputs": [
        {
          "output_type": "execute_result",
          "data": {
            "text/plain": [
              "array(['NSW', 'NT', 'QL', 'SA', 'TA', 'VI', 'WA'], dtype=object)"
            ]
          },
          "metadata": {},
          "execution_count": 12
        }
      ],
      "source": [
        "df['Region'].unique()"
      ],
      "execution_count": 12
    },
    {
      "cell_type": "markdown",
      "metadata": {
        "id": "c6ef3d24-1c3c-40ed-8281-ac3d413e9d7d"
      },
      "source": [
        "<details>\n",
        "    <summary>Click here for a Hint</summary>\n",
        "you need to plot reions on x-axis and the 'Mean_estimated_fire_brightness' on y-axis.<br>Title it as 'Distribution of Mean Estimated Fire Brightness across Regions'\n",
        "</details>\n"
      ]
    },
    {
      "cell_type": "code",
      "metadata": {
        "colab": {
          "base_uri": "https://localhost:8080/",
          "height": 472
        },
        "id": "cc36b69e-322d-440d-a92e-1543b0978b98",
        "outputId": "a1851b63-3e50-4121-da84-69c3f1b561a9"
      },
      "outputs": [
        {
          "output_type": "display_data",
          "data": {
            "text/plain": [
              "<Figure size 640x480 with 1 Axes>"
            ],
            "image/png": "[encoded data removed]"
          },
          "metadata": {}
        }
      ],
      "source": [
        "#TODO\n",
        "\n",
        "df_grouped_3 = df.groupby('Region')['Mean_estimated_fire_brightness'].mean().reset_index()\n",
        "df_grouped_3.head()\n",
        "\n",
        "sns.barplot(x = 'Region', y = 'Mean_estimated_fire_brightness', data=df_grouped_3)\n",
        "plt.ylim(200, None)\n",
        "plt.ylabel('mean fire brightness')\n",
        "plt.title('Mean Fire Brightness per Region')\n",
        "plt.show()\n"
      ],
      "execution_count": 13
    },
    {
      "cell_type": "markdown",
      "metadata": {
        "id": "7ce44043-54bb-4b9f-831d-e84e3255afb9"
      },
      "source": [
        "<details>\n",
        "    <summary>Click here for Solution</summary>\n",
        "\n",
        "```python\n",
        "# Creating a bar plot using seaborn to visualize the distribution of mean estimated fire brightness across regions\n",
        "plt.figure(figsize=(10, 6))\n",
        "# Using seaborn's barplot function to create the plot\n",
        "sns.barplot(data=df, x='Region', y='Mean_estimated_fire_brightness')\n",
        "plt.xlabel('Region')\n",
        "plt.ylabel('Mean Estimated Fire Brightness (Kelvin)')\n",
        "plt.title('Distribution of Mean Estimated Fire Brightness across Regions')\n",
        "plt.show()\n",
        "```\n",
        "</details>\n"
      ]
    },
    {
      "cell_type": "markdown",
      "metadata": {
        "id": "5ee827c6-fb89-49ba-a7e6-64533a993ef0"
      },
      "source": [
        "---\n"
      ]
    },
    {
      "cell_type": "markdown",
      "metadata": {
        "id": "ce3aa3d0-7e10-42d9-a699-e546fd272ef3"
      },
      "source": [
        "### TASK 1.4: Let's find the portion of count of pixels for presumed vegetation fires vary across regions<br> we will develop a pie chart for this\n"
      ]
    },
    {
      "cell_type": "markdown",
      "metadata": {
        "id": "0c28790a-915b-457e-bd2b-67bf047d64b5"
      },
      "source": [
        "<details>\n",
        "    <summary>Click here for a Hint</summary>\n",
        "First you will  be required to group the data on region and find the sum of count\n",
        "</details>\n"
      ]
    },
    {
      "cell_type": "code",
      "metadata": {
        "colab": {
          "base_uri": "https://localhost:8080/",
          "height": 428
        },
        "id": "8c9154fb-fafb-427e-85be-d3fcd0c2769a",
        "outputId": "8f346a23-1e1f-4c05-f8b9-d9ac072bec04"
      },
      "outputs": [
        {
          "output_type": "display_data",
          "data": {
            "text/plain": [
              "<Figure size 640x480 with 1 Axes>"
            ],
            "image/png": "[encoded data removed]"
          },
          "metadata": {}
        }
      ],
      "source": [
        "df_grouped_4 = df.groupby('Region')['Count'].sum().reset_index()\n",
        "df_grouped_4.head()\n",
        "\n",
        "plt.pie(x = 'Count', labels = 'Region', data = df_grouped_4, autopct = '%1.1f%%')\n",
        "plt.title('Portion of pixels by region')\n",
        "plt.show()"
      ],
      "execution_count": 34
    },
    {
      "cell_type": "markdown",
      "metadata": {
        "id": "da3f0881-4fa0-4324-9e2d-823653899868"
      },
      "source": [
        "<details>\n",
        "    <summary>Click here for Solution</summary>\n",
        "\n",
        "```python\n",
        "# Creating a pie chart to visualize the portion of count of pixels for presumed vegetation fires across regions\n",
        "plt.figure(figsize=(10, 6))\n",
        "# Grouping the data by region and summing the counts\n",
        "region_counts = df.groupby('Region')['Count'].sum()\n",
        "# Creating the pie chart using plt.pie function\n",
        "# Labels are set to the region names, and autopct is used to display percentage\n",
        "plt.pie(region_counts, labels=region_counts.index, autopct='%1.1f%%')\n",
        "plt.title('Percentage of Pixels for Presumed Vegetation Fires by Region')\n",
        "plt.axis('equal')\n",
        "plt.show()\n",
        "```\n",
        "</details>\n"
      ]
    },
    {
      "cell_type": "markdown",
      "metadata": {
        "id": "5fe87139-8207-4de9-a16f-04e69ee3c2bf"
      },
      "source": [
        "### TASK 1.5: See the percentage on the pie is not looking so good as it is overlaped for Region SA, TA, VI\n",
        "\n",
        "remove the autopct fromm pie function and pass the following to plt.legend() after plt.title() <br>\n",
        "`[(i,round(k/region_counts.sum()*100,2)) for i,k in zip(region_counts.index, region_counts)]`\n"
      ]
    },
    {
      "cell_type": "code",
      "metadata": {
        "colab": {
          "base_uri": "https://localhost:8080/",
          "height": 428
        },
        "id": "1570491e-0c10-47ae-be23-d2d14d7ea81b",
        "outputId": "f4aed4ce-665c-4121-db46-78275b5bc096"
      },
      "outputs": [
        {
          "output_type": "display_data",
          "data": {
            "text/plain": [
              "<Figure size 640x480 with 1 Axes>"
            ],
            "image/png": "[encoded data removed]"
          },
          "metadata": {}
        }
      ],
      "source": [
        "#TODO\n",
        "\n",
        "plt.pie(x = 'Count', labels = 'Region', data = df_grouped_4)\n",
        "plt.title('Portion of pixels by region')\n",
        "plt.legend([(i, round(k/df_grouped_4['Count'].sum()*100, 2)) for i, k in zip(df_grouped_4['Region'], df_grouped_4['Count'])]) # Use correct column names and total_count\n",
        "plt.show()"
      ],
      "execution_count": 38
    },
    {
      "cell_type": "markdown",
      "metadata": {
        "id": "c895f6da-a337-4300-addb-19b1e6efaec2"
      },
      "source": [
        "---\n"
      ]
    },
    {
      "cell_type": "markdown",
      "metadata": {
        "id": "799bf3bf-bf4c-4769-bd01-231f14754342"
      },
      "source": [
        "### TASK 1.6: Let's try to develop a histogram of the mean estimated fire brightness<br> Using Matplotlib to create the histogram\n"
      ]
    },
    {
      "cell_type": "markdown",
      "metadata": {
        "id": "1fb37332-997a-4cdd-b55f-c3bdd5d145af"
      },
      "source": [
        "<details>\n",
        "    <summary>Click here for a Hint</summary>\n",
        "    Call plt.hist() and pass df['Mean_estimated_fire_brightness'] as x\n",
        "</details>\n"
      ]
    },
    {
      "cell_type": "code",
      "metadata": {
        "colab": {
          "base_uri": "https://localhost:8080/",
          "height": 472
        },
        "id": "714b24b6-1a72-4d8e-a5f4-e49a73678a41",
        "outputId": "87736c81-ef48-4da1-fb56-da6a839ef57d"
      },
      "outputs": [
        {
          "output_type": "display_data",
          "data": {
            "text/plain": [
              "<Figure size 640x480 with 1 Axes>"
            ],
            "image/png": "[encoded data removed]"
          },
          "metadata": {}
        }
      ],
      "source": [
        "#TODO\n",
        "\n",
        "plt.hist(x = df['Mean_estimated_fire_brightness'])\n",
        "plt.xlabel('Mean Estimated Fire Brightness (Kelvin)')\n",
        "plt.ylabel('Count')\n",
        "plt.title('Histogram of Mean Estimated Fire Brightness')\n",
        "plt.show()"
      ],
      "execution_count": 39
    },
    {
      "cell_type": "markdown",
      "metadata": {
        "id": "56f54c68-2cc2-450d-98b1-9671ea76ea3f"
      },
      "source": [
        "<details>\n",
        "    <summary>Click here for Solution</summary>\n",
        "\n",
        "```python\n",
        "# Creating a histogram to visualize the distribution of mean estimated fire brightness\n",
        "plt.figure(figsize=(10, 6))\n",
        "# Using plt.hist to create the histogram\n",
        "# Setting the number of bins to 20 for better visualization\n",
        "plt.hist(x=df['Mean_estimated_fire_brightness'], bins=20)\n",
        "plt.xlabel('Mean Estimated Fire Brightness (Kelvin)')\n",
        "plt.ylabel('Count')\n",
        "plt.title('Histogram of Mean Estimated Fire Brightness')\n",
        "plt.show()\n",
        "```\n",
        "</details>\n"
      ]
    },
    {
      "cell_type": "markdown",
      "metadata": {
        "id": "b4f35966-eea9-4424-aba2-a25eb84962e1"
      },
      "source": [
        "### TASK 1.7: What if we need to understand the distribution of estimated fire brightness across regions? Let's use the functionality of seaborn and  pass region as hue\n"
      ]
    },
    {
      "cell_type": "code",
      "metadata": {
        "colab": {
          "base_uri": "https://localhost:8080/",
          "height": 452
        },
        "id": "6349ff4d-4c99-4374-a329-27c722212d8f",
        "outputId": "c9aaf40a-1775-426f-c847-413ceafae609"
      },
      "outputs": [
        {
          "output_type": "display_data",
          "data": {
            "text/plain": [
              "<Figure size 640x480 with 1 Axes>"
            ],
            "image/png": "[encoded data removed]"
          },
          "metadata": {}
        }
      ],
      "source": [
        "sns.histplot(data=df, x='Mean_estimated_fire_brightness', hue='Region')\n",
        "plt.show()\n"
      ],
      "execution_count": 40
    },
    {
      "cell_type": "markdown",
      "metadata": {
        "id": "95ef5b49-b058-4c88-a197-45805134adf8"
      },
      "source": [
        "<details>\n",
        "    <summary>Click here for Solution</summary>\n",
        "\n",
        "```python\n",
        "# Creating a histogram to visualize the distribution of mean estimated fire brightness across regions using Seaborn\n",
        "# Using sns.histplot to create the histogram\n",
        "# Specifying the DataFrame (data=df) and the column for the x-axis (x='Mean_estimated_fire_brightness')\n",
        "# Adding hue='Region' to differentiate the distribution across regions\n",
        "sns.histplot(data=df, x='Mean_estimated_fire_brightness', hue='Region')\n",
        "plt.show()\n",
        "```\n",
        "</details>\n"
      ]
    },
    {
      "cell_type": "markdown",
      "metadata": {
        "id": "f299e6fa-05f1-451c-8755-1f0f60f1dad9"
      },
      "source": [
        "### looks better!, now include the parameter `multiple='stack'` in the histplot() and see the difference. Include labels and titles as well\n"
      ]
    },
    {
      "cell_type": "code",
      "metadata": {
        "colab": {
          "base_uri": "https://localhost:8080/",
          "height": 472
        },
        "id": "abfbe94d-afd4-4f3b-bedf-dbf50e832451",
        "outputId": "b6bd5bd5-1163-4438-b6d5-470da8fd5284"
      },
      "outputs": [
        {
          "output_type": "display_data",
          "data": {
            "text/plain": [
              "<Figure size 640x480 with 1 Axes>"
            ],
            "image/png": "[encoded data removed]"
          },
          "metadata": {}
        }
      ],
      "source": [
        "sns.histplot(data=df, x='Mean_estimated_fire_brightness', hue='Region', multiple='stack')\n",
        "plt.xlabel('Mean Estimated Fire Brightness (Kelvin)')\n",
        "plt.ylabel('Count')\n",
        "plt.title('Histogram of Mean Estimated Fire Brightness')\n",
        "plt.show()"
      ],
      "execution_count": 42
    },
    {
      "cell_type": "markdown",
      "metadata": {
        "id": "77bd9bc4-40f4-4b85-b170-8b5b8f1af864"
      },
      "source": [
        "<details>\n",
        "    <summary>Click here for Solution</summary>\n",
        "\n",
        "```python\n",
        "# Creating a stacked histogram to visualize the distribution of mean estimated fire brightness across regions using Seaborn\n",
        "# Using sns.histplot to create the stacked histogram\n",
        "# Specifying the DataFrame (data=df) and the column for the x-axis (x='Mean_estimated_fire_brightness')\n",
        "# Adding hue='Region' to differentiate the distribution across regions\n",
        "# Setting multiple='stack' to stack the histograms for different regions\n",
        "sns.histplot(data=df, x='Mean_estimated_fire_brightness', hue='Region', multiple='stack')\n",
        "plt.show()\n",
        "```\n",
        "</details>\n"
      ]
    },
    {
      "cell_type": "markdown",
      "metadata": {
        "id": "afcac378-c60e-4af1-873a-c8a7458008c4"
      },
      "source": [
        "---\n"
      ]
    },
    {
      "cell_type": "markdown",
      "metadata": {
        "id": "e4bcff64-2f45-4e2e-88e3-0c64e4133a04"
      },
      "source": [
        "### TASK 1.8: Let's try to find if there is any correlation between mean estimated fire radiative power and mean confidence level?\n"
      ]
    },
    {
      "cell_type": "markdown",
      "metadata": {
        "id": "0f07c991-23d9-4688-9281-7b9c82130829"
      },
      "source": [
        "<details>\n",
        "    <summary>Click here for a Hint</summary>\n",
        "    Call plt.scatter() <br> or use the sns.scatterplot()\n",
        "</details>\n"
      ]
    },
    {
      "cell_type": "code",
      "metadata": {
        "colab": {
          "base_uri": "https://localhost:8080/",
          "height": 472
        },
        "id": "dac53c51-6809-47e4-968f-5e30ac765b29",
        "outputId": "01ccc570-b168-45fe-f3f8-1d8982fc660b"
      },
      "outputs": [
        {
          "output_type": "display_data",
          "data": {
            "text/plain": [
              "<Figure size 640x480 with 1 Axes>"
            ],
            "image/png": "[encoded data removed]"
          },
          "metadata": {}
        }
      ],
      "source": [
        "plt.scatter(x = df['Mean_confidence'], y = df['Mean_estimated_fire_radiative_power'])\n",
        "plt.xlabel('Mean Estimated Fire Radiative Power (MW)')\n",
        "plt.ylabel('Mean Confidence')\n",
        "plt.title('Mean Estimated Fire Radiative Power vs. Mean Confidence' )\n",
        "plt.show()"
      ],
      "execution_count": 44
    },
    {
      "cell_type": "markdown",
      "metadata": {
        "id": "f7115901-1422-4678-a464-2d02f4a599c5"
      },
      "source": [
        "<details>\n",
        "    <summary>Click here for Solution</summary>\n",
        "\n",
        "```python\n",
        "    # Creating a scatter plot to visualize the relationship between mean estimated fire radiative power and mean  confidence using Seaborn\n",
        "    plt.figure(figsize=(8, 6))\n",
        "    # Using sns.scatterplot to create the scatter plot\n",
        "    # Specifying the DataFrame (data=df) and the columns for the x-axis (x='Mean_confidence') and y-axis            (y='Mean_estimated_fire_radiative_power')\n",
        "    sns.scatterplot(data=df, x='Mean_confidence', y='Mean_estimated_fire_radiative_power')\n",
        "    plt.xlabel('Mean Estimated Fire Radiative Power (MW)')\n",
        "    plt.ylabel('Mean Confidence')\n",
        "    plt.title('Mean Estimated Fire Radiative Power vs. Mean Confidence')\n",
        "    plt.show()\n",
        "```\n",
        "</details>\n"
      ]
    },
    {
      "cell_type": "markdown",
      "metadata": {
        "id": "5ccb9ad1-72ad-4cb5-8f14-ff073999f60e"
      },
      "source": [
        "---\n"
      ]
    },
    {
      "cell_type": "markdown",
      "metadata": {
        "id": "a7a9d890-b604-416a-afa1-604b3dedbed8"
      },
      "source": [
        "### TASK 1.9: Let's mark these seven regions on the Map of Australia using Folium\n",
        "<br> we have created a dataframe for you containing the regions, their latitudes and longitudes. <br> For australia use [-25, 135] as location to create the map\n"
      ]
    },
    {
      "cell_type": "code",
      "metadata": {
        "colab": {
          "base_uri": "https://localhost:8080/",
          "height": 269
        },
        "id": "ff4b24a2-5f4b-4836-9b30-f6a21c8c900a",
        "outputId": "b3f8180d-bb93-4b8a-b01d-6a2f93042a0d"
      },
      "outputs": [
        {
          "output_type": "execute_result",
          "data": {
            "text/plain": [
              "  region        Lat         Lon\n",
              "0    NSW -31.875984  147.286949\n",
              "1     QL -22.164678  144.584490\n",
              "2     SA -30.534367  135.630121\n",
              "3     TA -42.035067  146.636689\n",
              "4     VI -36.598610  144.678005\n",
              "5     WA -25.230300  121.018725\n",
              "6     NT -19.491411  132.550964"
            ],
            "text/html": [
              "\n",
              "  <div id=\"df-929af61b-911a-49ed-ad61-b438129d3b91\" class=\"colab-df-container\">\n",
              "    <div>\n",
              "<style scoped>\n",
              "    .dataframe tbody tr th:only-of-type {\n",
              "        vertical-align: middle;\n",
              "    }\n",
              "\n",
              "    .dataframe tbody tr th {\n",
              "        vertical-align: top;\n",
              "    }\n",
              "\n",
              "    .dataframe thead th {\n",
              "        text-align: right;\n",
              "    }\n",
              "</style>\n",
              "<table border=\"1\" class=\"dataframe\">\n",
              "  <thead>\n",
              "    <tr style=\"text-align: right;\">\n",
              "      <th></th>\n",
              "      <th>region</th>\n",
              "      <th>Lat</th>\n",
              "      <th>Lon</th>\n",
              "    </tr>\n",
              "  </thead>\n",
              "  <tbody>\n",
              "    <tr>\n",
              "      <th>0</th>\n",
              "      <td>NSW</td>\n",
              "      <td>-31.875984</td>\n",
              "      <td>147.286949</td>\n",
              "    </tr>\n",
              "    <tr>\n",
              "      <th>1</th>\n",
              "      <td>QL</td>\n",
              "      <td>-22.164678</td>\n",
              "      <td>144.584490</td>\n",
              "    </tr>\n",
              "    <tr>\n",
              "      <th>2</th>\n",
              "      <td>SA</td>\n",
              "      <td>-30.534367</td>\n",
              "      <td>135.630121</td>\n",
              "    </tr>\n",
              "    <tr>\n",
              "      <th>3</th>\n",
              "      <td>TA</td>\n",
              "      <td>-42.035067</td>\n",
              "      <td>146.636689</td>\n",
              "    </tr>\n",
              "    <tr>\n",
              "      <th>4</th>\n",
              "      <td>VI</td>\n",
              "      <td>-36.598610</td>\n",
              "      <td>144.678005</td>\n",
              "    </tr>\n",
              "    <tr>\n",
              "      <th>5</th>\n",
              "      <td>WA</td>\n",
              "      <td>-25.230300</td>\n",
              "      <td>121.018725</td>\n",
              "    </tr>\n",
              "    <tr>\n",
              "      <th>6</th>\n",
              "      <td>NT</td>\n",
              "      <td>-19.491411</td>\n",
              "      <td>132.550964</td>\n",
              "    </tr>\n",
              "  </tbody>\n",
              "</table>\n",
              "</div>\n",
              "    <div class=\"colab-df-buttons\">\n",
              "\n",
              "  <div class=\"colab-df-container\">\n",
              "    <button class=\"colab-df-convert\" onclick=\"convertToInteractive('df-929af61b-911a-49ed-ad61-b438129d3b91')\"\n",
              "            title=\"Convert this dataframe to an interactive table.\"\n",
              "            style=\"display:none;\">\n",
              "\n",
              "  <svg xmlns=\"http://www.w3.org/2000/svg\" height=\"24px\" viewBox=\"0 -960 960 960\">\n",
              "    <path d=\"M120-120v-720h720v720H120Zm60-500h600v-160H180v160Zm220 220h160v-160H400v160Zm0 220h160v-160H400v160ZM180-400h160v-160H180v160Zm440 0h160v-160H620v160ZM180-180h160v-160H180v160Zm440 0h160v-160H620v160Z\"/>\n",
              "  </svg>\n",
              "    </button>\n",
              "\n",
              "  <style>\n",
              "    .colab-df-container {\n",
              "      display:flex;\n",
              "      gap: 12px;\n",
              "    }\n",
              "\n",
              "    .colab-df-convert {\n",
              "      background-color: #E8F0FE;\n",
              "      border: none;\n",
              "      border-radius: 50%;\n",
              "      cursor: pointer;\n",
              "      display: none;\n",
              "      fill: #1967D2;\n",
              "      height: 32px;\n",
              "      padding: 0 0 0 0;\n",
              "      width: 32px;\n",
              "    }\n",
              "\n",
              "    .colab-df-convert:hover {\n",
              "      background-color: #E2EBFA;\n",
              "      box-shadow: 0px 1px 2px rgba(60, 64, 67, 0.3), 0px 1px 3px 1px rgba(60, 64, 67, 0.15);\n",
              "      fill: #174EA6;\n",
              "    }\n",
              "\n",
              "    .colab-df-buttons div {\n",
              "      margin-bottom: 4px;\n",
              "    }\n",
              "\n",
              "    [theme=dark] .colab-df-convert {\n",
              "      background-color: #3B4455;\n",
              "      fill: #D2E3FC;\n",
              "    }\n",
              "\n",
              "    [theme=dark] .colab-df-convert:hover {\n",
              "      background-color: #434B5C;\n",
              "      box-shadow: 0px 1px 3px 1px rgba(0, 0, 0, 0.15);\n",
              "      filter: drop-shadow(0px 1px 2px rgba(0, 0, 0, 0.3));\n",
              "      fill: #FFFFFF;\n",
              "    }\n",
              "  </style>\n",
              "\n",
              "    <script>\n",
              "      const buttonEl =\n",
              "        document.querySelector('#df-929af61b-911a-49ed-ad61-b438129d3b91 button.colab-df-convert');\n",
              "      buttonEl.style.display =\n",
              "        google.colab.kernel.accessAllowed ? 'block' : 'none';\n",
              "\n",
              "      async function convertToInteractive(key) {\n",
              "        const element = document.querySelector('#df-929af61b-911a-49ed-ad61-b438129d3b91');\n",
              "        const dataTable =\n",
              "          await google.colab.kernel.invokeFunction('convertToInteractive',\n",
              "                                                    [key], {});\n",
              "        if (!dataTable) return;\n",
              "\n",
              "        const docLinkHtml = 'Like what you see? Visit the ' +\n",
              "          '<a target=\"_blank\" href=https://colab.research.google.com/notebooks/data_table.ipynb>data table notebook</a>'\n",
              "          + ' to learn more about interactive tables.';\n",
              "        element.innerHTML = '';\n",
              "        dataTable['output_type'] = 'display_data';\n",
              "        await google.colab.output.renderOutput(dataTable, element);\n",
              "        const docLink = document.createElement('div');\n",
              "        docLink.innerHTML = docLinkHtml;\n",
              "        element.appendChild(docLink);\n",
              "      }\n",
              "    </script>\n",
              "  </div>\n",
              "\n",
              "\n",
              "<div id=\"df-4c930c67-ded8-4a56-bdf9-195a3e2b6503\">\n",
              "  <button class=\"colab-df-quickchart\" onclick=\"quickchart('df-4c930c67-ded8-4a56-bdf9-195a3e2b6503')\"\n",
              "            title=\"Suggest charts\"\n",
              "            style=\"display:none;\">\n",
              "\n",
              "<svg xmlns=\"http://www.w3.org/2000/svg\" height=\"24px\"viewBox=\"0 0 24 24\"\n",
              "     width=\"24px\">\n",
              "    <g>\n",
              "        <path d=\"M19 3H5c-1.1 0-2 .9-2 2v14c0 1.1.9 2 2 2h14c1.1 0 2-.9 2-2V5c0-1.1-.9-2-2-2zM9 17H7v-7h2v7zm4 0h-2V7h2v10zm4 0h-2v-4h2v4z\"/>\n",
              "    </g>\n",
              "</svg>\n",
              "  </button>\n",
              "\n",
              "<style>\n",
              "  .colab-df-quickchart {\n",
              "      --bg-color: #E8F0FE;\n",
              "      --fill-color: #1967D2;\n",
              "      --hover-bg-color: #E2EBFA;\n",
              "      --hover-fill-color: #174EA6;\n",
              "      --disabled-fill-color: #AAA;\n",
              "      --disabled-bg-color: #DDD;\n",
              "  }\n",
              "\n",
              "  [theme=dark] .colab-df-quickchart {\n",
              "      --bg-color: #3B4455;\n",
              "      --fill-color: #D2E3FC;\n",
              "      --hover-bg-color: #434B5C;\n",
              "      --hover-fill-color: #FFFFFF;\n",
              "      --disabled-bg-color: #3B4455;\n",
              "      --disabled-fill-color: #666;\n",
              "  }\n",
              "\n",
              "  .colab-df-quickchart {\n",
              "    background-color: var(--bg-color);\n",
              "    border: none;\n",
              "    border-radius: 50%;\n",
              "    cursor: pointer;\n",
              "    display: none;\n",
              "    fill: var(--fill-color);\n",
              "    height: 32px;\n",
              "    padding: 0;\n",
              "    width: 32px;\n",
              "  }\n",
              "\n",
              "  .colab-df-quickchart:hover {\n",
              "    background-color: var(--hover-bg-color);\n",
              "    box-shadow: 0 1px 2px rgba(60, 64, 67, 0.3), 0 1px 3px 1px rgba(60, 64, 67, 0.15);\n",
              "    fill: var(--button-hover-fill-color);\n",
              "  }\n",
              "\n",
              "  .colab-df-quickchart-complete:disabled,\n",
              "  .colab-df-quickchart-complete:disabled:hover {\n",
              "    background-color: var(--disabled-bg-color);\n",
              "    fill: var(--disabled-fill-color);\n",
              "    box-shadow: none;\n",
              "  }\n",
              "\n",
              "  .colab-df-spinner {\n",
              "    border: 2px solid var(--fill-color);\n",
              "    border-color: transparent;\n",
              "    border-bottom-color: var(--fill-color);\n",
              "    animation:\n",
              "      spin 1s steps(1) infinite;\n",
              "  }\n",
              "\n",
              "  @keyframes spin {\n",
              "    0% {\n",
              "      border-color: transparent;\n",
              "      border-bottom-color: var(--fill-color);\n",
              "      border-left-color: var(--fill-color);\n",
              "    }\n",
              "    20% {\n",
              "      border-color: transparent;\n",
              "      border-left-color: var(--fill-color);\n",
              "      border-top-color: var(--fill-color);\n",
              "    }\n",
              "    30% {\n",
              "      border-color: transparent;\n",
              "      border-left-color: var(--fill-color);\n",
              "      border-top-color: var(--fill-color);\n",
              "      border-right-color: var(--fill-color);\n",
              "    }\n",
              "    40% {\n",
              "      border-color: transparent;\n",
              "      border-right-color: var(--fill-color);\n",
              "      border-top-color: var(--fill-color);\n",
              "    }\n",
              "    60% {\n",
              "      border-color: transparent;\n",
              "      border-right-color: var(--fill-color);\n",
              "    }\n",
              "    80% {\n",
              "      border-color: transparent;\n",
              "      border-right-color: var(--fill-color);\n",
              "      border-bottom-color: var(--fill-color);\n",
              "    }\n",
              "    90% {\n",
              "      border-color: transparent;\n",
              "      border-bottom-color: var(--fill-color);\n",
              "    }\n",
              "  }\n",
              "</style>\n",
              "\n",
              "  <script>\n",
              "    async function quickchart(key) {\n",
              "      const quickchartButtonEl =\n",
              "        document.querySelector('#' + key + ' button');\n",
              "      quickchartButtonEl.disabled = true;  // To prevent multiple clicks.\n",
              "      quickchartButtonEl.classList.add('colab-df-spinner');\n",
              "      try {\n",
              "        const charts = await google.colab.kernel.invokeFunction(\n",
              "            'suggestCharts', [key], {});\n",
              "      } catch (error) {\n",
              "        console.error('Error during call to suggestCharts:', error);\n",
              "      }\n",
              "      quickchartButtonEl.classList.remove('colab-df-spinner');\n",
              "      quickchartButtonEl.classList.add('colab-df-quickchart-complete');\n",
              "    }\n",
              "    (() => {\n",
              "      let quickchartButtonEl =\n",
              "        document.querySelector('#df-4c930c67-ded8-4a56-bdf9-195a3e2b6503 button');\n",
              "      quickchartButtonEl.style.display =\n",
              "        google.colab.kernel.accessAllowed ? 'block' : 'none';\n",
              "    })();\n",
              "  </script>\n",
              "</div>\n",
              "\n",
              "  <div id=\"id_975ec21a-0947-48a4-9caf-4081066c3e31\">\n",
              "    <style>\n",
              "      .colab-df-generate {\n",
              "        background-color: #E8F0FE;\n",
              "        border: none;\n",
              "        border-radius: 50%;\n",
              "        cursor: pointer;\n",
              "        display: none;\n",
              "        fill: #1967D2;\n",
              "        height: 32px;\n",
              "        padding: 0 0 0 0;\n",
              "        width: 32px;\n",
              "      }\n",
              "\n",
              "      .colab-df-generate:hover {\n",
              "        background-color: #E2EBFA;\n",
              "        box-shadow: 0px 1px 2px rgba(60, 64, 67, 0.3), 0px 1px 3px 1px rgba(60, 64, 67, 0.15);\n",
              "        fill: #174EA6;\n",
              "      }\n",
              "\n",
              "      [theme=dark] .colab-df-generate {\n",
              "        background-color: #3B4455;\n",
              "        fill: #D2E3FC;\n",
              "      }\n",
              "\n",
              "      [theme=dark] .colab-df-generate:hover {\n",
              "        background-color: #434B5C;\n",
              "        box-shadow: 0px 1px 3px 1px rgba(0, 0, 0, 0.15);\n",
              "        filter: drop-shadow(0px 1px 2px rgba(0, 0, 0, 0.3));\n",
              "        fill: #FFFFFF;\n",
              "      }\n",
              "    </style>\n",
              "    <button class=\"colab-df-generate\" onclick=\"generateWithVariable('reg')\"\n",
              "            title=\"Generate code using this dataframe.\"\n",
              "            style=\"display:none;\">\n",
              "\n",
              "  <svg xmlns=\"http://www.w3.org/2000/svg\" height=\"24px\"viewBox=\"0 0 24 24\"\n",
              "       width=\"24px\">\n",
              "    <path d=\"M7,19H8.4L18.45,9,17,7.55,7,17.6ZM5,21V16.75L18.45,3.32a2,2,0,0,1,2.83,0l1.4,1.43a1.91,1.91,0,0,1,.58,1.4,1.91,1.91,0,0,1-.58,1.4L9.25,21ZM18.45,9,17,7.55Zm-12,3A5.31,5.31,0,0,0,4.9,8.1,5.31,5.31,0,0,0,1,6.5,5.31,5.31,0,0,0,4.9,4.9,5.31,5.31,0,0,0,6.5,1,5.31,5.31,0,0,0,8.1,4.9,5.31,5.31,0,0,0,12,6.5,5.46,5.46,0,0,0,6.5,12Z\"/>\n",
              "  </svg>\n",
              "    </button>\n",
              "    <script>\n",
              "      (() => {\n",
              "      const buttonEl =\n",
              "        document.querySelector('#id_975ec21a-0947-48a4-9caf-4081066c3e31 button.colab-df-generate');\n",
              "      buttonEl.style.display =\n",
              "        google.colab.kernel.accessAllowed ? 'block' : 'none';\n",
              "\n",
              "      buttonEl.onclick = () => {\n",
              "        google.colab.notebook.generateWithVariable('reg');\n",
              "      }\n",
              "      })();\n",
              "    </script>\n",
              "  </div>\n",
              "\n",
              "    </div>\n",
              "  </div>\n"
            ],
            "application/vnd.google.colaboratory.intrinsic+json": {
              "type": "dataframe",
              "variable_name": "reg",
              "summary": "{\n  \"name\": \"reg\",\n  \"rows\": 7,\n  \"fields\": [\n    {\n      \"column\": \"region\",\n      \"properties\": {\n        \"dtype\": \"string\",\n        \"num_unique_values\": 7,\n        \"samples\": [\n          \"NSW\",\n          \"QL\",\n          \"WA\"\n        ],\n        \"semantic_type\": \"\",\n        \"description\": \"\"\n      }\n    },\n    {\n      \"column\": \"Lat\",\n      \"properties\": {\n        \"dtype\": \"number\",\n        \"std\": 8.02236674775177,\n        \"min\": -42.035067,\n        \"max\": -19.491411,\n        \"num_unique_values\": 7,\n        \"samples\": [\n          -31.8759835,\n          -22.1646782,\n          -25.2303005\n        ],\n        \"semantic_type\": \"\",\n        \"description\": \"\"\n      }\n    },\n    {\n      \"column\": \"Lon\",\n      \"properties\": {\n        \"dtype\": \"number\",\n        \"std\": 9.718001894349154,\n        \"min\": 121.0187246,\n        \"max\": 147.2869493,\n        \"num_unique_values\": 7,\n        \"samples\": [\n          147.2869493,\n          144.5844903,\n          121.0187246\n        ],\n        \"semantic_type\": \"\",\n        \"description\": \"\"\n      }\n    }\n  ]\n}"
            }
          },
          "metadata": {},
          "execution_count": 45
        }
      ],
      "source": [
        "region_data = {'region':['NSW','QL','SA','TA','VI','WA','NT'], 'Lat':[-31.8759835,-22.1646782,-30.5343665,-42.035067,-36.5986096,-25.2303005,-19.491411],\n",
        "               'Lon':[147.2869493,144.5844903,135.6301212,146.6366887,144.6780052,121.0187246,132.550964]}\n",
        "reg=pd.DataFrame(region_data)\n",
        "reg"
      ],
      "execution_count": 45
    },
    {
      "cell_type": "code",
      "metadata": {
        "colab": {
          "base_uri": "https://localhost:8080/",
          "height": 609
        },
        "id": "deaae19c-847b-48f7-b9bb-43b8ce6deb3d",
        "outputId": "36a5448b-d5c1-4ee5-e859-5dd183b1245c"
      },
      "outputs": [
        {
          "output_type": "execute_result",
          "data": {
            "text/plain": [
              "<folium.folium.Map at 0x7dd6ed871fd0>"
            ],
            "text/html": [
              "<div style=\"width:100%;\"><div style=\"position:relative;width:100%;height:0;padding-bottom:60%;\"><span style=\"color:#565656\">Make this Notebook Trusted to load map: File -> Trust Notebook</span><iframe srcdoc=\"&lt;!DOCTYPE html&gt;\n",
              "&lt;html&gt;\n",
              "&lt;head&gt;\n",
              "    \n",
              "    &lt;meta http-equiv=&quot;content-type&quot; content=&quot;text/html; charset=UTF-8&quot; /&gt;\n",
              "    \n",
              "        &lt;script&gt;\n",
              "            L_NO_TOUCH = false;\n",
              "            L_DISABLE_3D = false;\n",
              "        &lt;/script&gt;\n",
              "    \n",
              "    &lt;style&gt;html, body {width: 100%;height: 100%;margin: 0;padding: 0;}&lt;/style&gt;\n",
              "    &lt;style&gt;#map {position:absolute;top:0;bottom:0;right:0;left:0;}&lt;/style&gt;\n",
              "    &lt;script src=&quot;https://cdn.jsdelivr.net/npm/leaflet@1.9.3/dist/leaflet.js&quot;&gt;&lt;/script&gt;\n",
              "    &lt;script src=&quot;https://code.jquery.com/jquery-3.7.1.min.js&quot;&gt;&lt;/script&gt;\n",
              "    &lt;script src=&quot;https://cdn.jsdelivr.net/npm/bootstrap@5.2.2/dist/js/bootstrap.bundle.min.js&quot;&gt;&lt;/script&gt;\n",
              "    &lt;script src=&quot;https://cdnjs.cloudflare.com/ajax/libs/Leaflet.awesome-markers/2.0.2/leaflet.awesome-markers.js&quot;&gt;&lt;/script&gt;\n",
              "    &lt;link rel=&quot;stylesheet&quot; href=&quot;https://cdn.jsdelivr.net/npm/leaflet@1.9.3/dist/leaflet.css&quot;/&gt;\n",
              "    &lt;link rel=&quot;stylesheet&quot; href=&quot;https://cdn.jsdelivr.net/npm/bootstrap@5.2.2/dist/css/bootstrap.min.css&quot;/&gt;\n",
              "    &lt;link rel=&quot;stylesheet&quot; href=&quot;https://netdna.bootstrapcdn.com/bootstrap/3.0.0/css/bootstrap-glyphicons.css&quot;/&gt;\n",
              "    &lt;link rel=&quot;stylesheet&quot; href=&quot;https://cdn.jsdelivr.net/npm/@fortawesome/fontawesome-free@6.2.0/css/all.min.css&quot;/&gt;\n",
              "    &lt;link rel=&quot;stylesheet&quot; href=&quot;https://cdnjs.cloudflare.com/ajax/libs/Leaflet.awesome-markers/2.0.2/leaflet.awesome-markers.css&quot;/&gt;\n",
              "    &lt;link rel=&quot;stylesheet&quot; href=&quot;https://cdn.jsdelivr.net/gh/python-visualization/folium/folium/templates/leaflet.awesome.rotate.min.css&quot;/&gt;\n",
              "    \n",
              "            &lt;meta name=&quot;viewport&quot; content=&quot;width=device-width,\n",
              "                initial-scale=1.0, maximum-scale=1.0, user-scalable=no&quot; /&gt;\n",
              "            &lt;style&gt;\n",
              "                #map_a18d8c5130a605a17e4277d7865e7402 {\n",
              "                    position: relative;\n",
              "                    width: 100.0%;\n",
              "                    height: 100.0%;\n",
              "                    left: 0.0%;\n",
              "                    top: 0.0%;\n",
              "                }\n",
              "                .leaflet-container { font-size: 1rem; }\n",
              "            &lt;/style&gt;\n",
              "        \n",
              "&lt;/head&gt;\n",
              "&lt;body&gt;\n",
              "    \n",
              "    \n",
              "            &lt;div class=&quot;folium-map&quot; id=&quot;map_a18d8c5130a605a17e4277d7865e7402&quot; &gt;&lt;/div&gt;\n",
              "        \n",
              "&lt;/body&gt;\n",
              "&lt;script&gt;\n",
              "    \n",
              "    \n",
              "            var map_a18d8c5130a605a17e4277d7865e7402 = L.map(\n",
              "                &quot;map_a18d8c5130a605a17e4277d7865e7402&quot;,\n",
              "                {\n",
              "                    center: [-25.0, 135.0],\n",
              "                    crs: L.CRS.EPSG3857,\n",
              "                    ...{\n",
              "  &quot;zoom&quot;: 4,\n",
              "  &quot;zoomControl&quot;: true,\n",
              "  &quot;preferCanvas&quot;: false,\n",
              "}\n",
              "\n",
              "                }\n",
              "            );\n",
              "\n",
              "            \n",
              "\n",
              "        \n",
              "    \n",
              "            var tile_layer_13aab52084fe39f6af69417896e6a2fe = L.tileLayer(\n",
              "                &quot;https://tile.openstreetmap.org/{z}/{x}/{y}.png&quot;,\n",
              "                {\n",
              "  &quot;minZoom&quot;: 0,\n",
              "  &quot;maxZoom&quot;: 19,\n",
              "  &quot;maxNativeZoom&quot;: 19,\n",
              "  &quot;noWrap&quot;: false,\n",
              "  &quot;attribution&quot;: &quot;\\u0026copy; \\u003ca href=\\&quot;https://www.openstreetmap.org/copyright\\&quot;\\u003eOpenStreetMap\\u003c/a\\u003e contributors&quot;,\n",
              "  &quot;subdomains&quot;: &quot;abc&quot;,\n",
              "  &quot;detectRetina&quot;: false,\n",
              "  &quot;tms&quot;: false,\n",
              "  &quot;opacity&quot;: 1,\n",
              "}\n",
              "\n",
              "            );\n",
              "        \n",
              "    \n",
              "            tile_layer_13aab52084fe39f6af69417896e6a2fe.addTo(map_a18d8c5130a605a17e4277d7865e7402);\n",
              "        \n",
              "    \n",
              "            var feature_group_fc3ee72a50aeca75c8c081797676a2dc = L.featureGroup(\n",
              "                {\n",
              "}\n",
              "            );\n",
              "        \n",
              "    \n",
              "            var circle_marker_0b7a828d785dda92014ee44124b8ce52 = L.circleMarker(\n",
              "                [-31.8759835, 147.2869493],\n",
              "                {&quot;bubblingMouseEvents&quot;: true, &quot;color&quot;: &quot;red&quot;, &quot;dashArray&quot;: null, &quot;dashOffset&quot;: null, &quot;fill&quot;: true, &quot;fillColor&quot;: &quot;blue&quot;, &quot;fillOpacity&quot;: 0.6, &quot;fillRule&quot;: &quot;evenodd&quot;, &quot;lineCap&quot;: &quot;round&quot;, &quot;lineJoin&quot;: &quot;round&quot;, &quot;opacity&quot;: 1.0, &quot;radius&quot;: 4, &quot;stroke&quot;: true, &quot;weight&quot;: 3}\n",
              "            ).addTo(feature_group_fc3ee72a50aeca75c8c081797676a2dc);\n",
              "        \n",
              "    \n",
              "        var popup_541d13956dbfe7bf8d6d035057cf0d0c = L.popup({\n",
              "  &quot;maxWidth&quot;: &quot;100%&quot;,\n",
              "});\n",
              "\n",
              "        \n",
              "            \n",
              "                var html_1ce54c075918c6476c7b1fcc7650560c = $(`&lt;div id=&quot;html_1ce54c075918c6476c7b1fcc7650560c&quot; style=&quot;width: 100.0%; height: 100.0%;&quot;&gt;NSW&lt;/div&gt;`)[0];\n",
              "                popup_541d13956dbfe7bf8d6d035057cf0d0c.setContent(html_1ce54c075918c6476c7b1fcc7650560c);\n",
              "            \n",
              "        \n",
              "\n",
              "        circle_marker_0b7a828d785dda92014ee44124b8ce52.bindPopup(popup_541d13956dbfe7bf8d6d035057cf0d0c)\n",
              "        ;\n",
              "\n",
              "        \n",
              "    \n",
              "    \n",
              "            var circle_marker_7e393e9f42aaa6c9a91e14002c4a0326 = L.circleMarker(\n",
              "                [-22.1646782, 144.5844903],\n",
              "                {&quot;bubblingMouseEvents&quot;: true, &quot;color&quot;: &quot;red&quot;, &quot;dashArray&quot;: null, &quot;dashOffset&quot;: null, &quot;fill&quot;: true, &quot;fillColor&quot;: &quot;blue&quot;, &quot;fillOpacity&quot;: 0.6, &quot;fillRule&quot;: &quot;evenodd&quot;, &quot;lineCap&quot;: &quot;round&quot;, &quot;lineJoin&quot;: &quot;round&quot;, &quot;opacity&quot;: 1.0, &quot;radius&quot;: 4, &quot;stroke&quot;: true, &quot;weight&quot;: 3}\n",
              "            ).addTo(feature_group_fc3ee72a50aeca75c8c081797676a2dc);\n",
              "        \n",
              "    \n",
              "        var popup_7f9fc9a46b1c6410ccab900cfad6409d = L.popup({\n",
              "  &quot;maxWidth&quot;: &quot;100%&quot;,\n",
              "});\n",
              "\n",
              "        \n",
              "            \n",
              "                var html_6febea595584da08dd3b0c5598ff0a63 = $(`&lt;div id=&quot;html_6febea595584da08dd3b0c5598ff0a63&quot; style=&quot;width: 100.0%; height: 100.0%;&quot;&gt;QL&lt;/div&gt;`)[0];\n",
              "                popup_7f9fc9a46b1c6410ccab900cfad6409d.setContent(html_6febea595584da08dd3b0c5598ff0a63);\n",
              "            \n",
              "        \n",
              "\n",
              "        circle_marker_7e393e9f42aaa6c9a91e14002c4a0326.bindPopup(popup_7f9fc9a46b1c6410ccab900cfad6409d)\n",
              "        ;\n",
              "\n",
              "        \n",
              "    \n",
              "    \n",
              "            var circle_marker_0aae63669908a88e6d0ac1d8d04149e6 = L.circleMarker(\n",
              "                [-30.5343665, 135.6301212],\n",
              "                {&quot;bubblingMouseEvents&quot;: true, &quot;color&quot;: &quot;red&quot;, &quot;dashArray&quot;: null, &quot;dashOffset&quot;: null, &quot;fill&quot;: true, &quot;fillColor&quot;: &quot;blue&quot;, &quot;fillOpacity&quot;: 0.6, &quot;fillRule&quot;: &quot;evenodd&quot;, &quot;lineCap&quot;: &quot;round&quot;, &quot;lineJoin&quot;: &quot;round&quot;, &quot;opacity&quot;: 1.0, &quot;radius&quot;: 4, &quot;stroke&quot;: true, &quot;weight&quot;: 3}\n",
              "            ).addTo(feature_group_fc3ee72a50aeca75c8c081797676a2dc);\n",
              "        \n",
              "    \n",
              "        var popup_bcc6b6fd9808fd5c04dbb57758b0b1b4 = L.popup({\n",
              "  &quot;maxWidth&quot;: &quot;100%&quot;,\n",
              "});\n",
              "\n",
              "        \n",
              "            \n",
              "                var html_0b7cef2e212c41e1798191209194de6a = $(`&lt;div id=&quot;html_0b7cef2e212c41e1798191209194de6a&quot; style=&quot;width: 100.0%; height: 100.0%;&quot;&gt;SA&lt;/div&gt;`)[0];\n",
              "                popup_bcc6b6fd9808fd5c04dbb57758b0b1b4.setContent(html_0b7cef2e212c41e1798191209194de6a);\n",
              "            \n",
              "        \n",
              "\n",
              "        circle_marker_0aae63669908a88e6d0ac1d8d04149e6.bindPopup(popup_bcc6b6fd9808fd5c04dbb57758b0b1b4)\n",
              "        ;\n",
              "\n",
              "        \n",
              "    \n",
              "    \n",
              "            var circle_marker_3741a2a1635dab40d459d9bdf0680742 = L.circleMarker(\n",
              "                [-42.035067, 146.6366887],\n",
              "                {&quot;bubblingMouseEvents&quot;: true, &quot;color&quot;: &quot;red&quot;, &quot;dashArray&quot;: null, &quot;dashOffset&quot;: null, &quot;fill&quot;: true, &quot;fillColor&quot;: &quot;blue&quot;, &quot;fillOpacity&quot;: 0.6, &quot;fillRule&quot;: &quot;evenodd&quot;, &quot;lineCap&quot;: &quot;round&quot;, &quot;lineJoin&quot;: &quot;round&quot;, &quot;opacity&quot;: 1.0, &quot;radius&quot;: 4, &quot;stroke&quot;: true, &quot;weight&quot;: 3}\n",
              "            ).addTo(feature_group_fc3ee72a50aeca75c8c081797676a2dc);\n",
              "        \n",
              "    \n",
              "        var popup_6b0ad174a298f5ecafcd8effa625a1c7 = L.popup({\n",
              "  &quot;maxWidth&quot;: &quot;100%&quot;,\n",
              "});\n",
              "\n",
              "        \n",
              "            \n",
              "                var html_ca6d337b8e784b7837bfa84fe8096919 = $(`&lt;div id=&quot;html_ca6d337b8e784b7837bfa84fe8096919&quot; style=&quot;width: 100.0%; height: 100.0%;&quot;&gt;TA&lt;/div&gt;`)[0];\n",
              "                popup_6b0ad174a298f5ecafcd8effa625a1c7.setContent(html_ca6d337b8e784b7837bfa84fe8096919);\n",
              "            \n",
              "        \n",
              "\n",
              "        circle_marker_3741a2a1635dab40d459d9bdf0680742.bindPopup(popup_6b0ad174a298f5ecafcd8effa625a1c7)\n",
              "        ;\n",
              "\n",
              "        \n",
              "    \n",
              "    \n",
              "            var circle_marker_4d9c0f7b8fdd54fa7aac795bb9d510b5 = L.circleMarker(\n",
              "                [-36.5986096, 144.6780052],\n",
              "                {&quot;bubblingMouseEvents&quot;: true, &quot;color&quot;: &quot;red&quot;, &quot;dashArray&quot;: null, &quot;dashOffset&quot;: null, &quot;fill&quot;: true, &quot;fillColor&quot;: &quot;blue&quot;, &quot;fillOpacity&quot;: 0.6, &quot;fillRule&quot;: &quot;evenodd&quot;, &quot;lineCap&quot;: &quot;round&quot;, &quot;lineJoin&quot;: &quot;round&quot;, &quot;opacity&quot;: 1.0, &quot;radius&quot;: 4, &quot;stroke&quot;: true, &quot;weight&quot;: 3}\n",
              "            ).addTo(feature_group_fc3ee72a50aeca75c8c081797676a2dc);\n",
              "        \n",
              "    \n",
              "        var popup_441dcd678e5187d2b7d0ad05408c0610 = L.popup({\n",
              "  &quot;maxWidth&quot;: &quot;100%&quot;,\n",
              "});\n",
              "\n",
              "        \n",
              "            \n",
              "                var html_8f0bb51a91f14c351043b548aea19153 = $(`&lt;div id=&quot;html_8f0bb51a91f14c351043b548aea19153&quot; style=&quot;width: 100.0%; height: 100.0%;&quot;&gt;VI&lt;/div&gt;`)[0];\n",
              "                popup_441dcd678e5187d2b7d0ad05408c0610.setContent(html_8f0bb51a91f14c351043b548aea19153);\n",
              "            \n",
              "        \n",
              "\n",
              "        circle_marker_4d9c0f7b8fdd54fa7aac795bb9d510b5.bindPopup(popup_441dcd678e5187d2b7d0ad05408c0610)\n",
              "        ;\n",
              "\n",
              "        \n",
              "    \n",
              "    \n",
              "            var circle_marker_12344d1444383055a9ac391979d97d30 = L.circleMarker(\n",
              "                [-25.2303005, 121.0187246],\n",
              "                {&quot;bubblingMouseEvents&quot;: true, &quot;color&quot;: &quot;red&quot;, &quot;dashArray&quot;: null, &quot;dashOffset&quot;: null, &quot;fill&quot;: true, &quot;fillColor&quot;: &quot;blue&quot;, &quot;fillOpacity&quot;: 0.6, &quot;fillRule&quot;: &quot;evenodd&quot;, &quot;lineCap&quot;: &quot;round&quot;, &quot;lineJoin&quot;: &quot;round&quot;, &quot;opacity&quot;: 1.0, &quot;radius&quot;: 4, &quot;stroke&quot;: true, &quot;weight&quot;: 3}\n",
              "            ).addTo(feature_group_fc3ee72a50aeca75c8c081797676a2dc);\n",
              "        \n",
              "    \n",
              "        var popup_be17d6e5fbc00f6493f6ee57f2169170 = L.popup({\n",
              "  &quot;maxWidth&quot;: &quot;100%&quot;,\n",
              "});\n",
              "\n",
              "        \n",
              "            \n",
              "                var html_8d040f455ad74698a7ac427fd37f5a68 = $(`&lt;div id=&quot;html_8d040f455ad74698a7ac427fd37f5a68&quot; style=&quot;width: 100.0%; height: 100.0%;&quot;&gt;WA&lt;/div&gt;`)[0];\n",
              "                popup_be17d6e5fbc00f6493f6ee57f2169170.setContent(html_8d040f455ad74698a7ac427fd37f5a68);\n",
              "            \n",
              "        \n",
              "\n",
              "        circle_marker_12344d1444383055a9ac391979d97d30.bindPopup(popup_be17d6e5fbc00f6493f6ee57f2169170)\n",
              "        ;\n",
              "\n",
              "        \n",
              "    \n",
              "    \n",
              "            var circle_marker_dc63cb71e155bf2ffba743de3baa3876 = L.circleMarker(\n",
              "                [-19.491411, 132.550964],\n",
              "                {&quot;bubblingMouseEvents&quot;: true, &quot;color&quot;: &quot;red&quot;, &quot;dashArray&quot;: null, &quot;dashOffset&quot;: null, &quot;fill&quot;: true, &quot;fillColor&quot;: &quot;blue&quot;, &quot;fillOpacity&quot;: 0.6, &quot;fillRule&quot;: &quot;evenodd&quot;, &quot;lineCap&quot;: &quot;round&quot;, &quot;lineJoin&quot;: &quot;round&quot;, &quot;opacity&quot;: 1.0, &quot;radius&quot;: 4, &quot;stroke&quot;: true, &quot;weight&quot;: 3}\n",
              "            ).addTo(feature_group_fc3ee72a50aeca75c8c081797676a2dc);\n",
              "        \n",
              "    \n",
              "        var popup_351d5a316c291623136e7f8a9c7dd1ce = L.popup({\n",
              "  &quot;maxWidth&quot;: &quot;100%&quot;,\n",
              "});\n",
              "\n",
              "        \n",
              "            \n",
              "                var html_6218a84d5f79812e55d62c7e655d0774 = $(`&lt;div id=&quot;html_6218a84d5f79812e55d62c7e655d0774&quot; style=&quot;width: 100.0%; height: 100.0%;&quot;&gt;NT&lt;/div&gt;`)[0];\n",
              "                popup_351d5a316c291623136e7f8a9c7dd1ce.setContent(html_6218a84d5f79812e55d62c7e655d0774);\n",
              "            \n",
              "        \n",
              "\n",
              "        circle_marker_dc63cb71e155bf2ffba743de3baa3876.bindPopup(popup_351d5a316c291623136e7f8a9c7dd1ce)\n",
              "        ;\n",
              "\n",
              "        \n",
              "    \n",
              "    \n",
              "            feature_group_fc3ee72a50aeca75c8c081797676a2dc.addTo(map_a18d8c5130a605a17e4277d7865e7402);\n",
              "        \n",
              "&lt;/script&gt;\n",
              "&lt;/html&gt;\" style=\"position:absolute;width:100%;height:100%;left:0;top:0;border:none !important;\" allowfullscreen webkitallowfullscreen mozallowfullscreen></iframe></div></div>"
            ]
          },
          "metadata": {},
          "execution_count": 53
        }
      ],
      "source": [
        "aus_reg = folium.map.FeatureGroup()\n",
        "\n",
        "Aus_map = folium.Map(location=[-25, 135], zoom_start=4)\n",
        "\n",
        "# loop through the region and add to feature group\n",
        "for lat, lng, lab in zip(reg.Lat, reg.Lon, reg.region):\n",
        "    aus_reg.add_child(\n",
        "        folium.features.CircleMarker(\n",
        "            [lat, lng],\n",
        "            popup=lab,\n",
        "            radius=4, # define how big you want the circle markers to be\n",
        "            color='red',\n",
        "            fill=True,\n",
        "            fill_color='blue',\n",
        "            fill_opacity=0.6\n",
        "        )\n",
        "    )\n",
        "\n",
        "# add incidents to map\n",
        "Aus_map.add_child(aus_reg)"
      ],
      "execution_count": 53
    },
    {
      "cell_type": "markdown",
      "metadata": {
        "id": "d83d270b-a187-49b3-87c7-0dc594eb8bd2"
      },
      "source": [
        "<details>\n",
        "    <summary>Click here for Solution</summary>\n",
        "\n",
        "```python\n",
        "# instantiate a feature group\n",
        "aus_reg = folium.map.FeatureGroup()\n",
        "\n",
        "# Create a Folium map centered on Australia\n",
        "Aus_map = folium.Map(location=[-25, 135], zoom_start=4)\n",
        "\n",
        "# loop through the region and add to feature group\n",
        "for lat, lng, lab in zip(reg.Lat, reg.Lon, reg.region):\n",
        "    aus_reg.add_child(\n",
        "        folium.features.CircleMarker(\n",
        "            [lat, lng],\n",
        "            popup=lab,\n",
        "            radius=5, # define how big you want the circle markers to be\n",
        "            color='red',\n",
        "            fill=True,\n",
        "            fill_color='blue',\n",
        "            fill_opacity=0.6\n",
        "        )\n",
        "    )\n",
        "\n",
        "# add incidents to map\n",
        "Aus_map.add_child(aus_reg)\n",
        "```\n",
        "</details>\n"
      ]
    },
    {
      "cell_type": "markdown",
      "metadata": {
        "id": "9db7da1f-946e-4cfa-bb21-dd1264a4fdcb"
      },
      "source": [
        "---\n"
      ]
    },
    {
      "cell_type": "markdown",
      "metadata": {
        "id": "481c9e8b-465a-40f0-b417-bb43a338bc5c"
      },
      "source": [
        "# Congratulations! You have completed the lab\n"
      ]
    },
    {
      "cell_type": "markdown",
      "metadata": {
        "id": "bf9eb0ef-823c-403d-b775-47b2d2b0952e"
      },
      "source": [
        "## Authors\n"
      ]
    },
    {
      "cell_type": "markdown",
      "metadata": {
        "id": "be415447-8274-4f74-937c-49d1e24500d0"
      },
      "source": [
        "[Dr. Pooja](author_link)\n"
      ]
    },
    {
      "cell_type": "markdown",
      "metadata": {
        "id": "edfcfe07-5a3d-4b05-b3ae-f990b9f675ac"
      },
      "source": [
        "#### Copyright © 2023 IBM Corporation. All rights reserved.\n",
        "```{toggle}## Change Log\n",
        "```\n"
      ]
    },
    {
      "cell_type": "markdown",
      "metadata": {
        "id": "3bc1639f-cea2-40df-98da-ba1bdcf44320"
      },
      "source": [
        "```{toggle}|Date (YYYY-MM-DD)|Version|Changed By|Change Description|\n",
        "```\n",
        "\n",
        "```{toggle}|-|-|-|-|\n",
        "```\n",
        "```{toggle}|2023-06-281|0.2|Dr. Pooja|Initial Lab Creation|\n",
        "```\n",
        "```{toggle}|2023-05-01|0.1|Shengkai|Create Lab Template|\n",
        "```\n"
      ]
    },
    {
      "cell_type": "markdown",
      "metadata": {
        "id": "2abf9c00-70da-43c1-b5f7-da48e157c8cd"
      },
      "source": [
        "\n"
      ]
    }
  ],
  "metadata": {
    "kernelspec": {
      "name": "python",
      "display_name": "Python (Pyodide)",
      "language": "python"
    },
    "language_info": {
      "codemirror_mode": {
        "name": "python",
        "version": 3
      },
      "file_extension": ".py",
      "mimetype": "text/x-python",
      "name": "python",
      "nbconvert_exporter": "python",
      "pygments_lexer": "ipython3",
      "version": "3.8"
    },
    "prev_pub_hash": "00b475a2aa6c62e1fd5b2d6966d1e0f1905cdce9ef471f09e9dbe7cd211b749a",
    "colab": {
      "provenance": [],
      "include_colab_link": true
    }
  },
  "nbformat": 4,
  "nbformat_minor": 0
}