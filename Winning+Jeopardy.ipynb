{
 "cells": [
  {
   "cell_type": "code",
   "execution_count": 2,
   "metadata": {
    "collapsed": false
   },
   "outputs": [
    {
     "name": "stdout",
     "output_type": "stream",
     "text": [
      "   Show Number    Air Date      Round                         Category  Value  \\\n",
      "0         4680  2004-12-31  Jeopardy!                          HISTORY   $200   \n",
      "1         4680  2004-12-31  Jeopardy!  ESPN's TOP 10 ALL-TIME ATHLETES   $200   \n",
      "2         4680  2004-12-31  Jeopardy!      EVERYBODY TALKS ABOUT IT...   $200   \n",
      "3         4680  2004-12-31  Jeopardy!                 THE COMPANY LINE   $200   \n",
      "4         4680  2004-12-31  Jeopardy!              EPITAPHS & TRIBUTES   $200   \n",
      "\n",
      "                                            Question      Answer  \n",
      "0  For the last 8 years of his life, Galileo was ...  Copernicus  \n",
      "1  No. 2: 1912 Olympian; football star at Carlisl...  Jim Thorpe  \n",
      "2  The city of Yuma in this state has a record av...     Arizona  \n",
      "3  In 1963, live on \"The Art Linkletter Show\", th...  McDonald's  \n",
      "4  Signer of the Dec. of Indep., framer of the Co...  John Adams  \n"
     ]
    }
   ],
   "source": [
    "import pandas as pd\n",
    "data = pd.read_csv('jeopardy.csv')\n",
    "\n",
    "print(data.head(5))"
   ]
  },
  {
   "cell_type": "code",
   "execution_count": 3,
   "metadata": {
    "collapsed": false
   },
   "outputs": [
    {
     "name": "stdout",
     "output_type": "stream",
     "text": [
      "Index(['Show Number', ' Air Date', ' Round', ' Category', ' Value',\n",
      "       ' Question', ' Answer'],\n",
      "      dtype='object')\n"
     ]
    }
   ],
   "source": [
    "print(data.columns)"
   ]
  },
  {
   "cell_type": "code",
   "execution_count": 4,
   "metadata": {
    "collapsed": true
   },
   "outputs": [],
   "source": [
    "data.columns = ['Show Number', 'Air Date', 'Round', 'Category', 'Value',\n",
    "       'Question', 'Answer']"
   ]
  },
  {
   "cell_type": "code",
   "execution_count": 5,
   "metadata": {
    "collapsed": false
   },
   "outputs": [
    {
     "name": "stdout",
     "output_type": "stream",
     "text": [
      "Index(['Show Number', 'Air Date', 'Round', 'Category', 'Value', 'Question',\n",
      "       'Answer'],\n",
      "      dtype='object')\n"
     ]
    }
   ],
   "source": [
    "print(data.columns)"
   ]
  },
  {
   "cell_type": "code",
   "execution_count": 6,
   "metadata": {
    "collapsed": true
   },
   "outputs": [],
   "source": [
    "import string\n",
    "\n",
    "def norm_function(x):\n",
    "    x_1 = x.lower()\n",
    "    x_2 = str.maketrans('', '', string.punctuation)\n",
    "    y = x_1.translate(x_2)\n",
    "    return y"
   ]
  },
  {
   "cell_type": "code",
   "execution_count": 7,
   "metadata": {
    "collapsed": false
   },
   "outputs": [],
   "source": [
    "data['clean_question'] = data['Question'].apply(norm_function)\n",
    "data['clean_answer'] = data['Answer'].apply(norm_function)"
   ]
  },
  {
   "cell_type": "code",
   "execution_count": 8,
   "metadata": {
    "collapsed": false
   },
   "outputs": [
    {
     "name": "stdout",
     "output_type": "stream",
     "text": [
      "   Show Number    Air Date      Round                         Category Value  \\\n",
      "0         4680  2004-12-31  Jeopardy!                          HISTORY  $200   \n",
      "1         4680  2004-12-31  Jeopardy!  ESPN's TOP 10 ALL-TIME ATHLETES  $200   \n",
      "2         4680  2004-12-31  Jeopardy!      EVERYBODY TALKS ABOUT IT...  $200   \n",
      "3         4680  2004-12-31  Jeopardy!                 THE COMPANY LINE  $200   \n",
      "4         4680  2004-12-31  Jeopardy!              EPITAPHS & TRIBUTES  $200   \n",
      "\n",
      "                                            Question      Answer  \\\n",
      "0  For the last 8 years of his life, Galileo was ...  Copernicus   \n",
      "1  No. 2: 1912 Olympian; football star at Carlisl...  Jim Thorpe   \n",
      "2  The city of Yuma in this state has a record av...     Arizona   \n",
      "3  In 1963, live on \"The Art Linkletter Show\", th...  McDonald's   \n",
      "4  Signer of the Dec. of Indep., framer of the Co...  John Adams   \n",
      "\n",
      "                                      clean_question clean_answer  \n",
      "0  for the last 8 years of his life galileo was u...   copernicus  \n",
      "1  no 2 1912 olympian football star at carlisle i...   jim thorpe  \n",
      "2  the city of yuma in this state has a record av...      arizona  \n",
      "3  in 1963 live on the art linkletter show this c...    mcdonalds  \n",
      "4  signer of the dec of indep framer of the const...   john adams  \n"
     ]
    }
   ],
   "source": [
    "print(data.head(5))"
   ]
  },
  {
   "cell_type": "code",
   "execution_count": 9,
   "metadata": {
    "collapsed": false
   },
   "outputs": [],
   "source": [
    "def dollar_norm(x):\n",
    "    x_1 = str.maketrans('', '', string.punctuation)\n",
    "    y = x.translate(x_1)\n",
    "    try:\n",
    "        z = int(y)\n",
    "    except Exception:\n",
    "        z = 0\n",
    "    return z"
   ]
  },
  {
   "cell_type": "code",
   "execution_count": 10,
   "metadata": {
    "collapsed": false
   },
   "outputs": [],
   "source": [
    "data['clean_value'] = data['Value'].apply(dollar_norm)"
   ]
  },
  {
   "cell_type": "code",
   "execution_count": 11,
   "metadata": {
    "collapsed": false
   },
   "outputs": [
    {
     "name": "stdout",
     "output_type": "stream",
     "text": [
      "   Show Number    Air Date      Round                         Category Value  \\\n",
      "0         4680  2004-12-31  Jeopardy!                          HISTORY  $200   \n",
      "1         4680  2004-12-31  Jeopardy!  ESPN's TOP 10 ALL-TIME ATHLETES  $200   \n",
      "2         4680  2004-12-31  Jeopardy!      EVERYBODY TALKS ABOUT IT...  $200   \n",
      "3         4680  2004-12-31  Jeopardy!                 THE COMPANY LINE  $200   \n",
      "4         4680  2004-12-31  Jeopardy!              EPITAPHS & TRIBUTES  $200   \n",
      "\n",
      "                                            Question      Answer  \\\n",
      "0  For the last 8 years of his life, Galileo was ...  Copernicus   \n",
      "1  No. 2: 1912 Olympian; football star at Carlisl...  Jim Thorpe   \n",
      "2  The city of Yuma in this state has a record av...     Arizona   \n",
      "3  In 1963, live on \"The Art Linkletter Show\", th...  McDonald's   \n",
      "4  Signer of the Dec. of Indep., framer of the Co...  John Adams   \n",
      "\n",
      "                                      clean_question clean_answer  clean_value  \n",
      "0  for the last 8 years of his life galileo was u...   copernicus          200  \n",
      "1  no 2 1912 olympian football star at carlisle i...   jim thorpe          200  \n",
      "2  the city of yuma in this state has a record av...      arizona          200  \n",
      "3  in 1963 live on the art linkletter show this c...    mcdonalds          200  \n",
      "4  signer of the dec of indep framer of the const...   john adams          200  \n"
     ]
    }
   ],
   "source": [
    "print(data.head(5))"
   ]
  },
  {
   "cell_type": "code",
   "execution_count": 12,
   "metadata": {
    "collapsed": false
   },
   "outputs": [],
   "source": [
    "data['Air Date'] = pd.to_datetime(data['Air Date'])"
   ]
  },
  {
   "cell_type": "code",
   "execution_count": 13,
   "metadata": {
    "collapsed": false
   },
   "outputs": [
    {
     "name": "stdout",
     "output_type": "stream",
     "text": [
      "   Show Number   Air Date      Round                         Category Value  \\\n",
      "0         4680 2004-12-31  Jeopardy!                          HISTORY  $200   \n",
      "1         4680 2004-12-31  Jeopardy!  ESPN's TOP 10 ALL-TIME ATHLETES  $200   \n",
      "2         4680 2004-12-31  Jeopardy!      EVERYBODY TALKS ABOUT IT...  $200   \n",
      "3         4680 2004-12-31  Jeopardy!                 THE COMPANY LINE  $200   \n",
      "4         4680 2004-12-31  Jeopardy!              EPITAPHS & TRIBUTES  $200   \n",
      "\n",
      "                                            Question      Answer  \\\n",
      "0  For the last 8 years of his life, Galileo was ...  Copernicus   \n",
      "1  No. 2: 1912 Olympian; football star at Carlisl...  Jim Thorpe   \n",
      "2  The city of Yuma in this state has a record av...     Arizona   \n",
      "3  In 1963, live on \"The Art Linkletter Show\", th...  McDonald's   \n",
      "4  Signer of the Dec. of Indep., framer of the Co...  John Adams   \n",
      "\n",
      "                                      clean_question clean_answer  clean_value  \n",
      "0  for the last 8 years of his life galileo was u...   copernicus          200  \n",
      "1  no 2 1912 olympian football star at carlisle i...   jim thorpe          200  \n",
      "2  the city of yuma in this state has a record av...      arizona          200  \n",
      "3  in 1963 live on the art linkletter show this c...    mcdonalds          200  \n",
      "4  signer of the dec of indep framer of the const...   john adams          200  \n"
     ]
    }
   ],
   "source": [
    "print(data.head(5))"
   ]
  },
  {
   "cell_type": "code",
   "execution_count": 14,
   "metadata": {
    "collapsed": true
   },
   "outputs": [],
   "source": [
    "def row_manipulation(x, y):\n",
    "\n",
    "    split_answer = x.split()\n",
    "    split_question = y.split() \n",
    "    match_count = 0\n",
    "    for j in split_answer:\n",
    "        if j == 'the':\n",
    "            split_answer.remove(j)\n",
    "    for i in split_answer:\n",
    "        if i in split_question:\n",
    "             match_count += 1\n",
    "    \n",
    "    if len(split_answer) == 0:\n",
    "        return 0\n",
    "    else:\n",
    "        return match_count/len(split_answer)"
   ]
  },
  {
   "cell_type": "code",
   "execution_count": 15,
   "metadata": {
    "collapsed": false
   },
   "outputs": [],
   "source": [
    "data['answer_in_question'] = data.apply(lambda row: row_manipulation(row['clean_answer'], row['clean_question']), axis=1)"
   ]
  },
  {
   "cell_type": "code",
   "execution_count": 16,
   "metadata": {
    "collapsed": false
   },
   "outputs": [
    {
     "name": "stdout",
     "output_type": "stream",
     "text": [
      "   Show Number   Air Date      Round                         Category Value  \\\n",
      "0         4680 2004-12-31  Jeopardy!                          HISTORY  $200   \n",
      "1         4680 2004-12-31  Jeopardy!  ESPN's TOP 10 ALL-TIME ATHLETES  $200   \n",
      "2         4680 2004-12-31  Jeopardy!      EVERYBODY TALKS ABOUT IT...  $200   \n",
      "3         4680 2004-12-31  Jeopardy!                 THE COMPANY LINE  $200   \n",
      "4         4680 2004-12-31  Jeopardy!              EPITAPHS & TRIBUTES  $200   \n",
      "\n",
      "                                            Question      Answer  \\\n",
      "0  For the last 8 years of his life, Galileo was ...  Copernicus   \n",
      "1  No. 2: 1912 Olympian; football star at Carlisl...  Jim Thorpe   \n",
      "2  The city of Yuma in this state has a record av...     Arizona   \n",
      "3  In 1963, live on \"The Art Linkletter Show\", th...  McDonald's   \n",
      "4  Signer of the Dec. of Indep., framer of the Co...  John Adams   \n",
      "\n",
      "                                      clean_question clean_answer  \\\n",
      "0  for the last 8 years of his life galileo was u...   copernicus   \n",
      "1  no 2 1912 olympian football star at carlisle i...   jim thorpe   \n",
      "2  the city of yuma in this state has a record av...      arizona   \n",
      "3  in 1963 live on the art linkletter show this c...    mcdonalds   \n",
      "4  signer of the dec of indep framer of the const...   john adams   \n",
      "\n",
      "   clean_value  answer_in_question  \n",
      "0          200                 0.0  \n",
      "1          200                 0.0  \n",
      "2          200                 0.0  \n",
      "3          200                 0.0  \n",
      "4          200                 0.0  \n"
     ]
    }
   ],
   "source": [
    "print(data.head(5))"
   ]
  },
  {
   "cell_type": "code",
   "execution_count": 17,
   "metadata": {
    "collapsed": false
   },
   "outputs": [
    {
     "name": "stdout",
     "output_type": "stream",
     "text": [
      "0.058206961574629956\n"
     ]
    }
   ],
   "source": [
    "print(data['answer_in_question'].mean())"
   ]
  },
  {
   "cell_type": "markdown",
   "metadata": {},
   "source": [
    "It seems like it is rare that words in the question are also contained in the answer - this is not a winning strategy."
   ]
  },
  {
   "cell_type": "code",
   "execution_count": 18,
   "metadata": {
    "collapsed": false
   },
   "outputs": [
    {
     "data": {
      "text/plain": [
       "19325   1984-09-21\n",
       "19301   1984-09-21\n",
       "19302   1984-09-21\n",
       "19303   1984-09-21\n",
       "19304   1984-09-21\n",
       "19305   1984-09-21\n",
       "19306   1984-09-21\n",
       "19307   1984-09-21\n",
       "19308   1984-09-21\n",
       "19309   1984-09-21\n",
       "19310   1984-09-21\n",
       "19311   1984-09-21\n",
       "19312   1984-09-21\n",
       "19313   1984-09-21\n",
       "19314   1984-09-21\n",
       "19315   1984-09-21\n",
       "19316   1984-09-21\n",
       "19317   1984-09-21\n",
       "19318   1984-09-21\n",
       "19319   1984-09-21\n",
       "19320   1984-09-21\n",
       "19321   1984-09-21\n",
       "19322   1984-09-21\n",
       "19323   1984-09-21\n",
       "19300   1984-09-21\n",
       "19324   1984-09-21\n",
       "19299   1984-09-21\n",
       "19297   1984-09-21\n",
       "19274   1984-09-21\n",
       "19275   1984-09-21\n",
       "           ...    \n",
       "1973    2012-01-19\n",
       "1974    2012-01-19\n",
       "1959    2012-01-19\n",
       "1958    2012-01-19\n",
       "1957    2012-01-19\n",
       "1956    2012-01-19\n",
       "1934    2012-01-19\n",
       "1935    2012-01-19\n",
       "1936    2012-01-19\n",
       "1937    2012-01-19\n",
       "1938    2012-01-19\n",
       "1939    2012-01-19\n",
       "1940    2012-01-19\n",
       "1941    2012-01-19\n",
       "1942    2012-01-19\n",
       "1943    2012-01-19\n",
       "1932    2012-01-19\n",
       "1944    2012-01-19\n",
       "1946    2012-01-19\n",
       "1947    2012-01-19\n",
       "1948    2012-01-19\n",
       "1949    2012-01-19\n",
       "1950    2012-01-19\n",
       "1951    2012-01-19\n",
       "1952    2012-01-19\n",
       "1953    2012-01-19\n",
       "1954    2012-01-19\n",
       "1955    2012-01-19\n",
       "1945    2012-01-19\n",
       "1922    2012-01-19\n",
       "Name: Air Date, Length: 19999, dtype: datetime64[ns]"
      ]
     },
     "execution_count": 18,
     "metadata": {},
     "output_type": "execute_result"
    }
   ],
   "source": [
    "data['Air Date'].sort_values()"
   ]
  },
  {
   "cell_type": "code",
   "execution_count": 19,
   "metadata": {
    "collapsed": false
   },
   "outputs": [
    {
     "name": "stdout",
     "output_type": "stream",
     "text": [
      "   Show Number   Air Date      Round                         Category Value  \\\n",
      "0         4680 2004-12-31  Jeopardy!                          HISTORY  $200   \n",
      "1         4680 2004-12-31  Jeopardy!  ESPN's TOP 10 ALL-TIME ATHLETES  $200   \n",
      "2         4680 2004-12-31  Jeopardy!      EVERYBODY TALKS ABOUT IT...  $200   \n",
      "3         4680 2004-12-31  Jeopardy!                 THE COMPANY LINE  $200   \n",
      "4         4680 2004-12-31  Jeopardy!              EPITAPHS & TRIBUTES  $200   \n",
      "\n",
      "                                            Question      Answer  \\\n",
      "0  For the last 8 years of his life, Galileo was ...  Copernicus   \n",
      "1  No. 2: 1912 Olympian; football star at Carlisl...  Jim Thorpe   \n",
      "2  The city of Yuma in this state has a record av...     Arizona   \n",
      "3  In 1963, live on \"The Art Linkletter Show\", th...  McDonald's   \n",
      "4  Signer of the Dec. of Indep., framer of the Co...  John Adams   \n",
      "\n",
      "                                      clean_question clean_answer  \\\n",
      "0  for the last 8 years of his life galileo was u...   copernicus   \n",
      "1  no 2 1912 olympian football star at carlisle i...   jim thorpe   \n",
      "2  the city of yuma in this state has a record av...      arizona   \n",
      "3  in 1963 live on the art linkletter show this c...    mcdonalds   \n",
      "4  signer of the dec of indep framer of the const...   john adams   \n",
      "\n",
      "   clean_value  answer_in_question  \n",
      "0          200                 0.0  \n",
      "1          200                 0.0  \n",
      "2          200                 0.0  \n",
      "3          200                 0.0  \n",
      "4          200                 0.0  \n"
     ]
    }
   ],
   "source": [
    "print(data.head(5))"
   ]
  },
  {
   "cell_type": "code",
   "execution_count": 29,
   "metadata": {
    "collapsed": false
   },
   "outputs": [
    {
     "name": "stdout",
     "output_type": "stream",
     "text": [
      "0.3175744557963618\n"
     ]
    }
   ],
   "source": [
    "question_overlap = []\n",
    "terms_used = set()\n",
    "\n",
    "for i, row in data.iterrows():\n",
    "    split_question = row['clean_question'].split()\n",
    "    match_count = 0\n",
    "    for word in split_question:\n",
    "        if len(word) >= 6: \n",
    "            terms_used.add(word)\n",
    "            if word in terms_used:\n",
    "                match_count += 1\n",
    "        if len(split_question) > 0:\n",
    "            match_count1 = match_count/len(split_question)\n",
    "    question_overlap.append(match_count1)\n",
    "\n",
    "data['question_overlap'] = question_overlap\n",
    "\n",
    "print(data['question_overlap'].mean())"
   ]
  },
  {
   "cell_type": "markdown",
   "metadata": {},
   "source": [
    "It seems like a lot of the questions are repeating themselves."
   ]
  },
  {
   "cell_type": "code",
   "execution_count": 30,
   "metadata": {
    "collapsed": true
   },
   "outputs": [],
   "source": [
    "def value(x):\n",
    "    if x > 800:\n",
    "        value = 1\n",
    "    else:\n",
    "        value = 0\n",
    "    return value"
   ]
  },
  {
   "cell_type": "code",
   "execution_count": 31,
   "metadata": {
    "collapsed": true
   },
   "outputs": [],
   "source": [
    "data['high-value'] = data.apply(lambda row: value(row['clean_value']), axis=1)"
   ]
  },
  {
   "cell_type": "code",
   "execution_count": 34,
   "metadata": {
    "collapsed": false
   },
   "outputs": [
    {
     "name": "stdout",
     "output_type": "stream",
     "text": [
      "   Show Number   Air Date      Round                         Category Value  \\\n",
      "0         4680 2004-12-31  Jeopardy!                          HISTORY  $200   \n",
      "1         4680 2004-12-31  Jeopardy!  ESPN's TOP 10 ALL-TIME ATHLETES  $200   \n",
      "2         4680 2004-12-31  Jeopardy!      EVERYBODY TALKS ABOUT IT...  $200   \n",
      "3         4680 2004-12-31  Jeopardy!                 THE COMPANY LINE  $200   \n",
      "4         4680 2004-12-31  Jeopardy!              EPITAPHS & TRIBUTES  $200   \n",
      "\n",
      "                                            Question      Answer  \\\n",
      "0  For the last 8 years of his life, Galileo was ...  Copernicus   \n",
      "1  No. 2: 1912 Olympian; football star at Carlisl...  Jim Thorpe   \n",
      "2  The city of Yuma in this state has a record av...     Arizona   \n",
      "3  In 1963, live on \"The Art Linkletter Show\", th...  McDonald's   \n",
      "4  Signer of the Dec. of Indep., framer of the Co...  John Adams   \n",
      "\n",
      "                                      clean_question clean_answer  \\\n",
      "0  for the last 8 years of his life galileo was u...   copernicus   \n",
      "1  no 2 1912 olympian football star at carlisle i...   jim thorpe   \n",
      "2  the city of yuma in this state has a record av...      arizona   \n",
      "3  in 1963 live on the art linkletter show this c...    mcdonalds   \n",
      "4  signer of the dec of indep framer of the const...   john adams   \n",
      "\n",
      "   clean_value  answer_in_question  question_overlap  high-value  \n",
      "0          200                 0.0          0.222222           0  \n",
      "1          200                 0.0          0.444444           0  \n",
      "2          200                 0.0          0.166667           0  \n",
      "3          200                 0.0          0.357143           0  \n",
      "4          200                 0.0          0.388889           0  \n"
     ]
    }
   ],
   "source": [
    "print(data.head())"
   ]
  },
  {
   "cell_type": "code",
   "execution_count": 35,
   "metadata": {
    "collapsed": true
   },
   "outputs": [],
   "source": [
    "def new(word):\n",
    "    low_count = 0\n",
    "    high_count = 0\n",
    "    for i, row in data.iterrows():\n",
    "        split_question = row['clean_question'].split()\n",
    "        if word in split_question:\n",
    "            if row['high-value'] == 1:\n",
    "                high_count += 1\n",
    "            else:\n",
    "                low_count += 1\n",
    "    return low_count, high_count"
   ]
  },
  {
   "cell_type": "code",
   "execution_count": 39,
   "metadata": {
    "collapsed": false
   },
   "outputs": [
    {
     "name": "stdout",
     "output_type": "stream",
     "text": [
      "['coincidentally', 'guitars', 'steeped', 'kougras', 'eventoed', 'longdistance', '110thinch', 'firestone', 'stretched', 'payment']\n"
     ]
    }
   ],
   "source": [
    "import random\n",
    "\n",
    "comparison_terms = []\n",
    "\n",
    "for i, val in enumerate(random.sample(terms_used, 10)):\n",
    "    comparison_terms.append(val)\n",
    "    \n",
    "print(comparison_terms)"
   ]
  },
  {
   "cell_type": "code",
   "execution_count": 40,
   "metadata": {
    "collapsed": false
   },
   "outputs": [
    {
     "name": "stdout",
     "output_type": "stream",
     "text": [
      "[(0, 1), (0, 1), (2, 0), (0, 1), (0, 1), (1, 0), (1, 0), (1, 1), (4, 0), (4, 2)]\n"
     ]
    }
   ],
   "source": [
    "observed_expected = []\n",
    "\n",
    "for i in comparison_terms:\n",
    "    x = new(i)\n",
    "    observed_expected.append(x)\n",
    "\n",
    "print(observed_expected)"
   ]
  },
  {
   "cell_type": "code",
   "execution_count": 42,
   "metadata": {
    "collapsed": false
   },
   "outputs": [
    {
     "name": "stdout",
     "output_type": "stream",
     "text": [
      "5734\n",
      "14265\n"
     ]
    }
   ],
   "source": [
    "high_value_count = len(data[data['high-value']==1])\n",
    "print(high_value_count)\n",
    "low_value_count = len(data[data['high-value']==0])\n",
    "print(low_value_count)"
   ]
  },
  {
   "cell_type": "code",
   "execution_count": 46,
   "metadata": {
    "collapsed": false
   },
   "outputs": [
    {
     "name": "stdout",
     "output_type": "stream",
     "text": [
      "[Power_divergenceResult(statistic=2.487792117195675, pvalue=0.11473257634454047), Power_divergenceResult(statistic=2.487792117195675, pvalue=0.11473257634454047), Power_divergenceResult(statistic=0.803925692253768, pvalue=0.3699222378079571), Power_divergenceResult(statistic=2.487792117195675, pvalue=0.11473257634454047), Power_divergenceResult(statistic=2.487792117195675, pvalue=0.11473257634454047), Power_divergenceResult(statistic=0.401962846126884, pvalue=0.5260772985705469), Power_divergenceResult(statistic=0.401962846126884, pvalue=0.5260772985705469), Power_divergenceResult(statistic=0.4448774816612795, pvalue=0.5047776487545996), Power_divergenceResult(statistic=1.607851384507536, pvalue=0.20479409439225948), Power_divergenceResult(statistic=0.06376233446880725, pvalue=0.8006453026878781)]\n"
     ]
    }
   ],
   "source": [
    "from scipy.stats import chisquare\n",
    "import numpy as np\n",
    "\n",
    "chi_squared = []\n",
    "\n",
    "for i in observed_expected:\n",
    "    total = sum(i)\n",
    "    total_prop = total / len(data)\n",
    "    exp_high_value = high_value_count * total_prop\n",
    "    exp_low_value = low_value_count * total_prop\n",
    "    observed = np.array([i[0], i[1]])\n",
    "    expected = np.array([exp_low_value, exp_high_value])\n",
    "    chi_squared.append(chisquare(observed, expected))\n",
    "    \n",
    "print(chi_squared)"
   ]
  },
  {
   "cell_type": "markdown",
   "metadata": {},
   "source": [
    "P-values are higher than 5% probability - none of the terms had statistically significant usage."
   ]
  },
  {
   "cell_type": "code",
   "execution_count": null,
   "metadata": {
    "collapsed": true
   },
   "outputs": [],
   "source": []
  }
 ],
 "metadata": {
  "kernelspec": {
   "display_name": "Python 3",
   "language": "python",
   "name": "python3"
  },
  "language_info": {
   "codemirror_mode": {
    "name": "ipython",
    "version": 3
   },
   "file_extension": ".py",
   "mimetype": "text/x-python",
   "name": "python",
   "nbconvert_exporter": "python",
   "pygments_lexer": "ipython3",
   "version": "3.4.3"
  }
 },
 "nbformat": 4,
 "nbformat_minor": 4
}
