{
 "cells": [
  {
   "cell_type": "markdown",
   "metadata": {},
   "source": [
    "# Best markets to advertize in"
   ]
  },
  {
   "cell_type": "code",
   "execution_count": 117,
   "metadata": {
    "collapsed": false
   },
   "outputs": [
    {
     "name": "stderr",
     "output_type": "stream",
     "text": [
      "/dataquest/system/env/python3/lib/python3.4/site-packages/IPython/core/interactiveshell.py:2723: DtypeWarning:\n",
      "\n",
      "Columns (17,62) have mixed types. Specify dtype option on import or set low_memory=False.\n",
      "\n"
     ]
    },
    {
     "data": {
      "text/html": [
       "<div>\n",
       "<style scoped>\n",
       "    .dataframe tbody tr th:only-of-type {\n",
       "        vertical-align: middle;\n",
       "    }\n",
       "\n",
       "    .dataframe tbody tr th {\n",
       "        vertical-align: top;\n",
       "    }\n",
       "\n",
       "    .dataframe thead th {\n",
       "        text-align: right;\n",
       "    }\n",
       "</style>\n",
       "<table border=\"1\" class=\"dataframe\">\n",
       "  <thead>\n",
       "    <tr style=\"text-align: right;\">\n",
       "      <th></th>\n",
       "      <th>Age</th>\n",
       "      <th>AttendedBootcamp</th>\n",
       "      <th>BootcampFinish</th>\n",
       "      <th>BootcampLoanYesNo</th>\n",
       "      <th>BootcampRecommend</th>\n",
       "      <th>ChildrenNumber</th>\n",
       "      <th>CodeEventConferences</th>\n",
       "      <th>CodeEventDjangoGirls</th>\n",
       "      <th>CodeEventFCC</th>\n",
       "      <th>CodeEventGameJam</th>\n",
       "      <th>...</th>\n",
       "      <th>YouTubeEngineeredTruth</th>\n",
       "      <th>YouTubeFCC</th>\n",
       "      <th>YouTubeFunFunFunction</th>\n",
       "      <th>YouTubeGoogleDev</th>\n",
       "      <th>YouTubeLearnCode</th>\n",
       "      <th>YouTubeLevelUpTuts</th>\n",
       "      <th>YouTubeMIT</th>\n",
       "      <th>YouTubeMozillaHacks</th>\n",
       "      <th>YouTubeSimplilearn</th>\n",
       "      <th>YouTubeTheNewBoston</th>\n",
       "    </tr>\n",
       "  </thead>\n",
       "  <tbody>\n",
       "    <tr>\n",
       "      <th>count</th>\n",
       "      <td>15367.000000</td>\n",
       "      <td>17709.000000</td>\n",
       "      <td>1069.000000</td>\n",
       "      <td>1079.000000</td>\n",
       "      <td>1073.000000</td>\n",
       "      <td>2314.000000</td>\n",
       "      <td>1609.0</td>\n",
       "      <td>165.0</td>\n",
       "      <td>1708.0</td>\n",
       "      <td>290.0</td>\n",
       "      <td>...</td>\n",
       "      <td>993.0</td>\n",
       "      <td>6036.0</td>\n",
       "      <td>1261.0</td>\n",
       "      <td>3539.0</td>\n",
       "      <td>2662.0</td>\n",
       "      <td>1396.0</td>\n",
       "      <td>3327.0</td>\n",
       "      <td>622.0</td>\n",
       "      <td>201.0</td>\n",
       "      <td>2960.0</td>\n",
       "    </tr>\n",
       "    <tr>\n",
       "      <th>mean</th>\n",
       "      <td>27.691872</td>\n",
       "      <td>0.062002</td>\n",
       "      <td>0.699719</td>\n",
       "      <td>0.305839</td>\n",
       "      <td>0.818267</td>\n",
       "      <td>1.832325</td>\n",
       "      <td>1.0</td>\n",
       "      <td>1.0</td>\n",
       "      <td>1.0</td>\n",
       "      <td>1.0</td>\n",
       "      <td>...</td>\n",
       "      <td>1.0</td>\n",
       "      <td>1.0</td>\n",
       "      <td>1.0</td>\n",
       "      <td>1.0</td>\n",
       "      <td>1.0</td>\n",
       "      <td>1.0</td>\n",
       "      <td>1.0</td>\n",
       "      <td>1.0</td>\n",
       "      <td>1.0</td>\n",
       "      <td>1.0</td>\n",
       "    </tr>\n",
       "    <tr>\n",
       "      <th>std</th>\n",
       "      <td>8.559239</td>\n",
       "      <td>0.241167</td>\n",
       "      <td>0.458594</td>\n",
       "      <td>0.460975</td>\n",
       "      <td>0.385805</td>\n",
       "      <td>0.972813</td>\n",
       "      <td>0.0</td>\n",
       "      <td>0.0</td>\n",
       "      <td>0.0</td>\n",
       "      <td>0.0</td>\n",
       "      <td>...</td>\n",
       "      <td>0.0</td>\n",
       "      <td>0.0</td>\n",
       "      <td>0.0</td>\n",
       "      <td>0.0</td>\n",
       "      <td>0.0</td>\n",
       "      <td>0.0</td>\n",
       "      <td>0.0</td>\n",
       "      <td>0.0</td>\n",
       "      <td>0.0</td>\n",
       "      <td>0.0</td>\n",
       "    </tr>\n",
       "    <tr>\n",
       "      <th>min</th>\n",
       "      <td>0.000000</td>\n",
       "      <td>0.000000</td>\n",
       "      <td>0.000000</td>\n",
       "      <td>0.000000</td>\n",
       "      <td>0.000000</td>\n",
       "      <td>1.000000</td>\n",
       "      <td>1.0</td>\n",
       "      <td>1.0</td>\n",
       "      <td>1.0</td>\n",
       "      <td>1.0</td>\n",
       "      <td>...</td>\n",
       "      <td>1.0</td>\n",
       "      <td>1.0</td>\n",
       "      <td>1.0</td>\n",
       "      <td>1.0</td>\n",
       "      <td>1.0</td>\n",
       "      <td>1.0</td>\n",
       "      <td>1.0</td>\n",
       "      <td>1.0</td>\n",
       "      <td>1.0</td>\n",
       "      <td>1.0</td>\n",
       "    </tr>\n",
       "    <tr>\n",
       "      <th>25%</th>\n",
       "      <td>22.000000</td>\n",
       "      <td>0.000000</td>\n",
       "      <td>0.000000</td>\n",
       "      <td>0.000000</td>\n",
       "      <td>1.000000</td>\n",
       "      <td>1.000000</td>\n",
       "      <td>1.0</td>\n",
       "      <td>1.0</td>\n",
       "      <td>1.0</td>\n",
       "      <td>1.0</td>\n",
       "      <td>...</td>\n",
       "      <td>1.0</td>\n",
       "      <td>1.0</td>\n",
       "      <td>1.0</td>\n",
       "      <td>1.0</td>\n",
       "      <td>1.0</td>\n",
       "      <td>1.0</td>\n",
       "      <td>1.0</td>\n",
       "      <td>1.0</td>\n",
       "      <td>1.0</td>\n",
       "      <td>1.0</td>\n",
       "    </tr>\n",
       "    <tr>\n",
       "      <th>50%</th>\n",
       "      <td>26.000000</td>\n",
       "      <td>0.000000</td>\n",
       "      <td>1.000000</td>\n",
       "      <td>0.000000</td>\n",
       "      <td>1.000000</td>\n",
       "      <td>2.000000</td>\n",
       "      <td>1.0</td>\n",
       "      <td>1.0</td>\n",
       "      <td>1.0</td>\n",
       "      <td>1.0</td>\n",
       "      <td>...</td>\n",
       "      <td>1.0</td>\n",
       "      <td>1.0</td>\n",
       "      <td>1.0</td>\n",
       "      <td>1.0</td>\n",
       "      <td>1.0</td>\n",
       "      <td>1.0</td>\n",
       "      <td>1.0</td>\n",
       "      <td>1.0</td>\n",
       "      <td>1.0</td>\n",
       "      <td>1.0</td>\n",
       "    </tr>\n",
       "    <tr>\n",
       "      <th>75%</th>\n",
       "      <td>32.000000</td>\n",
       "      <td>0.000000</td>\n",
       "      <td>1.000000</td>\n",
       "      <td>1.000000</td>\n",
       "      <td>1.000000</td>\n",
       "      <td>2.000000</td>\n",
       "      <td>1.0</td>\n",
       "      <td>1.0</td>\n",
       "      <td>1.0</td>\n",
       "      <td>1.0</td>\n",
       "      <td>...</td>\n",
       "      <td>1.0</td>\n",
       "      <td>1.0</td>\n",
       "      <td>1.0</td>\n",
       "      <td>1.0</td>\n",
       "      <td>1.0</td>\n",
       "      <td>1.0</td>\n",
       "      <td>1.0</td>\n",
       "      <td>1.0</td>\n",
       "      <td>1.0</td>\n",
       "      <td>1.0</td>\n",
       "    </tr>\n",
       "    <tr>\n",
       "      <th>max</th>\n",
       "      <td>90.000000</td>\n",
       "      <td>1.000000</td>\n",
       "      <td>1.000000</td>\n",
       "      <td>1.000000</td>\n",
       "      <td>1.000000</td>\n",
       "      <td>9.000000</td>\n",
       "      <td>1.0</td>\n",
       "      <td>1.0</td>\n",
       "      <td>1.0</td>\n",
       "      <td>1.0</td>\n",
       "      <td>...</td>\n",
       "      <td>1.0</td>\n",
       "      <td>1.0</td>\n",
       "      <td>1.0</td>\n",
       "      <td>1.0</td>\n",
       "      <td>1.0</td>\n",
       "      <td>1.0</td>\n",
       "      <td>1.0</td>\n",
       "      <td>1.0</td>\n",
       "      <td>1.0</td>\n",
       "      <td>1.0</td>\n",
       "    </tr>\n",
       "  </tbody>\n",
       "</table>\n",
       "<p>8 rows × 105 columns</p>\n",
       "</div>"
      ],
      "text/plain": [
       "                Age  AttendedBootcamp  BootcampFinish  BootcampLoanYesNo  \\\n",
       "count  15367.000000      17709.000000     1069.000000        1079.000000   \n",
       "mean      27.691872          0.062002        0.699719           0.305839   \n",
       "std        8.559239          0.241167        0.458594           0.460975   \n",
       "min        0.000000          0.000000        0.000000           0.000000   \n",
       "25%       22.000000          0.000000        0.000000           0.000000   \n",
       "50%       26.000000          0.000000        1.000000           0.000000   \n",
       "75%       32.000000          0.000000        1.000000           1.000000   \n",
       "max       90.000000          1.000000        1.000000           1.000000   \n",
       "\n",
       "       BootcampRecommend  ChildrenNumber  CodeEventConferences  \\\n",
       "count        1073.000000     2314.000000                1609.0   \n",
       "mean            0.818267        1.832325                   1.0   \n",
       "std             0.385805        0.972813                   0.0   \n",
       "min             0.000000        1.000000                   1.0   \n",
       "25%             1.000000        1.000000                   1.0   \n",
       "50%             1.000000        2.000000                   1.0   \n",
       "75%             1.000000        2.000000                   1.0   \n",
       "max             1.000000        9.000000                   1.0   \n",
       "\n",
       "       CodeEventDjangoGirls  CodeEventFCC  CodeEventGameJam  \\\n",
       "count                 165.0        1708.0             290.0   \n",
       "mean                    1.0           1.0               1.0   \n",
       "std                     0.0           0.0               0.0   \n",
       "min                     1.0           1.0               1.0   \n",
       "25%                     1.0           1.0               1.0   \n",
       "50%                     1.0           1.0               1.0   \n",
       "75%                     1.0           1.0               1.0   \n",
       "max                     1.0           1.0               1.0   \n",
       "\n",
       "              ...           YouTubeEngineeredTruth  YouTubeFCC  \\\n",
       "count         ...                            993.0      6036.0   \n",
       "mean          ...                              1.0         1.0   \n",
       "std           ...                              0.0         0.0   \n",
       "min           ...                              1.0         1.0   \n",
       "25%           ...                              1.0         1.0   \n",
       "50%           ...                              1.0         1.0   \n",
       "75%           ...                              1.0         1.0   \n",
       "max           ...                              1.0         1.0   \n",
       "\n",
       "       YouTubeFunFunFunction  YouTubeGoogleDev  YouTubeLearnCode  \\\n",
       "count                 1261.0            3539.0            2662.0   \n",
       "mean                     1.0               1.0               1.0   \n",
       "std                      0.0               0.0               0.0   \n",
       "min                      1.0               1.0               1.0   \n",
       "25%                      1.0               1.0               1.0   \n",
       "50%                      1.0               1.0               1.0   \n",
       "75%                      1.0               1.0               1.0   \n",
       "max                      1.0               1.0               1.0   \n",
       "\n",
       "       YouTubeLevelUpTuts  YouTubeMIT  YouTubeMozillaHacks  \\\n",
       "count              1396.0      3327.0                622.0   \n",
       "mean                  1.0         1.0                  1.0   \n",
       "std                   0.0         0.0                  0.0   \n",
       "min                   1.0         1.0                  1.0   \n",
       "25%                   1.0         1.0                  1.0   \n",
       "50%                   1.0         1.0                  1.0   \n",
       "75%                   1.0         1.0                  1.0   \n",
       "max                   1.0         1.0                  1.0   \n",
       "\n",
       "       YouTubeSimplilearn  YouTubeTheNewBoston  \n",
       "count               201.0               2960.0  \n",
       "mean                  1.0                  1.0  \n",
       "std                   0.0                  0.0  \n",
       "min                   1.0                  1.0  \n",
       "25%                   1.0                  1.0  \n",
       "50%                   1.0                  1.0  \n",
       "75%                   1.0                  1.0  \n",
       "max                   1.0                  1.0  \n",
       "\n",
       "[8 rows x 105 columns]"
      ]
     },
     "execution_count": 117,
     "metadata": {},
     "output_type": "execute_result"
    }
   ],
   "source": [
    "import pandas as pd\n",
    "from numpy import mean\n",
    "survey = pd.read_csv('2017-fCC-New-Coders-Survey-Data.csv')\n",
    "\n",
    "survey.describe()"
   ]
  },
  {
   "cell_type": "code",
   "execution_count": 118,
   "metadata": {
    "collapsed": false
   },
   "outputs": [
    {
     "data": {
      "text/plain": [
       "(18175, 136)"
      ]
     },
     "execution_count": 118,
     "metadata": {},
     "output_type": "execute_result"
    }
   ],
   "source": [
    "survey.shape"
   ]
  },
  {
   "cell_type": "code",
   "execution_count": 119,
   "metadata": {
    "collapsed": false
   },
   "outputs": [
    {
     "name": "stdout",
     "output_type": "stream",
     "text": [
      "    Age  AttendedBootcamp  BootcampFinish  BootcampLoanYesNo BootcampName  \\\n",
      "0  27.0               0.0             NaN                NaN          NaN   \n",
      "1  34.0               0.0             NaN                NaN          NaN   \n",
      "2  21.0               0.0             NaN                NaN          NaN   \n",
      "3  26.0               0.0             NaN                NaN          NaN   \n",
      "4  20.0               0.0             NaN                NaN          NaN   \n",
      "\n",
      "   BootcampRecommend  ChildrenNumber                 CityPopulation  \\\n",
      "0                NaN             NaN            more than 1 million   \n",
      "1                NaN             NaN              less than 100,000   \n",
      "2                NaN             NaN            more than 1 million   \n",
      "3                NaN             NaN  between 100,000 and 1 million   \n",
      "4                NaN             NaN  between 100,000 and 1 million   \n",
      "\n",
      "   CodeEventConferences  CodeEventDjangoGirls         ...           \\\n",
      "0                   NaN                   NaN         ...            \n",
      "1                   NaN                   NaN         ...            \n",
      "2                   NaN                   NaN         ...            \n",
      "3                   NaN                   NaN         ...            \n",
      "4                   NaN                   NaN         ...            \n",
      "\n",
      "   YouTubeFCC  YouTubeFunFunFunction  YouTubeGoogleDev  YouTubeLearnCode  \\\n",
      "0         NaN                    NaN               NaN               NaN   \n",
      "1         1.0                    NaN               NaN               NaN   \n",
      "2         NaN                    NaN               NaN               1.0   \n",
      "3         1.0                    1.0               NaN               NaN   \n",
      "4         NaN                    NaN               NaN               NaN   \n",
      "\n",
      "   YouTubeLevelUpTuts  YouTubeMIT  YouTubeMozillaHacks YouTubeOther  \\\n",
      "0                 NaN         NaN                  NaN          NaN   \n",
      "1                 NaN         NaN                  NaN          NaN   \n",
      "2                 1.0         NaN                  NaN          NaN   \n",
      "3                 1.0         NaN                  NaN          NaN   \n",
      "4                 NaN         NaN                  NaN          NaN   \n",
      "\n",
      "   YouTubeSimplilearn  YouTubeTheNewBoston  \n",
      "0                 NaN                  NaN  \n",
      "1                 NaN                  NaN  \n",
      "2                 NaN                  NaN  \n",
      "3                 NaN                  NaN  \n",
      "4                 NaN                  NaN  \n",
      "\n",
      "[5 rows x 136 columns]\n"
     ]
    }
   ],
   "source": [
    "print(survey.head())"
   ]
  },
  {
   "cell_type": "code",
   "execution_count": 120,
   "metadata": {
    "collapsed": false
   },
   "outputs": [
    {
     "data": {
      "text/plain": [
       "Full-Stack Web Developer                                                                                                                                                                        823\n",
       "  Front-End Web Developer                                                                                                                                                                       450\n",
       "  Data Scientist                                                                                                                                                                                152\n",
       "Back-End Web Developer                                                                                                                                                                          142\n",
       "  Mobile Developer                                                                                                                                                                              117\n",
       "Game Developer                                                                                                                                                                                  114\n",
       "Information Security                                                                                                                                                                             92\n",
       "Full-Stack Web Developer,   Front-End Web Developer                                                                                                                                              64\n",
       "  Front-End Web Developer, Full-Stack Web Developer                                                                                                                                              56\n",
       "  Product Manager                                                                                                                                                                                55\n",
       "Data Engineer                                                                                                                                                                                    53\n",
       "  User Experience Designer                                                                                                                                                                       52\n",
       "  User Experience Designer,   Front-End Web Developer                                                                                                                                            43\n",
       "  Front-End Web Developer, Back-End Web Developer, Full-Stack Web Developer                                                                                                                      39\n",
       "Back-End Web Developer,   Front-End Web Developer, Full-Stack Web Developer                                                                                                                      36\n",
       "  DevOps / SysAdmin                                                                                                                                                                              36\n",
       "Back-End Web Developer, Full-Stack Web Developer,   Front-End Web Developer                                                                                                                      36\n",
       "Full-Stack Web Developer,   Front-End Web Developer, Back-End Web Developer                                                                                                                      31\n",
       "  Front-End Web Developer, Full-Stack Web Developer, Back-End Web Developer                                                                                                                      30\n",
       "Full-Stack Web Developer,   Mobile Developer                                                                                                                                                     29\n",
       "  Front-End Web Developer,   User Experience Designer                                                                                                                                            29\n",
       "Back-End Web Developer, Full-Stack Web Developer                                                                                                                                                 27\n",
       "Full-Stack Web Developer, Back-End Web Developer                                                                                                                                                 26\n",
       "Back-End Web Developer,   Front-End Web Developer                                                                                                                                                20\n",
       "Full-Stack Web Developer, Back-End Web Developer,   Front-End Web Developer                                                                                                                      19\n",
       "Data Engineer,   Data Scientist                                                                                                                                                                  19\n",
       "  Front-End Web Developer,   Mobile Developer                                                                                                                                                    18\n",
       "Full-Stack Web Developer,   Data Scientist                                                                                                                                                       17\n",
       "  Data Scientist, Data Engineer                                                                                                                                                                  16\n",
       "  Mobile Developer, Game Developer                                                                                                                                                               16\n",
       "                                                                                                                                                                                               ... \n",
       "  Mobile Developer,   Product Manager,   User Experience Designer, Information Security                                                                                                           1\n",
       "Full-Stack Web Developer, Information Security, Back-End Web Developer,   Front-End Web Developer                                                                                                 1\n",
       "  Data Scientist,   User Experience Designer,   Quality Assurance Engineer, Full-Stack Web Developer,   DevOps / SysAdmin,   Mobile Developer, Information Security                               1\n",
       "  Quality Assurance Engineer,   Product Manager,   User Experience Designer, Full-Stack Web Developer, Game Developer,   Front-End Web Developer,   Mobile Developer, Back-End Web Developer      1\n",
       "Data visualisation                                                                                                                                                                                1\n",
       "Back-End Web Developer,   Data Scientist,   Front-End Web Developer                                                                                                                               1\n",
       "Full-Stack Web Developer,   Data Scientist, Data Engineer,   User Experience Designer,   Product Manager                                                                                          1\n",
       "  Mobile Developer, Game Developer, Information Security                                                                                                                                          1\n",
       "Data Engineer, Full-Stack Web Developer,   Front-End Web Developer,   Mobile Developer                                                                                                            1\n",
       "  Quality Assurance Engineer,   Mobile Developer, Full-Stack Web Developer, Information Security, Back-End Web Developer                                                                          1\n",
       "  Front-End Web Developer,   User Experience Designer, Data Engineer,   Mobile Developer,   Data Scientist,   Quality Assurance Engineer, Game Developer                                          1\n",
       "Game Developer, Back-End Web Developer, Information Security,   Front-End Web Developer,   Data Scientist,   Product Manager,   Mobile Developer                                                  1\n",
       "  User Experience Designer,   Mobile Developer, Back-End Web Developer, Full-Stack Web Developer,   Front-End Web Developer                                                                       1\n",
       "Data Engineer, Game Developer, Information Security,   Front-End Web Developer,   Data Scientist, Back-End Web Developer, Full-Stack Web Developer                                                1\n",
       "Data Engineer, Full-Stack Web Developer, Back-End Web Developer,   Data Scientist,   DevOps / SysAdmin, Information Security                                                                      1\n",
       "Game Developer,   Mobile Developer,   Data Scientist, Information Security, Full-Stack Web Developer, Back-End Web Developer                                                                      1\n",
       "Marketing Automation                                                                                                                                                                              1\n",
       "  DevOps / SysAdmin,   User Experience Designer, Game Developer, Information Security,   Data Scientist,   Product Manager, Data Engineer                                                         1\n",
       "  User Experience Designer, Data Engineer,   Mobile Developer, Back-End Web Developer, Full-Stack Web Developer,   Front-End Web Developer, Information Security,   Data Scientist                1\n",
       "  Front-End Web Developer, Full-Stack Web Developer, Data Engineer, Game Developer,   Data Scientist, Back-End Web Developer                                                                      1\n",
       "  Product Manager,   Mobile Developer,   Front-End Web Developer, Information Security                                                                                                            1\n",
       "  Data Scientist,   Front-End Web Developer, Back-End Web Developer, Data Engineer, Information Security,   Mobile Developer, Full-Stack Web Developer,   User Experience Designer                1\n",
       "Back-End Web Developer,   Data Scientist, Full-Stack Web Developer,   User Experience Designer,   DevOps / SysAdmin,   Front-End Web Developer,   Mobile Developer, Data Engineer                 1\n",
       "  Mobile Developer,   Front-End Web Developer, Information Security, Full-Stack Web Developer, Game Developer                                                                                     1\n",
       "Data Engineer,   Data Scientist, Information Security, Game Developer                                                                                                                             1\n",
       "Game Developer,   Product Manager, Full-Stack Web Developer,   User Experience Designer, Information Security                                                                                     1\n",
       "Data Engineer,   Data Scientist,   DevOps / SysAdmin                                                                                                                                              1\n",
       "  Front-End Web Developer, Game Developer, Back-End Web Developer, Full-Stack Web Developer,   Data Scientist                                                                                     1\n",
       "Information Security,   Mobile Developer, Full-Stack Web Developer,   Front-End Web Developer, Back-End Web Developer                                                                             1\n",
       "Full-Stack Web Developer,   Front-End Web Developer, Back-End Web Developer,   Quality Assurance Engineer,   Mobile Developer                                                                     1\n",
       "Name: JobRoleInterest, Length: 3213, dtype: int64"
      ]
     },
     "execution_count": 120,
     "metadata": {},
     "output_type": "execute_result"
    }
   ],
   "source": [
    "survey['JobRoleInterest'].value_counts()"
   ]
  },
  {
   "cell_type": "markdown",
   "metadata": {},
   "source": [
    "Web and Mobile development are at the top of the job roles of interest - it seems like the sample will be a good one to use."
   ]
  },
  {
   "cell_type": "code",
   "execution_count": 121,
   "metadata": {
    "collapsed": false
   },
   "outputs": [],
   "source": [
    "survey2 = survey[survey['JobRoleInterest'].notnull()]"
   ]
  },
  {
   "cell_type": "code",
   "execution_count": 122,
   "metadata": {
    "collapsed": false,
    "scrolled": true
   },
   "outputs": [
    {
     "data": {
      "text/plain": [
       "(6992, 136)"
      ]
     },
     "execution_count": 122,
     "metadata": {},
     "output_type": "execute_result"
    }
   ],
   "source": [
    "survey2.shape"
   ]
  },
  {
   "cell_type": "markdown",
   "metadata": {},
   "source": [
    "Absolute counts by country"
   ]
  },
  {
   "cell_type": "code",
   "execution_count": 123,
   "metadata": {
    "collapsed": false
   },
   "outputs": [
    {
     "data": {
      "text/plain": [
       "United States of America         3125\n",
       "India                             528\n",
       "United Kingdom                    315\n",
       "Canada                            260\n",
       "Poland                            131\n",
       "Brazil                            129\n",
       "Germany                           125\n",
       "Australia                         112\n",
       "Russia                            102\n",
       "Ukraine                            89\n",
       "Nigeria                            84\n",
       "Spain                              77\n",
       "France                             75\n",
       "Romania                            71\n",
       "Netherlands (Holland, Europe)      65\n",
       "Italy                              62\n",
       "Serbia                             52\n",
       "Philippines                        52\n",
       "Greece                             46\n",
       "Ireland                            43\n",
       "South Africa                       39\n",
       "Mexico                             37\n",
       "Turkey                             36\n",
       "Singapore                          34\n",
       "Hungary                            34\n",
       "New Zealand                        33\n",
       "Croatia                            32\n",
       "Argentina                          32\n",
       "Indonesia                          31\n",
       "Pakistan                           31\n",
       "                                 ... \n",
       "Cameroon                            1\n",
       "Nambia                              1\n",
       "Guadeloupe                          1\n",
       "Samoa                               1\n",
       "Bolivia                             1\n",
       "Panama                              1\n",
       "Kyrgyzstan                          1\n",
       "Sudan                               1\n",
       "Somalia                             1\n",
       "Vanuatu                             1\n",
       "Nicaragua                           1\n",
       "Yemen                               1\n",
       "Jordan                              1\n",
       "Guatemala                           1\n",
       "Channel Islands                     1\n",
       "Gibraltar                           1\n",
       "Gambia                              1\n",
       "Papua New Guinea                    1\n",
       "Aruba                               1\n",
       "Turkmenistan                        1\n",
       "Liberia                             1\n",
       "Rwanda                              1\n",
       "Cuba                                1\n",
       "Mozambique                          1\n",
       "Trinidad & Tobago                   1\n",
       "Botswana                            1\n",
       "Anguilla                            1\n",
       "Qatar                               1\n",
       "Angola                              1\n",
       "Myanmar                             1\n",
       "Name: CountryLive, Length: 137, dtype: int64"
      ]
     },
     "execution_count": 123,
     "metadata": {},
     "output_type": "execute_result"
    }
   ],
   "source": [
    "survey2['CountryLive'].value_counts()"
   ]
  },
  {
   "cell_type": "markdown",
   "metadata": {},
   "source": [
    "Relative counts by country"
   ]
  },
  {
   "cell_type": "code",
   "execution_count": 124,
   "metadata": {
    "collapsed": false
   },
   "outputs": [
    {
     "data": {
      "text/plain": [
       "United States of America         0.457005\n",
       "India                            0.077216\n",
       "United Kingdom                   0.046066\n",
       "Canada                           0.038023\n",
       "Poland                           0.019158\n",
       "Brazil                           0.018865\n",
       "Germany                          0.018280\n",
       "Australia                        0.016379\n",
       "Russia                           0.014917\n",
       "Ukraine                          0.013016\n",
       "Nigeria                          0.012284\n",
       "Spain                            0.011261\n",
       "France                           0.010968\n",
       "Romania                          0.010383\n",
       "Netherlands (Holland, Europe)    0.009506\n",
       "Italy                            0.009067\n",
       "Serbia                           0.007605\n",
       "Philippines                      0.007605\n",
       "Greece                           0.006727\n",
       "Ireland                          0.006288\n",
       "South Africa                     0.005703\n",
       "Mexico                           0.005411\n",
       "Turkey                           0.005265\n",
       "Singapore                        0.004972\n",
       "Hungary                          0.004972\n",
       "New Zealand                      0.004826\n",
       "Croatia                          0.004680\n",
       "Argentina                        0.004680\n",
       "Indonesia                        0.004533\n",
       "Pakistan                         0.004533\n",
       "                                   ...   \n",
       "Cameroon                         0.000146\n",
       "Nambia                           0.000146\n",
       "Guadeloupe                       0.000146\n",
       "Samoa                            0.000146\n",
       "Bolivia                          0.000146\n",
       "Panama                           0.000146\n",
       "Kyrgyzstan                       0.000146\n",
       "Sudan                            0.000146\n",
       "Somalia                          0.000146\n",
       "Vanuatu                          0.000146\n",
       "Nicaragua                        0.000146\n",
       "Yemen                            0.000146\n",
       "Jordan                           0.000146\n",
       "Guatemala                        0.000146\n",
       "Channel Islands                  0.000146\n",
       "Gibraltar                        0.000146\n",
       "Gambia                           0.000146\n",
       "Papua New Guinea                 0.000146\n",
       "Aruba                            0.000146\n",
       "Turkmenistan                     0.000146\n",
       "Liberia                          0.000146\n",
       "Rwanda                           0.000146\n",
       "Cuba                             0.000146\n",
       "Mozambique                       0.000146\n",
       "Trinidad & Tobago                0.000146\n",
       "Botswana                         0.000146\n",
       "Anguilla                         0.000146\n",
       "Qatar                            0.000146\n",
       "Angola                           0.000146\n",
       "Myanmar                          0.000146\n",
       "Name: CountryLive, Length: 137, dtype: float64"
      ]
     },
     "execution_count": 124,
     "metadata": {},
     "output_type": "execute_result"
    }
   ],
   "source": [
    "survey2['CountryLive'].value_counts(normalize=True)"
   ]
  },
  {
   "cell_type": "markdown",
   "metadata": {},
   "source": [
    "It seems like India and the US are the places where people live."
   ]
  },
  {
   "cell_type": "code",
   "execution_count": 125,
   "metadata": {
    "collapsed": false
   },
   "outputs": [
    {
     "name": "stderr",
     "output_type": "stream",
     "text": [
      "/dataquest/system/env/python3/lib/python3.4/site-packages/ipykernel/__main__.py:1: SettingWithCopyWarning:\n",
      "\n",
      "\n",
      "A value is trying to be set on a copy of a slice from a DataFrame.\n",
      "Try using .loc[row_indexer,col_indexer] = value instead\n",
      "\n",
      "See the caveats in the documentation: http://pandas.pydata.org/pandas-docs/stable/indexing.html#indexing-view-versus-copy\n",
      "\n"
     ]
    }
   ],
   "source": [
    "survey2['MonthsProgramming_new'] = survey2['MonthsProgramming'].replace(0, 1)"
   ]
  },
  {
   "cell_type": "code",
   "execution_count": 126,
   "metadata": {
    "collapsed": false
   },
   "outputs": [
    {
     "name": "stderr",
     "output_type": "stream",
     "text": [
      "/dataquest/system/env/python3/lib/python3.4/site-packages/ipykernel/__main__.py:1: SettingWithCopyWarning:\n",
      "\n",
      "\n",
      "A value is trying to be set on a copy of a slice from a DataFrame.\n",
      "Try using .loc[row_indexer,col_indexer] = value instead\n",
      "\n",
      "See the caveats in the documentation: http://pandas.pydata.org/pandas-docs/stable/indexing.html#indexing-view-versus-copy\n",
      "\n"
     ]
    }
   ],
   "source": [
    "survey2['MoneyPerMonth'] = survey2['MoneyForLearning']/survey2['MonthsProgramming_new']"
   ]
  },
  {
   "cell_type": "code",
   "execution_count": 128,
   "metadata": {
    "collapsed": false,
    "scrolled": true
   },
   "outputs": [],
   "source": [
    "survey_new = survey2[(survey2['MoneyPerMonth'].notnull()) & survey2['CountryLive'].isin(['United States of America','India','United Kingdom','Canada'])]"
   ]
  },
  {
   "cell_type": "code",
   "execution_count": 129,
   "metadata": {
    "collapsed": false
   },
   "outputs": [
    {
     "name": "stdout",
     "output_type": "stream",
     "text": [
      "CountryLive\n",
      "United States of America    227.997996\n",
      "India                       135.100982\n",
      "Canada                      113.510961\n",
      "United Kingdom               45.534443\n",
      "Name: MoneyPerMonth, dtype: float64\n"
     ]
    }
   ],
   "source": [
    "print(survey_new.groupby(['CountryLive'])['MoneyPerMonth'].mean().sort_values(ascending=False))"
   ]
  },
  {
   "cell_type": "code",
   "execution_count": 130,
   "metadata": {
    "collapsed": false
   },
   "outputs": [],
   "source": [
    "import matplotlib.pyplot as plt\n",
    "import seaborn as sns\n",
    "%matplotlib inline"
   ]
  },
  {
   "cell_type": "code",
   "execution_count": 135,
   "metadata": {
    "collapsed": false
   },
   "outputs": [
    {
     "name": "stderr",
     "output_type": "stream",
     "text": [
      "/dataquest/system/env/python3/lib/python3.4/site-packages/seaborn/categorical.py:454: FutureWarning:\n",
      "\n",
      "remove_na is deprecated and is a private function. Do not use.\n",
      "\n"
     ]
    },
    {
     "data": {
      "text/plain": [
       "([<matplotlib.axis.XTick at 0x7fa3995c5ac8>,\n",
       "  <matplotlib.axis.XTick at 0x7fa3995c5f60>,\n",
       "  <matplotlib.axis.XTick at 0x7fa3995753c8>,\n",
       "  <matplotlib.axis.XTick at 0x7fa39950b2b0>],\n",
       " <a list of 4 Text xticklabel objects>)"
      ]
     },
     "execution_count": 135,
     "metadata": {},
     "output_type": "execute_result"
    },
    {
     "data": {
      "image/png": "[encoded data removed]",
      "text/plain": [
       "<matplotlib.figure.Figure at 0x7fa3a42a81d0>"
      ]
     },
     "metadata": {},
     "output_type": "display_data"
    }
   ],
   "source": [
    "sns.boxplot(x='CountryLive',y='MoneyPerMonth',data=survey_new)\n",
    "plt.xlabel('country')\n",
    "plt.ylabel('money spent per month')\n",
    "plt.xticks(range(4),['US','UK','India','Canada'])"
   ]
  },
  {
   "cell_type": "code",
   "execution_count": 149,
   "metadata": {
    "collapsed": true
   },
   "outputs": [],
   "source": [
    "survey_new2 = survey_new[survey_new['MoneyPerMonth']<=1000]"
   ]
  },
  {
   "cell_type": "code",
   "execution_count": 150,
   "metadata": {
    "collapsed": false
   },
   "outputs": [
    {
     "name": "stdout",
     "output_type": "stream",
     "text": [
      "CountryLive\n",
      "United States of America    59.390462\n",
      "India                       47.865239\n",
      "Canada                      46.934471\n",
      "United Kingdom              32.080107\n",
      "Name: MoneyPerMonth, dtype: float64\n"
     ]
    }
   ],
   "source": [
    "print(survey_new2.groupby(['CountryLive'])['MoneyPerMonth'].mean().sort_values(ascending=False))"
   ]
  },
  {
   "cell_type": "code",
   "execution_count": 151,
   "metadata": {
    "collapsed": false,
    "scrolled": true
   },
   "outputs": [
    {
     "name": "stderr",
     "output_type": "stream",
     "text": [
      "/dataquest/system/env/python3/lib/python3.4/site-packages/seaborn/categorical.py:454: FutureWarning:\n",
      "\n",
      "remove_na is deprecated and is a private function. Do not use.\n",
      "\n"
     ]
    },
    {
     "data": {
      "text/plain": [
       "([<matplotlib.axis.XTick at 0x7fa3986c6be0>,\n",
       "  <matplotlib.axis.XTick at 0x7fa398e9e6a0>,\n",
       "  <matplotlib.axis.XTick at 0x7fa398e68f98>,\n",
       "  <matplotlib.axis.XTick at 0x7fa398ac1dd8>],\n",
       " <a list of 4 Text xticklabel objects>)"
      ]
     },
     "execution_count": 151,
     "metadata": {},
     "output_type": "execute_result"
    },
    {
     "data": {
      "image/png": "[encoded data removed]",
      "text/plain": [
       "<matplotlib.figure.Figure at 0x7fa39950b908>"
      ]
     },
     "metadata": {},
     "output_type": "display_data"
    }
   ],
   "source": [
    "sns.boxplot(x='CountryLive',y='MoneyPerMonth',data=survey_new2)\n",
    "plt.xlabel('country')\n",
    "plt.ylabel('money spent per month')\n",
    "plt.xticks(range(4),['US','UK','India','Canada'])"
   ]
  },
  {
   "cell_type": "code",
   "execution_count": 154,
   "metadata": {
    "collapsed": false
   },
   "outputs": [
    {
     "name": "stdout",
     "output_type": "stream",
     "text": [
      "United States of America    2814\n",
      "India                        452\n",
      "United Kingdom               276\n",
      "Canada                       232\n",
      "Name: CountryLive, dtype: int64\n"
     ]
    }
   ],
   "source": [
    "print(survey_new2['CountryLive'].value_counts())"
   ]
  },
  {
   "cell_type": "markdown",
   "metadata": {},
   "source": [
    "It depends where we will draw the line, but if outliers > 1000 USD per month are removed, it makes more sense to advertize in the US and in India. Although the $ per month spent in India are close to the USD per month spent in Canada, there are 2x people in India, who took the survey and are paid users."
   ]
  },
  {
   "cell_type": "code",
   "execution_count": null,
   "metadata": {
    "collapsed": true
   },
   "outputs": [],
   "source": []
  }
 ],
 "metadata": {
  "kernelspec": {
   "display_name": "Python 3",
   "language": "python",
   "name": "python3"
  },
  "language_info": {
   "codemirror_mode": {
    "name": "ipython",
    "version": 3
   },
   "file_extension": ".py",
   "mimetype": "text/x-python",
   "name": "python",
   "nbconvert_exporter": "python",
   "pygments_lexer": "ipython3",
   "version": "3.4.3"
  }
 },
 "nbformat": 4,
 "nbformat_minor": 4
}
