{
 "cells": [
  {
   "cell_type": "markdown",
   "metadata": {},
   "source": [
    "# This project will analyze Hacker News posts"
   ]
  },
  {
   "cell_type": "code",
   "execution_count": 68,
   "metadata": {},
   "outputs": [
    {
     "name": "stdout",
     "output_type": "stream",
     "text": [
      "[['id', 'title', 'url', 'num_points', 'num_comments', 'author', 'created_at'], ['12224879', 'Interactive Dynamic Video', 'http://www.interactivedynamicvideo.com/', '386', '52', 'ne0phyte', '8/4/2016 11:52'], ['10975351', 'How to Use Open Source and Shut the Fuck Up at the Same Time', 'http://hueniverse.com/2016/01/26/how-to-use-open-source-and-shut-the-fuck-up-at-the-same-time/', '39', '10', 'josep2', '1/26/2016 19:30'], ['11964716', \"Florida DJs May Face Felony for April Fools' Water Joke\", 'http://www.thewire.com/entertainment/2013/04/florida-djs-april-fools-water-joke/63798/', '2', '1', 'vezycash', '6/23/2016 22:20'], ['11919867', 'Technology ventures: From Idea to Enterprise', 'https://www.amazon.com/Technology-Ventures-Enterprise-Thomas-Byers/dp/0073523429', '3', '1', 'hswarna', '6/17/2016 0:01']]\n"
     ]
    }
   ],
   "source": [
    "# reading the file #\n",
    "\n",
    "from csv import reader\n",
    "opened_file = open('hacker_news.csv')\n",
    "read_file = reader(opened_file)\n",
    "hn = list(read_file)\n",
    "print(hn[0:5])"
   ]
  },
  {
   "cell_type": "markdown",
   "metadata": {},
   "source": [
    "Extracting headers and other data separately"
   ]
  },
  {
   "cell_type": "code",
   "execution_count": 69,
   "metadata": {
    "scrolled": true
   },
   "outputs": [
    {
     "name": "stdout",
     "output_type": "stream",
     "text": [
      "['id', 'title', 'url', 'num_points', 'num_comments', 'author', 'created_at']\n",
      "\n",
      "\n",
      "[['12224879', 'Interactive Dynamic Video', 'http://www.interactivedynamicvideo.com/', '386', '52', 'ne0phyte', '8/4/2016 11:52'], ['10975351', 'How to Use Open Source and Shut the Fuck Up at the Same Time', 'http://hueniverse.com/2016/01/26/how-to-use-open-source-and-shut-the-fuck-up-at-the-same-time/', '39', '10', 'josep2', '1/26/2016 19:30'], ['11964716', \"Florida DJs May Face Felony for April Fools' Water Joke\", 'http://www.thewire.com/entertainment/2013/04/florida-djs-april-fools-water-joke/63798/', '2', '1', 'vezycash', '6/23/2016 22:20'], ['11919867', 'Technology ventures: From Idea to Enterprise', 'https://www.amazon.com/Technology-Ventures-Enterprise-Thomas-Byers/dp/0073523429', '3', '1', 'hswarna', '6/17/2016 0:01'], ['10301696', 'Note by Note: The Making of Steinway L1037 (2007)', 'http://www.nytimes.com/2007/11/07/movies/07stein.html?_r=0', '8', '2', 'walterbell', '9/30/2015 4:12']]\n"
     ]
    }
   ],
   "source": [
    "headers = hn[0]\n",
    "print(headers)\n",
    "print(\"\\n\")\n",
    "hn = hn[1:]\n",
    "print(hn[0:5])"
   ]
  },
  {
   "cell_type": "markdown",
   "metadata": {},
   "source": [
    "Next step is separating the list into 3 different lists depending on what type of post it is."
   ]
  },
  {
   "cell_type": "code",
   "execution_count": 70,
   "metadata": {},
   "outputs": [
    {
     "name": "stdout",
     "output_type": "stream",
     "text": [
      "The number of ask posts is 1744\n",
      "The number of show posts is 1162\n",
      "The number of other posts is 17194\n"
     ]
    }
   ],
   "source": [
    "ask_posts = []\n",
    "show_posts = []\n",
    "other_posts = []\n",
    "\n",
    "for row in hn:\n",
    "    title = row[1]\n",
    "    low = str(title).lower()\n",
    "    if low.startswith('ask hn'):\n",
    "        ask_posts.append(low)\n",
    "    elif low.startswith('show hn'):\n",
    "        show_posts.append(low)\n",
    "    else:\n",
    "        other_posts.append(low)\n",
    "\n",
    "print('The number of ask posts is', len(ask_posts))\n",
    "print('The number of show posts is', len(show_posts))\n",
    "print('The number of other posts is', len(other_posts))"
   ]
  },
  {
   "cell_type": "markdown",
   "metadata": {},
   "source": [
    "Checking the rows in each list - these seem to be ok:"
   ]
  },
  {
   "cell_type": "code",
   "execution_count": 71,
   "metadata": {},
   "outputs": [
    {
     "name": "stdout",
     "output_type": "stream",
     "text": [
      "['ask hn: how to improve my personal website?', 'ask hn: am i the only one outraged by twitter shutting down share counts?', 'ask hn: aby recent changes to css that broke mobile?', 'ask hn: looking for employee #3 how do i do it?', 'ask hn: someone offered to buy my browser extension from me. what now?']\n",
      "\n",
      "\n",
      "['show hn: wio link  esp8266 based web of things hardware development platform', 'show hn: something pointless i made', 'show hn: shanhu.io, a programming playground powered by e8vm', 'show hn: webscope  easy way for web developers to communicate with clients', 'show hn: geoscreenshot  easily test geo-ip based web pages']\n",
      "\n",
      "\n",
      "['interactive dynamic video', 'how to use open source and shut the fuck up at the same time', \"florida djs may face felony for april fools' water joke\", 'technology ventures: from idea to enterprise', 'note by note: the making of steinway l1037 (2007)']\n",
      "\n",
      "\n"
     ]
    }
   ],
   "source": [
    "print(ask_posts[0:5])\n",
    "print('\\n')\n",
    "print(show_posts[0:5])\n",
    "print('\\n')\n",
    "print(other_posts[0:5])\n",
    "print('\\n')"
   ]
  },
  {
   "cell_type": "markdown",
   "metadata": {},
   "source": [
    "# Find the average number of comments of ask posts vs show posts"
   ]
  },
  {
   "cell_type": "code",
   "execution_count": 72,
   "metadata": {},
   "outputs": [
    {
     "name": "stdout",
     "output_type": "stream",
     "text": [
      "The number of ask posts is 1744\n",
      "The number of ask post comments is 24483\n",
      "The average number of ask post comments is 14.038417431192661\n",
      "The number of show posts is 1162\n",
      "The number of show post comments is 11988\n",
      "The average number of show post comments is 10.31669535283993\n"
     ]
    }
   ],
   "source": [
    "total_ask_comments = 0\n",
    "total_show_comments = 0\n",
    "total_other_comments = 0\n",
    "\n",
    "for row in hn:\n",
    "    num_comments = int(row[4])\n",
    "    title = row[1]\n",
    "    if title.lower().startswith('ask hn'):\n",
    "        total_ask_comments += num_comments\n",
    "    elif title.lower().startswith('show hn'):\n",
    "        total_show_comments += num_comments\n",
    "    else:\n",
    "        total_other_comments += num_comments\n",
    "\n",
    "avg_ask_comments = total_ask_comments/len(ask_posts)\n",
    "print('The number of ask posts is', len(ask_posts))\n",
    "print('The number of ask post comments is', total_ask_comments)\n",
    "print('The average number of ask post comments is', avg_ask_comments)\n",
    "        \n",
    "avg_show_comments = total_show_comments/len(show_posts)\n",
    "print('The number of show posts is', len(show_posts))\n",
    "print('The number of show post comments is', total_show_comments)\n",
    "print('The average number of show post comments is', avg_show_comments)\n"
   ]
  },
  {
   "cell_type": "markdown",
   "metadata": {},
   "source": [
    "It seems like the average number of ask comments is higher than the average number of show comments. This would likely make sense, as questions probably provoke more responses - show posts likely do not provoke so many responses."
   ]
  },
  {
   "cell_type": "markdown",
   "metadata": {},
   "source": [
    "# Analyzing number of ask posts and comments by hour"
   ]
  },
  {
   "cell_type": "code",
   "execution_count": 73,
   "metadata": {},
   "outputs": [
    {
     "name": "stdout",
     "output_type": "stream",
     "text": [
      "[['Ask HN: How to improve my personal website?', '8/16/2016 9:55', 6], ['Ask HN: Am I the only one outraged by Twitter shutting down share counts?', '11/22/2015 13:43', 29], ['Ask HN: Aby recent changes to CSS that broke mobile?', '5/2/2016 10:14', 1], ['Ask HN: Looking for Employee #3 How do I do it?', '8/2/2016 14:20', 3], ['Ask HN: Someone offered to buy my browser extension from me. What now?', '10/15/2015 16:38', 17]]\n"
     ]
    }
   ],
   "source": [
    "import datetime as dt\n",
    "\n",
    "result_list = []\n",
    "\n",
    "for row in hn:\n",
    "    title = row[1]\n",
    "    created = row[6]\n",
    "    num_comments = int(row[4])\n",
    "    new = [title, created, num_comments]\n",
    "    if str(title).lower().startswith('ask hn'):\n",
    "        result_list.append(new)\n",
    "\n",
    "print(result_list[0:5])\n"
   ]
  },
  {
   "cell_type": "code",
   "execution_count": 74,
   "metadata": {},
   "outputs": [
    {
     "name": "stdout",
     "output_type": "stream",
     "text": [
      "{'09': 45, '13': 85, '10': 59, '14': 107, '16': 108, '23': 68, '12': 73, '17': 100, '15': 116, '21': 109, '20': 80, '02': 58, '18': 109, '03': 54, '05': 46, '19': 110, '01': 60, '22': 71, '08': 48, '04': 47, '00': 55, '06': 44, '07': 34, '11': 58}\n",
      "\n",
      "\n",
      "{'09': 251, '13': 1253, '10': 793, '14': 1416, '16': 1814, '23': 543, '12': 687, '17': 1146, '15': 4477, '21': 1745, '20': 1722, '02': 1381, '18': 1439, '03': 421, '05': 464, '19': 1188, '01': 683, '22': 479, '08': 492, '04': 337, '00': 447, '06': 397, '07': 267, '11': 641}\n"
     ]
    }
   ],
   "source": [
    "counts_by_hour = {}\n",
    "comments_by_hour = {}\n",
    "form = (\"%m/%d/%Y  %H:%M\")\n",
    "\n",
    "for row in result_list:\n",
    "    d_str = row[1]\n",
    "    num_comments = row[2]\n",
    "    d_dt = dt.datetime.strptime(d_str, form)\n",
    "    hour_string = d_dt.strftime('%H')    \n",
    "    if hour_string in counts_by_hour:\n",
    "        counts_by_hour[hour_string] += 1\n",
    "        comments_by_hour[hour_string] += num_comments\n",
    "    else:\n",
    "        counts_by_hour[hour_string] = 1\n",
    "        comments_by_hour[hour_string] = num_comments\n",
    "\n",
    "print(counts_by_hour)\n",
    "print('\\n')\n",
    "print(comments_by_hour)"
   ]
  },
  {
   "cell_type": "markdown",
   "metadata": {},
   "source": [
    "# Finding the average number of comments by hour"
   ]
  },
  {
   "cell_type": "code",
   "execution_count": 75,
   "metadata": {},
   "outputs": [
    {
     "name": "stdout",
     "output_type": "stream",
     "text": [
      "[['09', 5.5777777777777775], ['13', 14.741176470588234], ['10', 13.440677966101696], ['14', 13.233644859813085], ['16', 16.796296296296298], ['23', 7.985294117647059], ['12', 9.41095890410959], ['17', 11.46], ['15', 38.5948275862069], ['21', 16.009174311926607], ['20', 21.525], ['02', 23.810344827586206], ['18', 13.20183486238532], ['03', 7.796296296296297], ['05', 10.08695652173913], ['19', 10.8], ['01', 11.383333333333333], ['22', 6.746478873239437], ['08', 10.25], ['04', 7.170212765957447], ['00', 8.127272727272727], ['06', 9.022727272727273], ['07', 7.852941176470588], ['11', 11.051724137931034]]\n"
     ]
    }
   ],
   "source": [
    "avg_by_hour = []\n",
    "\n",
    "for row in counts_by_hour:\n",
    "    avg_by_hour.append([row, comments_by_hour[row]/counts_by_hour[row]])\n",
    "\n",
    "print(avg_by_hour)"
   ]
  },
  {
   "cell_type": "markdown",
   "metadata": {},
   "source": [
    "# Sorting the list"
   ]
  },
  {
   "cell_type": "code",
   "execution_count": 76,
   "metadata": {},
   "outputs": [
    {
     "name": "stdout",
     "output_type": "stream",
     "text": [
      "[[5.5777777777777775, '09'], [14.741176470588234, '13'], [13.440677966101696, '10'], [13.233644859813085, '14'], [16.796296296296298, '16'], [7.985294117647059, '23'], [9.41095890410959, '12'], [11.46, '17'], [38.5948275862069, '15'], [16.009174311926607, '21'], [21.525, '20'], [23.810344827586206, '02'], [13.20183486238532, '18'], [7.796296296296297, '03'], [10.08695652173913, '05'], [10.8, '19'], [11.383333333333333, '01'], [6.746478873239437, '22'], [10.25, '08'], [7.170212765957447, '04'], [8.127272727272727, '00'], [9.022727272727273, '06'], [7.852941176470588, '07'], [11.051724137931034, '11']]\n"
     ]
    }
   ],
   "source": [
    "swap_avg_by_hour = []\n",
    "\n",
    "for row in avg_by_hour:\n",
    "    swap_avg_by_hour.append([row[1],row[0]])\n",
    "\n",
    "print(swap_avg_by_hour)"
   ]
  },
  {
   "cell_type": "code",
   "execution_count": 77,
   "metadata": {},
   "outputs": [
    {
     "name": "stdout",
     "output_type": "stream",
     "text": [
      "[[38.5948275862069, '15'], [23.810344827586206, '02'], [21.525, '20'], [16.796296296296298, '16'], [16.009174311926607, '21'], [14.741176470588234, '13'], [13.440677966101696, '10'], [13.233644859813085, '14'], [13.20183486238532, '18'], [11.46, '17'], [11.383333333333333, '01'], [11.051724137931034, '11'], [10.8, '19'], [10.25, '08'], [10.08695652173913, '05'], [9.41095890410959, '12'], [9.022727272727273, '06'], [8.127272727272727, '00'], [7.985294117647059, '23'], [7.852941176470588, '07'], [7.796296296296297, '03'], [7.170212765957447, '04'], [6.746478873239437, '22'], [5.5777777777777775, '09']]\n"
     ]
    }
   ],
   "source": [
    "sorted_swap = sorted(swap_avg_by_hour, reverse=True)\n",
    "print(sorted_swap)"
   ]
  },
  {
   "cell_type": "code",
   "execution_count": 78,
   "metadata": {},
   "outputs": [
    {
     "name": "stdout",
     "output_type": "stream",
     "text": [
      "Top 5 hours to post comments\n",
      "02:00: 23.810345 average comments.\n",
      "20:00: 21.525000 average comments.\n",
      "16:00: 16.796296 average comments.\n",
      "21:00: 16.009174 average comments.\n"
     ]
    }
   ],
   "source": [
    "print('Top 5 hours to post comments')\n",
    "for row in sorted_swap[1:5]:\n",
    "    str1 = row[1]\n",
    "    avg_com = row[0]\n",
    "    str1_dt = dt.datetime.strptime(str1, '%H')\n",
    "    str2 = str1_dt.strftime('%H:%M')\n",
    "    print('{}: {:2f} average comments.'.format(str2, avg_com))"
   ]
  },
  {
   "cell_type": "markdown",
   "metadata": {},
   "source": [
    "It seems like the best time to post a question in order to receive the highest number of responses/comments is 02:00am."
   ]
  },
  {
   "cell_type": "code",
   "execution_count": null,
   "metadata": {},
   "outputs": [],
   "source": []
  }
 ],
 "metadata": {
  "kernelspec": {
   "display_name": "Python 3",
   "language": "python",
   "name": "python3"
  },
  "language_info": {
   "codemirror_mode": {
    "name": "ipython",
    "version": 3
   },
   "file_extension": ".py",
   "mimetype": "text/x-python",
   "name": "python",
   "nbconvert_exporter": "python",
   "pygments_lexer": "ipython3",
   "version": "3.8.2"
  }
 },
 "nbformat": 4,
 "nbformat_minor": 4
}
