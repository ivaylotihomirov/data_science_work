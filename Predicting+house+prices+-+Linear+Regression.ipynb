{
 "cells": [
  {
   "cell_type": "code",
   "execution_count": 168,
   "metadata": {
    "collapsed": false,
    "scrolled": true
   },
   "outputs": [
    {
     "name": "stdout",
     "output_type": "stream",
     "text": [
      "   Order        PID  MS SubClass MS Zoning  Lot Frontage  Lot Area Street  \\\n",
      "0      1  526301100           20        RL         141.0     31770   Pave   \n",
      "1      2  526350040           20        RH          80.0     11622   Pave   \n",
      "2      3  526351010           20        RL          81.0     14267   Pave   \n",
      "3      4  526353030           20        RL          93.0     11160   Pave   \n",
      "4      5  527105010           60        RL          74.0     13830   Pave   \n",
      "\n",
      "  Alley Lot Shape Land Contour    ...     Pool Area Pool QC  Fence  \\\n",
      "0   NaN       IR1          Lvl    ...             0     NaN    NaN   \n",
      "1   NaN       Reg          Lvl    ...             0     NaN  MnPrv   \n",
      "2   NaN       IR1          Lvl    ...             0     NaN    NaN   \n",
      "3   NaN       Reg          Lvl    ...             0     NaN    NaN   \n",
      "4   NaN       IR1          Lvl    ...             0     NaN  MnPrv   \n",
      "\n",
      "  Misc Feature Misc Val Mo Sold Yr Sold Sale Type  Sale Condition  SalePrice  \n",
      "0          NaN        0       5    2010       WD           Normal     215000  \n",
      "1          NaN        0       6    2010       WD           Normal     105000  \n",
      "2         Gar2    12500       6    2010       WD           Normal     172000  \n",
      "3          NaN        0       4    2010       WD           Normal     244000  \n",
      "4          NaN        0       3    2010       WD           Normal     189900  \n",
      "\n",
      "[5 rows x 82 columns]\n"
     ]
    }
   ],
   "source": [
    "import pandas as pd\n",
    "import numpy as np\n",
    "import matplotlib.pyplot as plt\n",
    "from sklearn.linear_model import LinearRegression\n",
    "from sklearn.metrics import mean_squared_error\n",
    "\n",
    "data = pd.read_csv(\"AmesHousing.tsv\", sep= '\\t')\n",
    "\n",
    "print(data.head())"
   ]
  },
  {
   "cell_type": "code",
   "execution_count": 169,
   "metadata": {
    "collapsed": false
   },
   "outputs": [
    {
     "data": {
      "text/plain": [
       "(2930, 82)"
      ]
     },
     "execution_count": 169,
     "metadata": {},
     "output_type": "execute_result"
    }
   ],
   "source": [
    "data.shape"
   ]
  },
  {
   "cell_type": "markdown",
   "metadata": {},
   "source": [
    "1) Create a function named transform_features() that, for now, just returns the train data frame.\n",
    "\n",
    "2) Create a function named select_features() that, for now, just returns the Gr Liv Area and SalePrice columns from the train data frame.\n",
    "\n",
    "3) Create a function named train_and_test() \n",
    "\n",
    "Selects the first 1460 rows from from data and assign to train.\n",
    "Selects the remaining rows from data and assign to test.\n",
    "Trains a model using all numerical columns except the SalePrice column (the target column) from the data frame returned from select_features()\n",
    "Tests the model on the test set and returns the RMSE value."
   ]
  },
  {
   "cell_type": "code",
   "execution_count": 170,
   "metadata": {
    "collapsed": true
   },
   "outputs": [],
   "source": [
    "def transform_features(frame):\n",
    "    train = frame.loc[:1500]\n",
    "    return train"
   ]
  },
  {
   "cell_type": "code",
   "execution_count": 171,
   "metadata": {
    "collapsed": false
   },
   "outputs": [
    {
     "data": {
      "text/plain": [
       "(1501, 82)"
      ]
     },
     "execution_count": 171,
     "metadata": {},
     "output_type": "execute_result"
    }
   ],
   "source": [
    "train = transform_features(data)\n",
    "train.shape"
   ]
  },
  {
   "cell_type": "code",
   "execution_count": 172,
   "metadata": {
    "collapsed": true
   },
   "outputs": [],
   "source": [
    "def select_features(frame):\n",
    "    \n",
    "    temp = frame.isna().sum()\n",
    "    temp2 = temp[(temp > 0) & (temp < 0.05*len(frame))].index\n",
    "    frame[temp2] = frame[temp2].fillna(frame[temp2].mean())\n",
    "    frame['years_since_remod'] = frame['Yr Sold'] - frame['Year Remod/Add']\n",
    "    \n",
    "    dummies = pd.get_dummies(frame['MS Zoning'],prefix_sep='_')\n",
    "    frame2 = pd.concat([frame, dummies], axis=1)\n",
    "    \n",
    "    res = frame2[['RM','RL','years_since_remod','Gr Liv Area','SalePrice']]\n",
    "    return res"
   ]
  },
  {
   "cell_type": "code",
   "execution_count": 173,
   "metadata": {
    "collapsed": false
   },
   "outputs": [
    {
     "name": "stderr",
     "output_type": "stream",
     "text": [
      "/dataquest/system/env/python3/lib/python3.4/site-packages/pandas/core/frame.py:2540: SettingWithCopyWarning:\n",
      "\n",
      "\n",
      "A value is trying to be set on a copy of a slice from a DataFrame.\n",
      "Try using .loc[row_indexer,col_indexer] = value instead\n",
      "\n",
      "See the caveats in the documentation: http://pandas.pydata.org/pandas-docs/stable/indexing.html#indexing-view-versus-copy\n",
      "\n"
     ]
    },
    {
     "name": "stdout",
     "output_type": "stream",
     "text": [
      "   RM  RL  years_since_remod  Gr Liv Area  SalePrice\n",
      "0   0   1                 50         1656     215000\n",
      "1   0   0                 49          896     105000\n",
      "2   0   1                 52         1329     172000\n",
      "3   0   1                 42         2110     244000\n",
      "4   0   1                 12         1629     189900\n"
     ]
    },
    {
     "name": "stderr",
     "output_type": "stream",
     "text": [
      "/dataquest/system/env/python3/lib/python3.4/site-packages/ipykernel/__main__.py:6: SettingWithCopyWarning:\n",
      "\n",
      "\n",
      "A value is trying to be set on a copy of a slice from a DataFrame.\n",
      "Try using .loc[row_indexer,col_indexer] = value instead\n",
      "\n",
      "See the caveats in the documentation: http://pandas.pydata.org/pandas-docs/stable/indexing.html#indexing-view-versus-copy\n",
      "\n"
     ]
    }
   ],
   "source": [
    "train_columns = select_features(train)\n",
    "print(train_columns.head())"
   ]
  },
  {
   "cell_type": "markdown",
   "metadata": {},
   "source": [
    "Testing"
   ]
  },
  {
   "cell_type": "markdown",
   "metadata": {
    "collapsed": false
   },
   "source": [
    "train_new = data[:1460]\n",
    "print(len(train_new))\n",
    "\n",
    "temp = train_new.dtypes == object\n",
    "\n",
    "train_new[temp].info()"
   ]
  },
  {
   "cell_type": "markdown",
   "metadata": {
    "collapsed": true
   },
   "source": [
    "Correlation"
   ]
  },
  {
   "cell_type": "code",
   "execution_count": 174,
   "metadata": {
    "collapsed": false
   },
   "outputs": [
    {
     "name": "stdout",
     "output_type": "stream",
     "text": [
      "<class 'pandas.core.frame.DataFrame'>\n",
      "RangeIndex: 1460 entries, 0 to 1459\n",
      "Data columns (total 82 columns):\n",
      "Order              1460 non-null int64\n",
      "PID                1460 non-null int64\n",
      "MS SubClass        1460 non-null int64\n",
      "MS Zoning          1460 non-null object\n",
      "Lot Frontage       1211 non-null float64\n",
      "Lot Area           1460 non-null int64\n",
      "Street             1460 non-null object\n",
      "Alley              109 non-null object\n",
      "Lot Shape          1460 non-null object\n",
      "Land Contour       1460 non-null object\n",
      "Utilities          1460 non-null object\n",
      "Lot Config         1460 non-null object\n",
      "Land Slope         1460 non-null object\n",
      "Neighborhood       1460 non-null object\n",
      "Condition 1        1460 non-null object\n",
      "Condition 2        1460 non-null object\n",
      "Bldg Type          1460 non-null object\n",
      "House Style        1460 non-null object\n",
      "Overall Qual       1460 non-null int64\n",
      "Overall Cond       1460 non-null int64\n",
      "Year Built         1460 non-null int64\n",
      "Year Remod/Add     1460 non-null int64\n",
      "Roof Style         1460 non-null object\n",
      "Roof Matl          1460 non-null object\n",
      "Exterior 1st       1460 non-null object\n",
      "Exterior 2nd       1460 non-null object\n",
      "Mas Vnr Type       1449 non-null object\n",
      "Mas Vnr Area       1460 non-null float64\n",
      "Exter Qual         1460 non-null object\n",
      "Exter Cond         1460 non-null object\n",
      "Foundation         1460 non-null object\n",
      "Bsmt Qual          1420 non-null object\n",
      "Bsmt Cond          1420 non-null object\n",
      "Bsmt Exposure      1419 non-null object\n",
      "BsmtFin Type 1     1420 non-null object\n",
      "BsmtFin SF 1       1460 non-null float64\n",
      "BsmtFin Type 2     1419 non-null object\n",
      "BsmtFin SF 2       1460 non-null float64\n",
      "Bsmt Unf SF        1460 non-null float64\n",
      "Total Bsmt SF      1460 non-null float64\n",
      "Heating            1460 non-null object\n",
      "Heating QC         1460 non-null object\n",
      "Central Air        1460 non-null object\n",
      "Electrical         1460 non-null object\n",
      "1st Flr SF         1460 non-null int64\n",
      "2nd Flr SF         1460 non-null int64\n",
      "Low Qual Fin SF    1460 non-null int64\n",
      "Gr Liv Area        1460 non-null int64\n",
      "Bsmt Full Bath     1460 non-null float64\n",
      "Bsmt Half Bath     1460 non-null float64\n",
      "Full Bath          1460 non-null int64\n",
      "Half Bath          1460 non-null int64\n",
      "Bedroom AbvGr      1460 non-null int64\n",
      "Kitchen AbvGr      1460 non-null int64\n",
      "Kitchen Qual       1460 non-null object\n",
      "TotRms AbvGrd      1460 non-null int64\n",
      "Functional         1460 non-null object\n",
      "Fireplaces         1460 non-null int64\n",
      "Fireplace Qu       743 non-null object\n",
      "Garage Type        1386 non-null object\n",
      "Garage Yr Blt      1385 non-null float64\n",
      "Garage Finish      1385 non-null object\n",
      "Garage Cars        1460 non-null float64\n",
      "Garage Area        1460 non-null float64\n",
      "Garage Qual        1385 non-null object\n",
      "Garage Cond        1385 non-null object\n",
      "Paved Drive        1460 non-null object\n",
      "Wood Deck SF       1460 non-null int64\n",
      "Open Porch SF      1460 non-null int64\n",
      "Enclosed Porch     1460 non-null int64\n",
      "3Ssn Porch         1460 non-null int64\n",
      "Screen Porch       1460 non-null int64\n",
      "Pool Area          1460 non-null int64\n",
      "Pool QC            1 non-null object\n",
      "Fence              297 non-null object\n",
      "Misc Feature       60 non-null object\n",
      "Misc Val           1460 non-null int64\n",
      "Mo Sold            1460 non-null int64\n",
      "Yr Sold            1460 non-null int64\n",
      "Sale Type          1460 non-null object\n",
      "Sale Condition     1460 non-null object\n",
      "SalePrice          1460 non-null int64\n",
      "dtypes: float64(11), int64(28), object(43)\n",
      "memory usage: 935.4+ KB\n"
     ]
    }
   ],
   "source": [
    "train_new = data[:1460]\n",
    "train_new.info()"
   ]
  },
  {
   "cell_type": "markdown",
   "metadata": {},
   "source": [
    "Dummy variables"
   ]
  },
  {
   "cell_type": "code",
   "execution_count": 175,
   "metadata": {
    "collapsed": false
   },
   "outputs": [
    {
     "name": "stdout",
     "output_type": "stream",
     "text": [
      "<class 'pandas.core.frame.DataFrame'>\n",
      "RangeIndex: 1460 entries, 0 to 1459\n",
      "Data columns (total 88 columns):\n",
      "Order              1460 non-null int64\n",
      "PID                1460 non-null int64\n",
      "MS SubClass        1460 non-null int64\n",
      "MS Zoning          1460 non-null object\n",
      "Lot Frontage       1211 non-null float64\n",
      "Lot Area           1460 non-null int64\n",
      "Street             1460 non-null object\n",
      "Alley              109 non-null object\n",
      "Lot Shape          1460 non-null object\n",
      "Land Contour       1460 non-null object\n",
      "Utilities          1460 non-null object\n",
      "Lot Config         1460 non-null object\n",
      "Land Slope         1460 non-null object\n",
      "Neighborhood       1460 non-null object\n",
      "Condition 1        1460 non-null object\n",
      "Condition 2        1460 non-null object\n",
      "Bldg Type          1460 non-null object\n",
      "House Style        1460 non-null object\n",
      "Overall Qual       1460 non-null int64\n",
      "Overall Cond       1460 non-null int64\n",
      "Year Built         1460 non-null int64\n",
      "Year Remod/Add     1460 non-null int64\n",
      "Roof Style         1460 non-null object\n",
      "Roof Matl          1460 non-null object\n",
      "Exterior 1st       1460 non-null object\n",
      "Exterior 2nd       1460 non-null object\n",
      "Mas Vnr Type       1449 non-null object\n",
      "Mas Vnr Area       1460 non-null float64\n",
      "Exter Qual         1460 non-null object\n",
      "Exter Cond         1460 non-null object\n",
      "Foundation         1460 non-null object\n",
      "Bsmt Qual          1420 non-null object\n",
      "Bsmt Cond          1420 non-null object\n",
      "Bsmt Exposure      1419 non-null object\n",
      "BsmtFin Type 1     1420 non-null object\n",
      "BsmtFin SF 1       1460 non-null float64\n",
      "BsmtFin Type 2     1419 non-null object\n",
      "BsmtFin SF 2       1460 non-null float64\n",
      "Bsmt Unf SF        1460 non-null float64\n",
      "Total Bsmt SF      1460 non-null float64\n",
      "Heating            1460 non-null object\n",
      "Heating QC         1460 non-null object\n",
      "Central Air        1460 non-null object\n",
      "Electrical         1460 non-null object\n",
      "1st Flr SF         1460 non-null int64\n",
      "2nd Flr SF         1460 non-null int64\n",
      "Low Qual Fin SF    1460 non-null int64\n",
      "Gr Liv Area        1460 non-null int64\n",
      "Bsmt Full Bath     1460 non-null float64\n",
      "Bsmt Half Bath     1460 non-null float64\n",
      "Full Bath          1460 non-null int64\n",
      "Half Bath          1460 non-null int64\n",
      "Bedroom AbvGr      1460 non-null int64\n",
      "Kitchen AbvGr      1460 non-null int64\n",
      "Kitchen Qual       1460 non-null object\n",
      "TotRms AbvGrd      1460 non-null int64\n",
      "Functional         1460 non-null object\n",
      "Fireplaces         1460 non-null int64\n",
      "Fireplace Qu       743 non-null object\n",
      "Garage Type        1386 non-null object\n",
      "Garage Yr Blt      1385 non-null float64\n",
      "Garage Finish      1385 non-null object\n",
      "Garage Cars        1460 non-null float64\n",
      "Garage Area        1460 non-null float64\n",
      "Garage Qual        1385 non-null object\n",
      "Garage Cond        1385 non-null object\n",
      "Paved Drive        1460 non-null object\n",
      "Wood Deck SF       1460 non-null int64\n",
      "Open Porch SF      1460 non-null int64\n",
      "Enclosed Porch     1460 non-null int64\n",
      "3Ssn Porch         1460 non-null int64\n",
      "Screen Porch       1460 non-null int64\n",
      "Pool Area          1460 non-null int64\n",
      "Pool QC            1 non-null object\n",
      "Fence              297 non-null object\n",
      "Misc Feature       60 non-null object\n",
      "Misc Val           1460 non-null int64\n",
      "Mo Sold            1460 non-null int64\n",
      "Yr Sold            1460 non-null int64\n",
      "Sale Type          1460 non-null object\n",
      "Sale Condition     1460 non-null object\n",
      "SalePrice          1460 non-null int64\n",
      "C (all)            1460 non-null uint8\n",
      "FV                 1460 non-null uint8\n",
      "I (all)            1460 non-null uint8\n",
      "RH                 1460 non-null uint8\n",
      "RL                 1460 non-null uint8\n",
      "RM                 1460 non-null uint8\n",
      "dtypes: float64(11), int64(28), object(43), uint8(6)\n",
      "memory usage: 943.9+ KB\n",
      "None\n"
     ]
    }
   ],
   "source": [
    "dummies = pd.get_dummies(train_new['MS Zoning'],prefix_sep='_')\n",
    "train_new = pd.concat([train_new, dummies], axis=1)\n",
    "\n",
    "print(train_new.info())"
   ]
  },
  {
   "cell_type": "code",
   "execution_count": 176,
   "metadata": {
    "collapsed": false
   },
   "outputs": [
    {
     "name": "stdout",
     "output_type": "stream",
     "text": [
      "                  C (all)        FV   I (all)        RH        RL        RM  \\\n",
      "C (all)          1.000000 -0.020389 -0.002174 -0.007236 -0.151597 -0.036096   \n",
      "FV              -0.020389  1.000000 -0.006428 -0.021391 -0.448174 -0.106713   \n",
      "I (all)         -0.002174 -0.006428  1.000000 -0.002281 -0.047791 -0.011379   \n",
      "RH              -0.007236 -0.021391 -0.002281  1.000000 -0.159051 -0.037871   \n",
      "RL              -0.151597 -0.448174 -0.047791 -0.159051  1.000000 -0.793450   \n",
      "RM              -0.036096 -0.106713 -0.011379 -0.037871 -0.793450  1.000000   \n",
      "Low Qual Fin SF  0.082178 -0.023310 -0.002486 -0.008272 -0.074037  0.083691   \n",
      "Pool Area       -0.002174 -0.006428 -0.000685 -0.002281  0.014342 -0.011379   \n",
      "Lot Area        -0.022490 -0.115608  0.043619 -0.032284  0.243875 -0.198268   \n",
      "Gr Liv Area     -0.076062  0.044944 -0.038039 -0.028840  0.116440 -0.135967   \n",
      "SalePrice       -0.119552  0.134572 -0.040757 -0.058859  0.242141 -0.320506   \n",
      "\n",
      "                 Low Qual Fin SF  Pool Area  Lot Area  Gr Liv Area  SalePrice  \n",
      "C (all)                 0.082178  -0.002174 -0.022490    -0.076062  -0.119552  \n",
      "FV                     -0.023310  -0.006428 -0.115608     0.044944   0.134572  \n",
      "I (all)                -0.002486  -0.000685  0.043619    -0.038039  -0.040757  \n",
      "RH                     -0.008272  -0.002281 -0.032284    -0.028840  -0.058859  \n",
      "RL                     -0.074037   0.014342  0.243875     0.116440   0.242141  \n",
      "RM                      0.083691  -0.011379 -0.198268    -0.135967  -0.320506  \n",
      "Low Qual Fin SF         1.000000  -0.002486 -0.013667     0.075539  -0.060352  \n",
      "Pool Area              -0.002486   1.000000  0.010442     0.054693   0.145474  \n",
      "Lot Area               -0.013667   0.010442  1.000000     0.239224   0.274730  \n",
      "Gr Liv Area             0.075539   0.054693  0.239224     1.000000   0.698990  \n",
      "SalePrice              -0.060352   0.145474  0.274730     0.698990   1.000000  \n"
     ]
    }
   ],
   "source": [
    "corr = train_new[['C (all)','FV','I (all)','RH','RL','RM','Low Qual Fin SF','Pool Area','Lot Area','Gr Liv Area','SalePrice']].corr()\n",
    "print(corr)"
   ]
  },
  {
   "cell_type": "code",
   "execution_count": 177,
   "metadata": {
    "collapsed": false
   },
   "outputs": [
    {
     "data": {
      "text/plain": [
       "<matplotlib.axes._subplots.AxesSubplot at 0x7f9438d82470>"
      ]
     },
     "execution_count": 177,
     "metadata": {},
     "output_type": "execute_result"
    },
    {
     "data": {
      "image/png": "[encoded data removed]",
      "text/plain": [
       "<matplotlib.figure.Figure at 0x7f9438cf0ba8>"
      ]
     },
     "metadata": {},
     "output_type": "display_data"
    }
   ],
   "source": [
    "import seaborn as sns\n",
    "import matplotlib.pyplot as plt\n",
    "%matplotlib inline\n",
    "\n",
    "sns.heatmap(corr)"
   ]
  },
  {
   "cell_type": "markdown",
   "metadata": {},
   "source": [
    "MS Zoning_RM, MS Zoning_RL, Gr Liv Area, Lot Area seem to be most correlated with SalePrice. "
   ]
  },
  {
   "cell_type": "code",
   "execution_count": 178,
   "metadata": {
    "collapsed": false
   },
   "outputs": [],
   "source": [
    "def train_and_test(data, k):\n",
    "    if k == 0:\n",
    "        train = data[:1460]\n",
    "        test = data[1460:]\n",
    "    \n",
    "        train_select = select_features(train)\n",
    "        test_select = select_features(test)\n",
    "   \n",
    "        x_train = train_select.iloc[:,:-1]\n",
    "        y_train = train_select.iloc[:,-1]\n",
    "        \n",
    "        x_test = test_select.iloc[:,:-1]\n",
    "        y_test = test_select.iloc[:,-1]\n",
    "    \n",
    "        lr = LinearRegression()\n",
    "    \n",
    "        lr.fit(X=x_train, y=y_train)\n",
    "        predictions = lr.predict(x_test)\n",
    "    \n",
    "        mse = mean_squared_error(predictions, y_test)\n",
    "        rmse = np.sqrt(mse)\n",
    "        return rmse\n",
    "    \n",
    "    elif k == 1:\n",
    "        data = data.sample(frac=1).reset_index(drop=True)\n",
    "        fold_one = data[:1460]\n",
    "        fold_two = data[1460:]\n",
    "        \n",
    "        rmses = []\n",
    "        \n",
    "        # training on fold 1\n",
    "        \n",
    "        fold_one_select = select_features(fold_one)\n",
    "        fold_two_select = select_features(fold_two)\n",
    "        x_train = fold_one_select.iloc[:,:-1]\n",
    "        y_train = fold_one_select.iloc[:,-1]\n",
    "        x_test = fold_two_select.iloc[:,:-1]\n",
    "        y_test = fold_two_select.iloc[:,-1]\n",
    "    \n",
    "        lr = LinearRegression()\n",
    "        lr.fit(X=x_train, y=y_train)\n",
    "        predictions = lr.predict(x_test)\n",
    "    \n",
    "        mse = mean_squared_error(predictions, y_test)\n",
    "        rmse = np.sqrt(mse)\n",
    "        rmses.append(rmse)\n",
    "        \n",
    "        # training on fold 2\n",
    "        \n",
    "        x_train = fold_two_select.iloc[:,:-1]\n",
    "        y_train = fold_two_select.iloc[:,-1]\n",
    "        x_test = fold_one_select.iloc[:,:-1]\n",
    "        y_test = fold_one_select.iloc[:,-1]\n",
    "    \n",
    "        lr = LinearRegression()\n",
    "        lr.fit(X=x_train, y=y_train)\n",
    "        predictions = lr.predict(x_test)\n",
    "    \n",
    "        mse = mean_squared_error(predictions, y_test)\n",
    "        rmse = np.sqrt(mse)\n",
    "        rmses.append(rmse)\n",
    "        \n",
    "        # return the average rmse\n",
    "        \n",
    "        rmse = np.mean(rmses)\n",
    "        \n",
    "        return rmse\n",
    "    elif k > 1:\n",
    "        from sklearn.model_selection import KFold\n",
    "        from sklearn.model_selection import cross_val_score\n",
    "        \n",
    "        kf = KFold(n_splits=k)\n",
    "        model = LinearRegression()\n",
    "       \n",
    "        data_select = select_features(data)\n",
    "    \n",
    "        X = data_select.iloc[:,:-1]\n",
    "        Y = data_select.iloc[:,-1]\n",
    "        \n",
    "        rmse = cross_val_score(model, X, Y, scoring='neg_mean_squared_error',\n",
    "                         cv=kf)\n",
    "        \n",
    "        return np.mean(np.sqrt(-rmse))"
   ]
  },
  {
   "cell_type": "code",
   "execution_count": 179,
   "metadata": {
    "collapsed": false,
    "scrolled": true
   },
   "outputs": [
    {
     "name": "stdout",
     "output_type": "stream",
     "text": [
      "48927.14666867892\n"
     ]
    }
   ],
   "source": [
    "rmse = train_and_test(data, 5)\n",
    "print(rmse)"
   ]
  },
  {
   "cell_type": "markdown",
   "metadata": {},
   "source": [
    "Testing out k=0, k=1, k>1, it seems like k>1 yields the lowest rmse - the best model."
   ]
  },
  {
   "cell_type": "code",
   "execution_count": null,
   "metadata": {
    "collapsed": true
   },
   "outputs": [],
   "source": []
  }
 ],
 "metadata": {
  "kernelspec": {
   "display_name": "Python 3",
   "language": "python",
   "name": "python3"
  },
  "language_info": {
   "codemirror_mode": {
    "name": "ipython",
    "version": 3
   },
   "file_extension": ".py",
   "mimetype": "text/x-python",
   "name": "python",
   "nbconvert_exporter": "python",
   "pygments_lexer": "ipython3",
   "version": "3.4.3"
  }
 },
 "nbformat": 4,
 "nbformat_minor": 4
}
